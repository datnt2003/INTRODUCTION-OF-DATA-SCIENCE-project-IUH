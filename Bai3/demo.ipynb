{
 "cells": [
  {
   "cell_type": "code",
   "execution_count": 13,
   "metadata": {},
   "outputs": [],
   "source": [
    "import requests\n",
    "from bs4 import BeautifulSoup\n",
    "import re\n",
    "import pandas as pd\n",
    "url = 'http://quotes.toscrape.com/'"
   ]
  },
  {
   "attachments": {},
   "cell_type": "markdown",
   "metadata": {},
   "source": [
    "# Function"
   ]
  },
  {
   "cell_type": "code",
   "execution_count": 14,
   "metadata": {},
   "outputs": [],
   "source": [
    "def input_file(file, soup):\n",
    "    f = open(file, 'w', encoding='utf-8')\n",
    "    f.write(soup.prettify())\n",
    "    f.close()\n"
   ]
  },
  {
   "cell_type": "code",
   "execution_count": 27,
   "metadata": {},
   "outputs": [],
   "source": [
    "def input_file_2(authors, links, birthdates, texts):\n",
    "    # f = open(file, 'a+')\n",
    "    data = pd.DataFrame(columns=['Tacgia', 'Link', 'Namsinh', 'Quote'])\n",
    "    \n",
    "    for i in range(len(links)):\n",
    "        data.loc[i] = [authors[i],str(links[i]), str(birthdates[i]),  str(texts[i])]\n",
    "    data.to_csv(r'D:\\IntroDS\\final_project\\Bai3\\Quotes.csv')\n",
    "def tacgiaLink(results, authors,texts,birthdates, links):\n",
    "    for result in results:\n",
    "        author = result.find('small', class_='author')\n",
    "        authors.append(author.text)\n",
    "        text = result.find('span', class_='text')\n",
    "        texts.append(text.text)\n",
    "        link = result.find_all('a',{'href' : re.compile(\"/author/.+\")})\n",
    "        url_sub = 'http://quotes.toscrape.com/'\n",
    "        url_sub = url_sub+str(link[0]['href'])\n",
    "        links.append(url_sub)\n",
    "        page_sub = requests.get(url_sub)\n",
    "        soup_sub = BeautifulSoup(page_sub.text, 'html.parser')\n",
    "        birthdate = soup_sub.find('span', class_='author-born-date')\n",
    "        if birthdate is None:\n",
    "            birthdates.append('Unknown')\n",
    "        else:\n",
    "            birthdates.append(birthdate.text)\n",
    "        print(str(author.text) + '\\t' + str(url_sub) + '\\t' + str(birthdate.text) + '\\t' + str(text.text))\n",
    "    return authors,texts,birthdates, links\n",
    "    "
   ]
  },
  {
   "attachments": {},
   "cell_type": "markdown",
   "metadata": {},
   "source": [
    "# Cau 3.1.1"
   ]
  },
  {
   "cell_type": "code",
   "execution_count": 28,
   "metadata": {},
   "outputs": [],
   "source": [
    "html = requests.get(url)\n",
    "soup = BeautifulSoup(html.text, 'html.parser')\n",
    "input_file('kq.txt', soup)\n"
   ]
  },
  {
   "attachments": {},
   "cell_type": "markdown",
   "metadata": {},
   "source": [
    "Trang web này được gọi là \"Quotes to Scrape\".\n",
    "Trang web có một tiêu đề, một thanh điều hướng trên đầu trang và phần thân của trang được chia thành hai cột. Cột bên trái chứa danh sách trích dẫn và cột bên phải có một hình ảnh và mô tả về trang web. Cuối trang web là chân trang chứa thông tin về tác giả và liên kết đến trang login. Cấu trúc của trang web được viết bằng ngôn ngữ đánh dấu siêu văn bản HTML và được định dạng bằng CSS."
   ]
  },
  {
   "attachments": {},
   "cell_type": "markdown",
   "metadata": {},
   "source": [
    "# Cau 3.1.2"
   ]
  },
  {
   "attachments": {},
   "cell_type": "markdown",
   "metadata": {},
   "source": [
    "* a"
   ]
  },
  {
   "cell_type": "code",
   "execution_count": 29,
   "metadata": {},
   "outputs": [],
   "source": [
    "results = soup.find_all('div', class_='quote')\n",
    "# print(result)\n",
    "\n"
   ]
  },
  {
   "attachments": {},
   "cell_type": "markdown",
   "metadata": {},
   "source": [
    "* b "
   ]
  },
  {
   "cell_type": "code",
   "execution_count": 30,
   "metadata": {},
   "outputs": [],
   "source": [
    "authors = []\n",
    "for result in results:\n",
    "    author = result.find('small', class_='author')\n",
    "    authors.append(author.text)\n",
    "# for i in range(len(authors)):\n",
    "    # print('Author:',authors[i])\n"
   ]
  },
  {
   "attachments": {},
   "cell_type": "markdown",
   "metadata": {},
   "source": [
    "* c"
   ]
  },
  {
   "cell_type": "code",
   "execution_count": 31,
   "metadata": {},
   "outputs": [
    {
     "name": "stdout",
     "output_type": "stream",
     "text": [
      "Albert Einstein\thttp://quotes.toscrape.com//author/Albert-Einstein\tMarch 14, 1879\t“The world as we have created it is a process of our thinking. It cannot be changed without changing our thinking.”\n",
      "J.K. Rowling\thttp://quotes.toscrape.com//author/J-K-Rowling\tJuly 31, 1965\t“It is our choices, Harry, that show what we truly are, far more than our abilities.”\n",
      "Albert Einstein\thttp://quotes.toscrape.com//author/Albert-Einstein\tMarch 14, 1879\t“There are only two ways to live your life. One is as though nothing is a miracle. The other is as though everything is a miracle.”\n",
      "Jane Austen\thttp://quotes.toscrape.com//author/Jane-Austen\tDecember 16, 1775\t“The person, be it gentleman or lady, who has not pleasure in a good novel, must be intolerably stupid.”\n",
      "Marilyn Monroe\thttp://quotes.toscrape.com//author/Marilyn-Monroe\tJune 01, 1926\t“Imperfection is beauty, madness is genius and it's better to be absolutely ridiculous than absolutely boring.”\n",
      "Albert Einstein\thttp://quotes.toscrape.com//author/Albert-Einstein\tMarch 14, 1879\t“Try not to become a man of success. Rather become a man of value.”\n",
      "André Gide\thttp://quotes.toscrape.com//author/Andre-Gide\tNovember 22, 1869\t“It is better to be hated for what you are than to be loved for what you are not.”\n",
      "Thomas A. Edison\thttp://quotes.toscrape.com//author/Thomas-A-Edison\tFebruary 11, 1847\t“I have not failed. I've just found 10,000 ways that won't work.”\n",
      "Eleanor Roosevelt\thttp://quotes.toscrape.com//author/Eleanor-Roosevelt\tOctober 11, 1884\t“A woman is like a tea bag; you never know how strong it is until it's in hot water.”\n",
      "Steve Martin\thttp://quotes.toscrape.com//author/Steve-Martin\tAugust 14, 1945\t“A day without sunshine is like, you know, night.”\n"
     ]
    },
    {
     "data": {
      "text/plain": [
       "(['Albert Einstein',\n",
       "  'J.K. Rowling',\n",
       "  'Albert Einstein',\n",
       "  'Jane Austen',\n",
       "  'Marilyn Monroe',\n",
       "  'Albert Einstein',\n",
       "  'André Gide',\n",
       "  'Thomas A. Edison',\n",
       "  'Eleanor Roosevelt',\n",
       "  'Steve Martin'],\n",
       " ['“The world as we have created it is a process of our thinking. It cannot be changed without changing our thinking.”',\n",
       "  '“It is our choices, Harry, that show what we truly are, far more than our abilities.”',\n",
       "  '“There are only two ways to live your life. One is as though nothing is a miracle. The other is as though everything is a miracle.”',\n",
       "  '“The person, be it gentleman or lady, who has not pleasure in a good novel, must be intolerably stupid.”',\n",
       "  \"“Imperfection is beauty, madness is genius and it's better to be absolutely ridiculous than absolutely boring.”\",\n",
       "  '“Try not to become a man of success. Rather become a man of value.”',\n",
       "  '“It is better to be hated for what you are than to be loved for what you are not.”',\n",
       "  \"“I have not failed. I've just found 10,000 ways that won't work.”\",\n",
       "  \"“A woman is like a tea bag; you never know how strong it is until it's in hot water.”\",\n",
       "  '“A day without sunshine is like, you know, night.”'],\n",
       " ['March 14, 1879',\n",
       "  'July 31, 1965',\n",
       "  'March 14, 1879',\n",
       "  'December 16, 1775',\n",
       "  'June 01, 1926',\n",
       "  'March 14, 1879',\n",
       "  'November 22, 1869',\n",
       "  'February 11, 1847',\n",
       "  'October 11, 1884',\n",
       "  'August 14, 1945'],\n",
       " ['http://quotes.toscrape.com//author/Albert-Einstein',\n",
       "  'http://quotes.toscrape.com//author/J-K-Rowling',\n",
       "  'http://quotes.toscrape.com//author/Albert-Einstein',\n",
       "  'http://quotes.toscrape.com//author/Jane-Austen',\n",
       "  'http://quotes.toscrape.com//author/Marilyn-Monroe',\n",
       "  'http://quotes.toscrape.com//author/Albert-Einstein',\n",
       "  'http://quotes.toscrape.com//author/Andre-Gide',\n",
       "  'http://quotes.toscrape.com//author/Thomas-A-Edison',\n",
       "  'http://quotes.toscrape.com//author/Eleanor-Roosevelt',\n",
       "  'http://quotes.toscrape.com//author/Steve-Martin'])"
      ]
     },
     "execution_count": 31,
     "metadata": {},
     "output_type": "execute_result"
    }
   ],
   "source": [
    "authors = []\n",
    "texts = []\n",
    "birthdates = []\n",
    "links = []\n",
    "tacgiaLink(results, authors,texts,birthdates, links)"
   ]
  },
  {
   "attachments": {},
   "cell_type": "markdown",
   "metadata": {},
   "source": [
    "* d"
   ]
  },
  {
   "cell_type": "code",
   "execution_count": 32,
   "metadata": {},
   "outputs": [
    {
     "name": "stdout",
     "output_type": "stream",
     "text": [
      "Albert Einstein\thttp://quotes.toscrape.com//author/Albert-Einstein\tMarch 14, 1879\t“The world as we have created it is a process of our thinking. It cannot be changed without changing our thinking.”\n",
      "J.K. Rowling\thttp://quotes.toscrape.com//author/J-K-Rowling\tJuly 31, 1965\t“It is our choices, Harry, that show what we truly are, far more than our abilities.”\n",
      "Albert Einstein\thttp://quotes.toscrape.com//author/Albert-Einstein\tMarch 14, 1879\t“There are only two ways to live your life. One is as though nothing is a miracle. The other is as though everything is a miracle.”\n",
      "Jane Austen\thttp://quotes.toscrape.com//author/Jane-Austen\tDecember 16, 1775\t“The person, be it gentleman or lady, who has not pleasure in a good novel, must be intolerably stupid.”\n",
      "Marilyn Monroe\thttp://quotes.toscrape.com//author/Marilyn-Monroe\tJune 01, 1926\t“Imperfection is beauty, madness is genius and it's better to be absolutely ridiculous than absolutely boring.”\n",
      "Albert Einstein\thttp://quotes.toscrape.com//author/Albert-Einstein\tMarch 14, 1879\t“Try not to become a man of success. Rather become a man of value.”\n",
      "André Gide\thttp://quotes.toscrape.com//author/Andre-Gide\tNovember 22, 1869\t“It is better to be hated for what you are than to be loved for what you are not.”\n",
      "Thomas A. Edison\thttp://quotes.toscrape.com//author/Thomas-A-Edison\tFebruary 11, 1847\t“I have not failed. I've just found 10,000 ways that won't work.”\n",
      "Eleanor Roosevelt\thttp://quotes.toscrape.com//author/Eleanor-Roosevelt\tOctober 11, 1884\t“A woman is like a tea bag; you never know how strong it is until it's in hot water.”\n",
      "Steve Martin\thttp://quotes.toscrape.com//author/Steve-Martin\tAugust 14, 1945\t“A day without sunshine is like, you know, night.”\n",
      "########################1############################\n",
      "Marilyn Monroe\thttp://quotes.toscrape.com//author/Marilyn-Monroe\tJune 01, 1926\t“This life is what you make it. No matter what, you're going to mess up sometimes, it's a universal truth. But the good part is you get to decide how you're going to mess it up. Girls will be your friends - they'll act like it anyway. But just remember, some come, some go. The ones that stay with you through everything - they're your true best friends. Don't let go of them. Also remember, sisters make the best friends in the world. As for lovers, well, they'll come and go too. And baby, I hate to say it, most of them - actually pretty much all of them are going to break your heart, but you can't give up because if you give up, you'll never find your soulmate. You'll never find that half who makes you whole and that goes for everything. Just because you fail once, doesn't mean you're gonna fail at everything. Keep trying, hold on, and always, always, always believe in yourself, because if you don't, then who will, sweetie? So keep your head high, keep your chin up, and most importantly, keep smiling, because life's a beautiful thing and there's so much to smile about.”\n",
      "J.K. Rowling\thttp://quotes.toscrape.com//author/J-K-Rowling\tJuly 31, 1965\t“It takes a great deal of bravery to stand up to our enemies, but just as much to stand up to our friends.”\n",
      "Albert Einstein\thttp://quotes.toscrape.com//author/Albert-Einstein\tMarch 14, 1879\t“If you can't explain it to a six year old, you don't understand it yourself.”\n",
      "Bob Marley\thttp://quotes.toscrape.com//author/Bob-Marley\tFebruary 06, 1945\t“You may not be her first, her last, or her only. She loved before she may love again. But if she loves you now, what else matters? She's not perfect—you aren't either, and the two of you may never be perfect together but if she can make you laugh, cause you to think twice, and admit to being human and making mistakes, hold onto her and give her the most you can. She may not be thinking about you every second of the day, but she will give you a part of her that she knows you can break—her heart. So don't hurt her, don't change her, don't analyze and don't expect more than she can give. Smile when she makes you happy, let her know when she makes you mad, and miss her when she's not there.”\n",
      "Dr. Seuss\thttp://quotes.toscrape.com//author/Dr-Seuss\tMarch 02, 1904\t“I like nonsense, it wakes up the brain cells. Fantasy is a necessary ingredient in living.”\n",
      "Douglas Adams\thttp://quotes.toscrape.com//author/Douglas-Adams\tMarch 11, 1952\t“I may not have gone where I intended to go, but I think I have ended up where I needed to be.”\n",
      "Elie Wiesel\thttp://quotes.toscrape.com//author/Elie-Wiesel\tSeptember 30, 1928\t“The opposite of love is not hate, it's indifference. The opposite of art is not ugliness, it's indifference. The opposite of faith is not heresy, it's indifference. And the opposite of life is not death, it's indifference.”\n",
      "Friedrich Nietzsche\thttp://quotes.toscrape.com//author/Friedrich-Nietzsche\tOctober 15, 1844\t“It is not a lack of love, but a lack of friendship that makes unhappy marriages.”\n",
      "Mark Twain\thttp://quotes.toscrape.com//author/Mark-Twain\tNovember 30, 1835\t“Good friends, good books, and a sleepy conscience: this is the ideal life.”\n",
      "Allen Saunders\thttp://quotes.toscrape.com//author/Allen-Saunders\tApril 24, 1899\t“Life is what happens to us while we are making other plans.”\n",
      "########################2############################\n",
      "Pablo Neruda\thttp://quotes.toscrape.com//author/Pablo-Neruda\tJuly 12, 1904\t“I love you without knowing how, or when, or from where. I love you simply, without problems or pride: I love you in this way because I do not know any other way of loving but this, in which there is no I or you, so intimate that your hand upon my chest is my hand, so intimate that when I fall asleep your eyes close.”\n",
      "Ralph Waldo Emerson\thttp://quotes.toscrape.com//author/Ralph-Waldo-Emerson\tMay 25, 1803\t“For every minute you are angry you lose sixty seconds of happiness.”\n",
      "Mother Teresa\thttp://quotes.toscrape.com//author/Mother-Teresa\tAugust 26, 1910\t“If you judge people, you have no time to love them.”\n",
      "Garrison Keillor\thttp://quotes.toscrape.com//author/Garrison-Keillor\tAugust 07, 1942\t“Anyone who thinks sitting in church can make you a Christian must also think that sitting in a garage can make you a car.”\n",
      "Jim Henson\thttp://quotes.toscrape.com//author/Jim-Henson\tSeptember 24, 1936\t“Beauty is in the eye of the beholder and it may be necessary from time to time to give a stupid or misinformed beholder a black eye.”\n",
      "Dr. Seuss\thttp://quotes.toscrape.com//author/Dr-Seuss\tMarch 02, 1904\t“Today you are You, that is truer than true. There is no one alive who is Youer than You.”\n",
      "Albert Einstein\thttp://quotes.toscrape.com//author/Albert-Einstein\tMarch 14, 1879\t“If you want your children to be intelligent, read them fairy tales. If you want them to be more intelligent, read them more fairy tales.”\n",
      "J.K. Rowling\thttp://quotes.toscrape.com//author/J-K-Rowling\tJuly 31, 1965\t“It is impossible to live without failing at something, unless you live so cautiously that you might as well not have lived at all - in which case, you fail by default.”\n",
      "Albert Einstein\thttp://quotes.toscrape.com//author/Albert-Einstein\tMarch 14, 1879\t“Logic will get you from A to Z; imagination will get you everywhere.”\n",
      "Bob Marley\thttp://quotes.toscrape.com//author/Bob-Marley\tFebruary 06, 1945\t“One good thing about music, when it hits you, you feel no pain.”\n",
      "########################3############################\n",
      "Dr. Seuss\thttp://quotes.toscrape.com//author/Dr-Seuss\tMarch 02, 1904\t“The more that you read, the more things you will know. The more that you learn, the more places you'll go.”\n",
      "J.K. Rowling\thttp://quotes.toscrape.com//author/J-K-Rowling\tJuly 31, 1965\t“Of course it is happening inside your head, Harry, but why on earth should that mean that it is not real?”\n",
      "Bob Marley\thttp://quotes.toscrape.com//author/Bob-Marley\tFebruary 06, 1945\t“The truth is, everyone is going to hurt you. You just got to find the ones worth suffering for.”\n",
      "Mother Teresa\thttp://quotes.toscrape.com//author/Mother-Teresa\tAugust 26, 1910\t“Not all of us can do great things. But we can do small things with great love.”\n",
      "J.K. Rowling\thttp://quotes.toscrape.com//author/J-K-Rowling\tJuly 31, 1965\t“To the well-organized mind, death is but the next great adventure.”\n",
      "Charles M. Schulz\thttp://quotes.toscrape.com//author/Charles-M-Schulz\tNovember 26, 1922\t“All you need is love. But a little chocolate now and then doesn't hurt.”\n",
      "William Nicholson\thttp://quotes.toscrape.com//author/William-Nicholson\tJanuary 12, 1948\t“We read to know we're not alone.”\n",
      "Albert Einstein\thttp://quotes.toscrape.com//author/Albert-Einstein\tMarch 14, 1879\t“Any fool can know. The point is to understand.”\n",
      "Jorge Luis Borges\thttp://quotes.toscrape.com//author/Jorge-Luis-Borges\tAugust 24, 1899\t“I have always imagined that Paradise will be a kind of library.”\n",
      "George Eliot\thttp://quotes.toscrape.com//author/George-Eliot\tNovember 22, 1819\t“It is never too late to be what you might have been.”\n",
      "########################4############################\n",
      "George R.R. Martin\thttp://quotes.toscrape.com//author/George-R-R-Martin\tSeptember 20, 1948\t“A reader lives a thousand lives before he dies, said Jojen. The man who never reads lives only one.”\n",
      "C.S. Lewis\thttp://quotes.toscrape.com//author/C-S-Lewis\tNovember 29, 1898\t“You can never get a cup of tea large enough or a book long enough to suit me.”\n",
      "Marilyn Monroe\thttp://quotes.toscrape.com//author/Marilyn-Monroe\tJune 01, 1926\t“You believe lies so you eventually learn to trust no one but yourself.”\n",
      "Marilyn Monroe\thttp://quotes.toscrape.com//author/Marilyn-Monroe\tJune 01, 1926\t“If you can make a woman laugh, you can make her do anything.”\n",
      "Albert Einstein\thttp://quotes.toscrape.com//author/Albert-Einstein\tMarch 14, 1879\t“Life is like riding a bicycle. To keep your balance, you must keep moving.”\n",
      "Marilyn Monroe\thttp://quotes.toscrape.com//author/Marilyn-Monroe\tJune 01, 1926\t“The real lover is the man who can thrill you by kissing your forehead or smiling into your eyes or just staring into space.”\n",
      "Marilyn Monroe\thttp://quotes.toscrape.com//author/Marilyn-Monroe\tJune 01, 1926\t“A wise girl kisses but doesn't love, listens but doesn't believe, and leaves before she is left.”\n",
      "Martin Luther King Jr.\thttp://quotes.toscrape.com//author/Martin-Luther-King-Jr\tJanuary 15, 1929\t“Only in the darkness can you see the stars.”\n",
      "J.K. Rowling\thttp://quotes.toscrape.com//author/J-K-Rowling\tJuly 31, 1965\t“It matters not what someone is born, but what they grow to be.”\n",
      "James Baldwin\thttp://quotes.toscrape.com//author/James-Baldwin\tAugust 02, 1924\t“Love does not begin and end the way we seem to think it does. Love is a battle, love is a war; love is a growing up.”\n",
      "########################5############################\n",
      "Jane Austen\thttp://quotes.toscrape.com//author/Jane-Austen\tDecember 16, 1775\t“There is nothing I would not do for those who are really my friends. I have no notion of loving people by halves, it is not my nature.”\n",
      "Eleanor Roosevelt\thttp://quotes.toscrape.com//author/Eleanor-Roosevelt\tOctober 11, 1884\t“Do one thing every day that scares you.”\n",
      "Marilyn Monroe\thttp://quotes.toscrape.com//author/Marilyn-Monroe\tJune 01, 1926\t“I am good, but not an angel. I do sin, but I am not the devil. I am just a small girl in a big world trying to find someone to love.”\n",
      "Albert Einstein\thttp://quotes.toscrape.com//author/Albert-Einstein\tMarch 14, 1879\t“If I were not a physicist, I would probably be a musician. I often think in music. I live my daydreams in music. I see my life in terms of music.”\n",
      "Haruki Murakami\thttp://quotes.toscrape.com//author/Haruki-Murakami\tJanuary 12, 1949\t“If you only read the books that everyone else is reading, you can only think what everyone else is thinking.”\n",
      "Alexandre Dumas fils\thttp://quotes.toscrape.com//author/Alexandre-Dumas-fils\tJuly 27, 1824\t“The difference between genius and stupidity is: genius has its limits.”\n",
      "Stephenie Meyer\thttp://quotes.toscrape.com//author/Stephenie-Meyer\tDecember 24, 1973\t“He's like a drug for you, Bella.”\n",
      "Ernest Hemingway\thttp://quotes.toscrape.com//author/Ernest-Hemingway\tJuly 21, 1899\t“There is no friend as loyal as a book.”\n",
      "Helen Keller\thttp://quotes.toscrape.com//author/Helen-Keller\tJune 27, 1880\t“When one door of happiness closes, another opens; but often we look so long at the closed door that we do not see the one which has been opened for us.”\n",
      "George Bernard Shaw\thttp://quotes.toscrape.com//author/George-Bernard-Shaw\tJuly 26, 1856\t“Life isn't about finding yourself. Life is about creating yourself.”\n",
      "########################6############################\n",
      "Charles Bukowski\thttp://quotes.toscrape.com//author/Charles-Bukowski\tAugust 16, 1920\t“That's the problem with drinking, I thought, as I poured myself a drink. If something bad happens you drink in an attempt to forget; if something good happens you drink in order to celebrate; and if nothing happens you drink to make something happen.”\n",
      "Suzanne Collins\thttp://quotes.toscrape.com//author/Suzanne-Collins\tAugust 11, 1962\t“You don’t forget the face of the person who was your last hope.”\n",
      "Suzanne Collins\thttp://quotes.toscrape.com//author/Suzanne-Collins\tAugust 11, 1962\t“Remember, we're madly in love, so it's all right to kiss me anytime you feel like it.”\n",
      "C.S. Lewis\thttp://quotes.toscrape.com//author/C-S-Lewis\tNovember 29, 1898\t“To love at all is to be vulnerable. Love anything and your heart will be wrung and possibly broken. If you want to make sure of keeping it intact you must give it to no one, not even an animal. Wrap it carefully round with hobbies and little luxuries; avoid all entanglements. Lock it up safe in the casket or coffin of your selfishness. But in that casket, safe, dark, motionless, airless, it will change. It will not be broken; it will become unbreakable, impenetrable, irredeemable. To love is to be vulnerable.”\n",
      "J.R.R. Tolkien\thttp://quotes.toscrape.com//author/J-R-R-Tolkien\tJanuary 03, 1892\t“Not all those who wander are lost.”\n",
      "J.K. Rowling\thttp://quotes.toscrape.com//author/J-K-Rowling\tJuly 31, 1965\t“Do not pity the dead, Harry. Pity the living, and, above all those who live without love.”\n",
      "Ernest Hemingway\thttp://quotes.toscrape.com//author/Ernest-Hemingway\tJuly 21, 1899\t“There is nothing to writing. All you do is sit down at a typewriter and bleed.”\n",
      "Ralph Waldo Emerson\thttp://quotes.toscrape.com//author/Ralph-Waldo-Emerson\tMay 25, 1803\t“Finish each day and be done with it. You have done what you could. Some blunders and absurdities no doubt crept in; forget them as soon as you can. Tomorrow is a new day. You shall begin it serenely and with too high a spirit to be encumbered with your old nonsense.”\n",
      "Mark Twain\thttp://quotes.toscrape.com//author/Mark-Twain\tNovember 30, 1835\t“I have never let my schooling interfere with my education.”\n",
      "Dr. Seuss\thttp://quotes.toscrape.com//author/Dr-Seuss\tMarch 02, 1904\t“I have heard there are troubles of more than one kind. Some come from ahead and some come from behind. But I've bought a big bat. I'm all ready you see. Now my troubles are going to have troubles with me!”\n",
      "########################7############################\n",
      "Alfred Tennyson\thttp://quotes.toscrape.com//author/Alfred-Tennyson\tAugust 06, 1809\t“If I had a flower for every time I thought of you...I could walk through my garden forever.”\n",
      "Charles Bukowski\thttp://quotes.toscrape.com//author/Charles-Bukowski\tAugust 16, 1920\t“Some people never go crazy. What truly horrible lives they must lead.”\n",
      "Terry Pratchett\thttp://quotes.toscrape.com//author/Terry-Pratchett\tApril 28, 1948\t“The trouble with having an open mind, of course, is that people will insist on coming along and trying to put things in it.”\n",
      "Dr. Seuss\thttp://quotes.toscrape.com//author/Dr-Seuss\tMarch 02, 1904\t“Think left and think right and think low and think high. Oh, the thinks you can think up if only you try!”\n",
      "J.D. Salinger\thttp://quotes.toscrape.com//author/J-D-Salinger\tJanuary 01, 1919\t“What really knocks me out is a book that, when you're all done reading it, you wish the author that wrote it was a terrific friend of yours and you could call him up on the phone whenever you felt like it. That doesn't happen much, though.”\n",
      "George Carlin\thttp://quotes.toscrape.com//author/George-Carlin\tMay 12, 1937\t“The reason I talk to myself is because I’m the only one whose answers I accept.”\n",
      "John Lennon\thttp://quotes.toscrape.com//author/John-Lennon\tOctober 09, 1940\t“You may say I'm a dreamer, but I'm not the only one. I hope someday you'll join us. And the world will live as one.”\n",
      "W.C. Fields\thttp://quotes.toscrape.com//author/W-C-Fields\tJanuary 29, 1880\t“I am free of all prejudice. I hate everyone equally. ”\n",
      "Ayn Rand\thttp://quotes.toscrape.com//author/Ayn-Rand\tFebruary 02, 1905\t“The question isn't who is going to let me; it's who is going to stop me.”\n",
      "Mark Twain\thttp://quotes.toscrape.com//author/Mark-Twain\tNovember 30, 1835\t“′Classic′ - a book which people praise and don't read.”\n",
      "########################8############################\n",
      "Albert Einstein\thttp://quotes.toscrape.com//author/Albert-Einstein\tMarch 14, 1879\t“Anyone who has never made a mistake has never tried anything new.”\n",
      "Jane Austen\thttp://quotes.toscrape.com//author/Jane-Austen\tDecember 16, 1775\t“A lady's imagination is very rapid; it jumps from admiration to love, from love to matrimony in a moment.”\n",
      "J.K. Rowling\thttp://quotes.toscrape.com//author/J-K-Rowling\tJuly 31, 1965\t“Remember, if the time should come when you have to make a choice between what is right and what is easy, remember what happened to a boy who was good, and kind, and brave, because he strayed across the path of Lord Voldemort. Remember Cedric Diggory.”\n",
      "Jane Austen\thttp://quotes.toscrape.com//author/Jane-Austen\tDecember 16, 1775\t“I declare after all there is no enjoyment like reading! How much sooner one tires of any thing than of a book! -- When I have a house of my own, I shall be miserable if I have not an excellent library.”\n",
      "Jane Austen\thttp://quotes.toscrape.com//author/Jane-Austen\tDecember 16, 1775\t“There are few people whom I really love, and still fewer of whom I think well. The more I see of the world, the more am I dissatisfied with it; and every day confirms my belief of the inconsistency of all human characters, and of the little dependence that can be placed on the appearance of merit or sense.”\n",
      "C.S. Lewis\thttp://quotes.toscrape.com//author/C-S-Lewis\tNovember 29, 1898\t“Some day you will be old enough to start reading fairy tales again.”\n",
      "C.S. Lewis\thttp://quotes.toscrape.com//author/C-S-Lewis\tNovember 29, 1898\t“We are not necessarily doubting that God will do the best for us; we are wondering how painful the best will turn out to be.”\n",
      "Mark Twain\thttp://quotes.toscrape.com//author/Mark-Twain\tNovember 30, 1835\t“The fear of death follows from the fear of life. A man who lives fully is prepared to die at any time.”\n",
      "Mark Twain\thttp://quotes.toscrape.com//author/Mark-Twain\tNovember 30, 1835\t“A lie can travel half way around the world while the truth is putting on its shoes.”\n",
      "C.S. Lewis\thttp://quotes.toscrape.com//author/C-S-Lewis\tNovember 29, 1898\t“I believe in Christianity as I believe that the sun has risen: not only because I see it, but because by it I see everything else.”\n",
      "########################9############################\n",
      "J.K. Rowling\thttp://quotes.toscrape.com//author/J-K-Rowling\tJuly 31, 1965\t“The truth.\" Dumbledore sighed. \"It is a beautiful and terrible thing, and should therefore be treated with great caution.”\n",
      "Jimi Hendrix\thttp://quotes.toscrape.com//author/Jimi-Hendrix\tNovember 27, 1942\t“I'm the one that's got to die when it's time for me to die, so let me live my life the way I want to.”\n",
      "J.M. Barrie\thttp://quotes.toscrape.com//author/J-M-Barrie\tMay 09, 1860\t“To die will be an awfully big adventure.”\n",
      "E.E. Cummings\thttp://quotes.toscrape.com//author/E-E-Cummings\tOctober 14, 1894\t“It takes courage to grow up and become who you really are.”\n",
      "Khaled Hosseini\thttp://quotes.toscrape.com//author/Khaled-Hosseini\tMarch 04, 1965\t“But better to get hurt by the truth than comforted with a lie.”\n",
      "Harper Lee\thttp://quotes.toscrape.com//author/Harper-Lee\tApril 28, 1926\t“You never really understand a person until you consider things from his point of view... Until you climb inside of his skin and walk around in it.”\n",
      "Madeleine L'Engle\thttp://quotes.toscrape.com//author/Madeleine-LEngle\tNovember 29, 1918\t“You have to write the book that wants to be written. And if the book will be too difficult for grown-ups, then you write it for children.”\n",
      "Mark Twain\thttp://quotes.toscrape.com//author/Mark-Twain\tNovember 30, 1835\t“Never tell the truth to people who are not worthy of it.”\n",
      "Dr. Seuss\thttp://quotes.toscrape.com//author/Dr-Seuss\tMarch 02, 1904\t“A person's a person, no matter how small.”\n",
      "George R.R. Martin\thttp://quotes.toscrape.com//author/George-R-R-Martin\tSeptember 20, 1948\t“... a mind needs books as a sword needs a whetstone, if it is to keep its edge.”\n",
      "########################10############################\n"
     ]
    }
   ],
   "source": [
    "authors = []\n",
    "texts = []\n",
    "birthdates = []\n",
    "links = []\n",
    "pape = soup\n",
    "for i in range(1, 10000):\n",
    "    url= 'http://quotes.toscrape.com/page/'+str(i)+'/'\n",
    "    html = requests.get(url)\n",
    "    soup_sub = BeautifulSoup(html.text, 'html.parser')\n",
    "    results = soup_sub.find_all('div', class_='quote')\n",
    "    if len(results) == 0:\n",
    "        input_file_2(authors, links, birthdates, texts)\n",
    "        break\n",
    "    # print(url)\n",
    "    authors,texts,birthdates, links =  tacgiaLink(results, authors,texts,birthdates, links)\n",
    "    print(f'########################{i}############################')\n"
   ]
  },
  {
   "attachments": {},
   "cell_type": "markdown",
   "metadata": {},
   "source": [
    "# 3.2. Khai phá dữ liệu (35 điểm)"
   ]
  },
  {
   "cell_type": "code",
   "execution_count": 101,
   "metadata": {},
   "outputs": [],
   "source": [
    "# include \n",
    "import pandas as pd\n",
    "import numpy as np\n",
    "import matplotlib_inline as plt\n",
    "import plotly.express as px\n",
    "import seaborn as sns\n",
    "from datetime import datetime\n"
   ]
  },
  {
   "cell_type": "code",
   "execution_count": 69,
   "metadata": {},
   "outputs": [
    {
     "data": {
      "text/html": [
       "<div>\n",
       "<style scoped>\n",
       "    .dataframe tbody tr th:only-of-type {\n",
       "        vertical-align: middle;\n",
       "    }\n",
       "\n",
       "    .dataframe tbody tr th {\n",
       "        vertical-align: top;\n",
       "    }\n",
       "\n",
       "    .dataframe thead th {\n",
       "        text-align: right;\n",
       "    }\n",
       "</style>\n",
       "<table border=\"1\" class=\"dataframe\">\n",
       "  <thead>\n",
       "    <tr style=\"text-align: right;\">\n",
       "      <th></th>\n",
       "      <th>Tacgia</th>\n",
       "      <th>Link</th>\n",
       "      <th>Namsinh</th>\n",
       "      <th>Quote</th>\n",
       "    </tr>\n",
       "  </thead>\n",
       "  <tbody>\n",
       "    <tr>\n",
       "      <th>0</th>\n",
       "      <td>Albert Einstein</td>\n",
       "      <td>http://quotes.toscrape.com//author/Albert-Eins...</td>\n",
       "      <td>March 14, 1879</td>\n",
       "      <td>“The world as we have created it is a process ...</td>\n",
       "    </tr>\n",
       "    <tr>\n",
       "      <th>1</th>\n",
       "      <td>J.K. Rowling</td>\n",
       "      <td>http://quotes.toscrape.com//author/J-K-Rowling</td>\n",
       "      <td>July 31, 1965</td>\n",
       "      <td>“It is our choices, Harry, that show what we t...</td>\n",
       "    </tr>\n",
       "    <tr>\n",
       "      <th>2</th>\n",
       "      <td>Albert Einstein</td>\n",
       "      <td>http://quotes.toscrape.com//author/Albert-Eins...</td>\n",
       "      <td>March 14, 1879</td>\n",
       "      <td>“There are only two ways to live your life. On...</td>\n",
       "    </tr>\n",
       "    <tr>\n",
       "      <th>3</th>\n",
       "      <td>Jane Austen</td>\n",
       "      <td>http://quotes.toscrape.com//author/Jane-Austen</td>\n",
       "      <td>December 16, 1775</td>\n",
       "      <td>“The person, be it gentleman or lady, who has ...</td>\n",
       "    </tr>\n",
       "    <tr>\n",
       "      <th>4</th>\n",
       "      <td>Marilyn Monroe</td>\n",
       "      <td>http://quotes.toscrape.com//author/Marilyn-Monroe</td>\n",
       "      <td>June 01, 1926</td>\n",
       "      <td>“Imperfection is beauty, madness is genius and...</td>\n",
       "    </tr>\n",
       "    <tr>\n",
       "      <th>...</th>\n",
       "      <td>...</td>\n",
       "      <td>...</td>\n",
       "      <td>...</td>\n",
       "      <td>...</td>\n",
       "    </tr>\n",
       "    <tr>\n",
       "      <th>95</th>\n",
       "      <td>Harper Lee</td>\n",
       "      <td>http://quotes.toscrape.com//author/Harper-Lee</td>\n",
       "      <td>April 28, 1926</td>\n",
       "      <td>“You never really understand a person until yo...</td>\n",
       "    </tr>\n",
       "    <tr>\n",
       "      <th>96</th>\n",
       "      <td>Madeleine L'Engle</td>\n",
       "      <td>http://quotes.toscrape.com//author/Madeleine-L...</td>\n",
       "      <td>November 29, 1918</td>\n",
       "      <td>“You have to write the book that wants to be w...</td>\n",
       "    </tr>\n",
       "    <tr>\n",
       "      <th>97</th>\n",
       "      <td>Mark Twain</td>\n",
       "      <td>http://quotes.toscrape.com//author/Mark-Twain</td>\n",
       "      <td>November 30, 1835</td>\n",
       "      <td>“Never tell the truth to people who are not wo...</td>\n",
       "    </tr>\n",
       "    <tr>\n",
       "      <th>98</th>\n",
       "      <td>Dr. Seuss</td>\n",
       "      <td>http://quotes.toscrape.com//author/Dr-Seuss</td>\n",
       "      <td>March 02, 1904</td>\n",
       "      <td>“A person's a person, no matter how small.”</td>\n",
       "    </tr>\n",
       "    <tr>\n",
       "      <th>99</th>\n",
       "      <td>George R.R. Martin</td>\n",
       "      <td>http://quotes.toscrape.com//author/George-R-R-...</td>\n",
       "      <td>September 20, 1948</td>\n",
       "      <td>“... a mind needs books as a sword needs a whe...</td>\n",
       "    </tr>\n",
       "  </tbody>\n",
       "</table>\n",
       "<p>100 rows × 4 columns</p>\n",
       "</div>"
      ],
      "text/plain": [
       "                Tacgia                                               Link   \n",
       "0      Albert Einstein  http://quotes.toscrape.com//author/Albert-Eins...  \\\n",
       "1         J.K. Rowling     http://quotes.toscrape.com//author/J-K-Rowling   \n",
       "2      Albert Einstein  http://quotes.toscrape.com//author/Albert-Eins...   \n",
       "3          Jane Austen     http://quotes.toscrape.com//author/Jane-Austen   \n",
       "4       Marilyn Monroe  http://quotes.toscrape.com//author/Marilyn-Monroe   \n",
       "..                 ...                                                ...   \n",
       "95          Harper Lee      http://quotes.toscrape.com//author/Harper-Lee   \n",
       "96   Madeleine L'Engle  http://quotes.toscrape.com//author/Madeleine-L...   \n",
       "97          Mark Twain      http://quotes.toscrape.com//author/Mark-Twain   \n",
       "98           Dr. Seuss        http://quotes.toscrape.com//author/Dr-Seuss   \n",
       "99  George R.R. Martin  http://quotes.toscrape.com//author/George-R-R-...   \n",
       "\n",
       "               Namsinh                                              Quote  \n",
       "0       March 14, 1879  “The world as we have created it is a process ...  \n",
       "1        July 31, 1965  “It is our choices, Harry, that show what we t...  \n",
       "2       March 14, 1879  “There are only two ways to live your life. On...  \n",
       "3    December 16, 1775  “The person, be it gentleman or lady, who has ...  \n",
       "4        June 01, 1926  “Imperfection is beauty, madness is genius and...  \n",
       "..                 ...                                                ...  \n",
       "95      April 28, 1926  “You never really understand a person until yo...  \n",
       "96   November 29, 1918  “You have to write the book that wants to be w...  \n",
       "97   November 30, 1835  “Never tell the truth to people who are not wo...  \n",
       "98      March 02, 1904        “A person's a person, no matter how small.”  \n",
       "99  September 20, 1948  “... a mind needs books as a sword needs a whe...  \n",
       "\n",
       "[100 rows x 4 columns]"
      ]
     },
     "execution_count": 69,
     "metadata": {},
     "output_type": "execute_result"
    }
   ],
   "source": [
    "meta = pd.read_csv(r'Quotes.csv', encoding='utf-8', index_col='Unnamed: 0')\n",
    "meta"
   ]
  },
  {
   "cell_type": "code",
   "execution_count": 70,
   "metadata": {},
   "outputs": [
    {
     "data": {
      "text/html": [
       "<div>\n",
       "<style scoped>\n",
       "    .dataframe tbody tr th:only-of-type {\n",
       "        vertical-align: middle;\n",
       "    }\n",
       "\n",
       "    .dataframe tbody tr th {\n",
       "        vertical-align: top;\n",
       "    }\n",
       "\n",
       "    .dataframe thead th {\n",
       "        text-align: right;\n",
       "    }\n",
       "</style>\n",
       "<table border=\"1\" class=\"dataframe\">\n",
       "  <thead>\n",
       "    <tr style=\"text-align: right;\">\n",
       "      <th></th>\n",
       "      <th>Tacgia</th>\n",
       "      <th>Link</th>\n",
       "      <th>Namsinh</th>\n",
       "      <th>Quote</th>\n",
       "    </tr>\n",
       "  </thead>\n",
       "  <tbody>\n",
       "    <tr>\n",
       "      <th>0</th>\n",
       "      <td>Albert Einstein</td>\n",
       "      <td>http://quotes.toscrape.com//author/Albert-Eins...</td>\n",
       "      <td>1879-03-14</td>\n",
       "      <td>“The world as we have created it is a process ...</td>\n",
       "    </tr>\n",
       "    <tr>\n",
       "      <th>1</th>\n",
       "      <td>J.K. Rowling</td>\n",
       "      <td>http://quotes.toscrape.com//author/J-K-Rowling</td>\n",
       "      <td>1965-07-31</td>\n",
       "      <td>“It is our choices, Harry, that show what we t...</td>\n",
       "    </tr>\n",
       "    <tr>\n",
       "      <th>2</th>\n",
       "      <td>Albert Einstein</td>\n",
       "      <td>http://quotes.toscrape.com//author/Albert-Eins...</td>\n",
       "      <td>1879-03-14</td>\n",
       "      <td>“There are only two ways to live your life. On...</td>\n",
       "    </tr>\n",
       "    <tr>\n",
       "      <th>3</th>\n",
       "      <td>Jane Austen</td>\n",
       "      <td>http://quotes.toscrape.com//author/Jane-Austen</td>\n",
       "      <td>1775-12-16</td>\n",
       "      <td>“The person, be it gentleman or lady, who has ...</td>\n",
       "    </tr>\n",
       "    <tr>\n",
       "      <th>4</th>\n",
       "      <td>Marilyn Monroe</td>\n",
       "      <td>http://quotes.toscrape.com//author/Marilyn-Monroe</td>\n",
       "      <td>1926-06-01</td>\n",
       "      <td>“Imperfection is beauty, madness is genius and...</td>\n",
       "    </tr>\n",
       "    <tr>\n",
       "      <th>...</th>\n",
       "      <td>...</td>\n",
       "      <td>...</td>\n",
       "      <td>...</td>\n",
       "      <td>...</td>\n",
       "    </tr>\n",
       "    <tr>\n",
       "      <th>95</th>\n",
       "      <td>Harper Lee</td>\n",
       "      <td>http://quotes.toscrape.com//author/Harper-Lee</td>\n",
       "      <td>1926-04-28</td>\n",
       "      <td>“You never really understand a person until yo...</td>\n",
       "    </tr>\n",
       "    <tr>\n",
       "      <th>96</th>\n",
       "      <td>Madeleine L'Engle</td>\n",
       "      <td>http://quotes.toscrape.com//author/Madeleine-L...</td>\n",
       "      <td>1918-11-29</td>\n",
       "      <td>“You have to write the book that wants to be w...</td>\n",
       "    </tr>\n",
       "    <tr>\n",
       "      <th>97</th>\n",
       "      <td>Mark Twain</td>\n",
       "      <td>http://quotes.toscrape.com//author/Mark-Twain</td>\n",
       "      <td>1835-11-30</td>\n",
       "      <td>“Never tell the truth to people who are not wo...</td>\n",
       "    </tr>\n",
       "    <tr>\n",
       "      <th>98</th>\n",
       "      <td>Dr. Seuss</td>\n",
       "      <td>http://quotes.toscrape.com//author/Dr-Seuss</td>\n",
       "      <td>1904-03-02</td>\n",
       "      <td>“A person's a person, no matter how small.”</td>\n",
       "    </tr>\n",
       "    <tr>\n",
       "      <th>99</th>\n",
       "      <td>George R.R. Martin</td>\n",
       "      <td>http://quotes.toscrape.com//author/George-R-R-...</td>\n",
       "      <td>1948-09-20</td>\n",
       "      <td>“... a mind needs books as a sword needs a whe...</td>\n",
       "    </tr>\n",
       "  </tbody>\n",
       "</table>\n",
       "<p>100 rows × 4 columns</p>\n",
       "</div>"
      ],
      "text/plain": [
       "                Tacgia                                               Link   \n",
       "0      Albert Einstein  http://quotes.toscrape.com//author/Albert-Eins...  \\\n",
       "1         J.K. Rowling     http://quotes.toscrape.com//author/J-K-Rowling   \n",
       "2      Albert Einstein  http://quotes.toscrape.com//author/Albert-Eins...   \n",
       "3          Jane Austen     http://quotes.toscrape.com//author/Jane-Austen   \n",
       "4       Marilyn Monroe  http://quotes.toscrape.com//author/Marilyn-Monroe   \n",
       "..                 ...                                                ...   \n",
       "95          Harper Lee      http://quotes.toscrape.com//author/Harper-Lee   \n",
       "96   Madeleine L'Engle  http://quotes.toscrape.com//author/Madeleine-L...   \n",
       "97          Mark Twain      http://quotes.toscrape.com//author/Mark-Twain   \n",
       "98           Dr. Seuss        http://quotes.toscrape.com//author/Dr-Seuss   \n",
       "99  George R.R. Martin  http://quotes.toscrape.com//author/George-R-R-...   \n",
       "\n",
       "      Namsinh                                              Quote  \n",
       "0  1879-03-14  “The world as we have created it is a process ...  \n",
       "1  1965-07-31  “It is our choices, Harry, that show what we t...  \n",
       "2  1879-03-14  “There are only two ways to live your life. On...  \n",
       "3  1775-12-16  “The person, be it gentleman or lady, who has ...  \n",
       "4  1926-06-01  “Imperfection is beauty, madness is genius and...  \n",
       "..        ...                                                ...  \n",
       "95 1926-04-28  “You never really understand a person until yo...  \n",
       "96 1918-11-29  “You have to write the book that wants to be w...  \n",
       "97 1835-11-30  “Never tell the truth to people who are not wo...  \n",
       "98 1904-03-02        “A person's a person, no matter how small.”  \n",
       "99 1948-09-20  “... a mind needs books as a sword needs a whe...  \n",
       "\n",
       "[100 rows x 4 columns]"
      ]
     },
     "execution_count": 70,
     "metadata": {},
     "output_type": "execute_result"
    }
   ],
   "source": [
    "# convert Namsinh to date\n",
    "meta.Namsinh = meta.Namsinh.apply(lambda x: datetime.strptime(x, \"%B %d, %Y\").date())\n",
    "meta.Namsinh = meta.Namsinh.apply(lambda x: pd.to_datetime(x))\n",
    "meta['Tacgia'] = meta['Tacgia'].astype(str)\n",
    "meta['Link'] = meta['Link'].astype(str)\n",
    "meta['Quote'] = meta['Quote'].astype(str)\n",
    "meta"
   ]
  },
  {
   "attachments": {},
   "cell_type": "markdown",
   "metadata": {},
   "source": [
    "## 3.2.1. Xử lý dữ liệu- Data Imputation (3 điểm):\n"
   ]
  },
  {
   "cell_type": "code",
   "execution_count": 71,
   "metadata": {},
   "outputs": [
    {
     "data": {
      "text/html": [
       "<div>\n",
       "<style scoped>\n",
       "    .dataframe tbody tr th:only-of-type {\n",
       "        vertical-align: middle;\n",
       "    }\n",
       "\n",
       "    .dataframe tbody tr th {\n",
       "        vertical-align: top;\n",
       "    }\n",
       "\n",
       "    .dataframe thead th {\n",
       "        text-align: right;\n",
       "    }\n",
       "</style>\n",
       "<table border=\"1\" class=\"dataframe\">\n",
       "  <thead>\n",
       "    <tr style=\"text-align: right;\">\n",
       "      <th></th>\n",
       "      <th>Tacgia</th>\n",
       "      <th>Link</th>\n",
       "      <th>Namsinh</th>\n",
       "      <th>Quote</th>\n",
       "      <th>STT</th>\n",
       "    </tr>\n",
       "  </thead>\n",
       "  <tbody>\n",
       "    <tr>\n",
       "      <th>0</th>\n",
       "      <td>Albert Einstein</td>\n",
       "      <td>http://quotes.toscrape.com//author/Albert-Eins...</td>\n",
       "      <td>1879-03-14</td>\n",
       "      <td>“The world as we have created it is a process ...</td>\n",
       "      <td>0</td>\n",
       "    </tr>\n",
       "    <tr>\n",
       "      <th>1</th>\n",
       "      <td>J.K. Rowling</td>\n",
       "      <td>http://quotes.toscrape.com//author/J-K-Rowling</td>\n",
       "      <td>1965-07-31</td>\n",
       "      <td>“It is our choices, Harry, that show what we t...</td>\n",
       "      <td>1</td>\n",
       "    </tr>\n",
       "    <tr>\n",
       "      <th>2</th>\n",
       "      <td>Albert Einstein</td>\n",
       "      <td>http://quotes.toscrape.com//author/Albert-Eins...</td>\n",
       "      <td>1879-03-14</td>\n",
       "      <td>“There are only two ways to live your life. On...</td>\n",
       "      <td>2</td>\n",
       "    </tr>\n",
       "  </tbody>\n",
       "</table>\n",
       "</div>"
      ],
      "text/plain": [
       "            Tacgia                                               Link   \n",
       "0  Albert Einstein  http://quotes.toscrape.com//author/Albert-Eins...  \\\n",
       "1     J.K. Rowling     http://quotes.toscrape.com//author/J-K-Rowling   \n",
       "2  Albert Einstein  http://quotes.toscrape.com//author/Albert-Eins...   \n",
       "\n",
       "     Namsinh                                              Quote  STT  \n",
       "0 1879-03-14  “The world as we have created it is a process ...    0  \n",
       "1 1965-07-31  “It is our choices, Harry, that show what we t...    1  \n",
       "2 1879-03-14  “There are only two ways to live your life. On...    2  "
      ]
     },
     "execution_count": 71,
     "metadata": {},
     "output_type": "execute_result"
    }
   ],
   "source": [
    "# Bạn hãy thêm vào Trường STT và điền tự động dữ liệu của trường này?\n",
    "\n",
    "meta['STT'] = list(range(len(meta)))\n",
    "meta.head(3)"
   ]
  },
  {
   "attachments": {},
   "cell_type": "markdown",
   "metadata": {},
   "source": [
    "**Một số giá trị của dữ liệu Trường ngày sinh chưa có, bạn hãy đề xuất cách điền?**\n",
    "\n",
    "+ ***Cách thứ 1***: em thấy dữ liệu này là tên các người nổi tiếng vì thế thông tin của nó đa số sẽ được publish ở trên mạng. Trường hợp nếu trên mạng không có thì chúng em sẽ lấy strimmed median của ngày sinh đã có\n",
    "+ ***Cách thứ 2***: sử dụng chat GPT api hiện tại để lấy thông tin (10,000 tokens/tháng) \n",
    "\n",
    "--> Nếu gặp tình huống này nhóm em sẽ chọn cách thứ 1"
   ]
  },
  {
   "attachments": {},
   "cell_type": "markdown",
   "metadata": {},
   "source": [
    "**Đề xuất cách điền tuổi của các tác giả?**\n",
    "\n",
    "+ ***Cách thứ 1***: Đối với việc thay thế các dữ liệu thiếu thì có rất nhiều cách để điền điển hình như là mean, \n",
    "median nhưng với 2 tham số này thì rất dễ bị bias vì thế chúng ta có thêm các là lấy strimmed mean, strimmed median\n",
    "thì sẽ giảm bị bias\n",
    "+ ***Cách thứ 2***: em thấy dữ liệu này là tên các người nổi tiếng vì thế thông tin của nó đa số sẽ được publish ở trên\n",
    "mạng. Trường hợp nếu trên mạng không có thì chúng em sẽ lấy strimmed median của các độ tuổi đã có\n",
    "+ ***Cách thứ 3***: sử dụng selenium để lấy tuổi\n",
    "\n",
    "--> Nếu gặp tình huống này nhóm em sẽ chọn cách thứ 3"
   ]
  },
  {
   "cell_type": "code",
   "execution_count": 45,
   "metadata": {},
   "outputs": [],
   "source": [
    "ages = {}"
   ]
  },
  {
   "cell_type": "code",
   "execution_count": 47,
   "metadata": {},
   "outputs": [],
   "source": [
    "for i in meta.Tacgia.unique():\n",
    "    ages[i] = -1"
   ]
  },
  {
   "cell_type": "code",
   "execution_count": 51,
   "metadata": {},
   "outputs": [],
   "source": [
    "from selenium import webdriver\n",
    "from selenium.webdriver.common.by import By\n",
    "from selenium.webdriver.support.ui import WebDriverWait\n",
    "from selenium.webdriver.support import expected_conditions as EC\n",
    "from selenium.webdriver.common.keys import Keys\n",
    "import time\n",
    "from random import randint\n",
    "driver = webdriver.Chrome()"
   ]
  },
  {
   "cell_type": "code",
   "execution_count": 52,
   "metadata": {},
   "outputs": [
    {
     "name": "stdout",
     "output_type": "stream",
     "text": [
      "J.K. Rowling --> Done\n",
      "Jane Austen --> Done\n",
      "Marilyn Monroe --> Done\n",
      "André Gide --> Done\n",
      "Thomas A. Edison --> Done\n",
      "Eleanor Roosevelt --> Done\n",
      "Steve Martin --> Done\n",
      "Bob Marley --> Done\n",
      "Dr. Seuss --> Done\n",
      "Douglas Adams --> Done\n",
      "Elie Wiesel --> Done\n",
      "Friedrich Nietzsche --> Done\n",
      "Mark Twain --> Done\n",
      "Allen Saunders --> Done\n",
      "Pablo Neruda --> Done\n",
      "Ralph Waldo Emerson --> Done\n",
      "Mother Teresa --> Done\n",
      "Garrison Keillor --> Done\n",
      "Jim Henson --> Done\n",
      "Charles M. Schulz --> Done\n",
      "William Nicholson --> Done\n",
      "Jorge Luis Borges --> Done\n",
      "George Eliot --> Done\n",
      "George R.R. Martin --> Done\n",
      "C.S. Lewis --> Done\n",
      "Martin Luther King Jr. --> Done\n",
      "James Baldwin --> Done\n",
      "Haruki Murakami --> Done\n",
      "Alexandre Dumas fils --> Done\n",
      "Stephenie Meyer --> Done\n",
      "Ernest Hemingway --> Done\n",
      "Helen Keller --> Done\n",
      "George Bernard Shaw --> Done\n",
      "Charles Bukowski --> Done\n",
      "Suzanne Collins --> Done\n",
      "J.R.R. Tolkien --> Done\n",
      "Alfred Tennyson --> Done\n",
      "Terry Pratchett --> Done\n",
      "J.D. Salinger --> Done\n",
      "George Carlin --> Done\n",
      "John Lennon --> Done\n",
      "W.C. Fields --> Done\n",
      "Ayn Rand --> Done\n",
      "Jimi Hendrix --> Done\n",
      "J.M. Barrie --> Done\n",
      "E.E. Cummings --> Done\n",
      "Khaled Hosseini --> Done\n",
      "Harper Lee --> Done\n",
      "Madeleine L'Engle --> Done\n"
     ]
    }
   ],
   "source": [
    "# Get born  author\n",
    "for i in  range(len(meta)):\n",
    "    if ages[meta.Tacgia[i]] != -1: continue\n",
    "    driver.get('https://www.google.com.vn/?hl=vi')\n",
    "    input_element = driver.find_element(By.XPATH, \"//*[@id='APjFqb']\")\n",
    "    input_element.send_keys(f'how old is author {meta.Tacgia[i]}' + Keys.ENTER)\n",
    "    age = driver.find_element(By.XPATH, '//*[@id=\"rso\"]/div[1]/div/block-component/div/div[1]/div[1]/div/div/div[1]/div/div/div[1]/div/div[1]/div[2]/div/div[1]').text.replace(' tuổi', '')\n",
    "    born = driver.find_element(By.XPATH, '//*[@id=\"rso\"]/div[1]/div/block-component/div/div[1]/div[1]/div/div/div[1]/div/div/div[1]/div/div[1]/div[2]/div/div[2]/div').text.split('–')[0]\n",
    "    \n",
    "    if len(born) <= 4:\n",
    "        \n",
    "        if meta.Namsinh[i].year != int(born):\n",
    "            print(f'{meta.Link[i]}')\n",
    "            age = None\n",
    "        ages[meta.Tacgia[i]] = age\n",
    "    else:\n",
    "        born = driver.find_element(By.XPATH, '//*[@id=\"rso\"]/div[1]/div/block-component/div/div[1]/div[1]/div/div/div[1]/div/div/div[1]/div/div[1]/div[2]/div/div[2]/div').text.split(',')[1]\n",
    "        if meta.Namsinh[i].year != int(born):\n",
    "            print(f'{meta.Link[i]}')\n",
    "            age = None\n",
    "        ages[meta.Tacgia[i]] = age\n",
    "    print(f'{meta.Tacgia[i]} --> Done')\n",
    "    time.sleep(randint(2, 6))\n",
    "driver.quit()"
   ]
  },
  {
   "cell_type": "code",
   "execution_count": 74,
   "metadata": {},
   "outputs": [],
   "source": [
    "meta['Tuoi'] = meta.apply(lambda row: int(ages[row.Tacgia]), axis=1)"
   ]
  },
  {
   "cell_type": "code",
   "execution_count": 75,
   "metadata": {},
   "outputs": [
    {
     "name": "stdout",
     "output_type": "stream",
     "text": [
      "Quantily values of the age NUll: 0\n"
     ]
    }
   ],
   "source": [
    "print(f'Quantily values of the age NUll: {meta.Tuoi.isna().sum()}')"
   ]
  },
  {
   "cell_type": "code",
   "execution_count": 76,
   "metadata": {},
   "outputs": [
    {
     "data": {
      "text/html": [
       "<div>\n",
       "<style scoped>\n",
       "    .dataframe tbody tr th:only-of-type {\n",
       "        vertical-align: middle;\n",
       "    }\n",
       "\n",
       "    .dataframe tbody tr th {\n",
       "        vertical-align: top;\n",
       "    }\n",
       "\n",
       "    .dataframe thead th {\n",
       "        text-align: right;\n",
       "    }\n",
       "</style>\n",
       "<table border=\"1\" class=\"dataframe\">\n",
       "  <thead>\n",
       "    <tr style=\"text-align: right;\">\n",
       "      <th></th>\n",
       "      <th>Tacgia</th>\n",
       "      <th>Link</th>\n",
       "      <th>Namsinh</th>\n",
       "      <th>Quote</th>\n",
       "      <th>STT</th>\n",
       "      <th>Tuoi</th>\n",
       "    </tr>\n",
       "  </thead>\n",
       "  <tbody>\n",
       "    <tr>\n",
       "      <th>0</th>\n",
       "      <td>Albert Einstein</td>\n",
       "      <td>http://quotes.toscrape.com//author/Albert-Eins...</td>\n",
       "      <td>1879-03-14</td>\n",
       "      <td>“The world as we have created it is a process ...</td>\n",
       "      <td>0</td>\n",
       "      <td>76</td>\n",
       "    </tr>\n",
       "    <tr>\n",
       "      <th>1</th>\n",
       "      <td>J.K. Rowling</td>\n",
       "      <td>http://quotes.toscrape.com//author/J-K-Rowling</td>\n",
       "      <td>1965-07-31</td>\n",
       "      <td>“It is our choices, Harry, that show what we t...</td>\n",
       "      <td>1</td>\n",
       "      <td>57</td>\n",
       "    </tr>\n",
       "    <tr>\n",
       "      <th>2</th>\n",
       "      <td>Albert Einstein</td>\n",
       "      <td>http://quotes.toscrape.com//author/Albert-Eins...</td>\n",
       "      <td>1879-03-14</td>\n",
       "      <td>“There are only two ways to live your life. On...</td>\n",
       "      <td>2</td>\n",
       "      <td>76</td>\n",
       "    </tr>\n",
       "    <tr>\n",
       "      <th>3</th>\n",
       "      <td>Jane Austen</td>\n",
       "      <td>http://quotes.toscrape.com//author/Jane-Austen</td>\n",
       "      <td>1775-12-16</td>\n",
       "      <td>“The person, be it gentleman or lady, who has ...</td>\n",
       "      <td>3</td>\n",
       "      <td>41</td>\n",
       "    </tr>\n",
       "    <tr>\n",
       "      <th>4</th>\n",
       "      <td>Marilyn Monroe</td>\n",
       "      <td>http://quotes.toscrape.com//author/Marilyn-Monroe</td>\n",
       "      <td>1926-06-01</td>\n",
       "      <td>“Imperfection is beauty, madness is genius and...</td>\n",
       "      <td>4</td>\n",
       "      <td>36</td>\n",
       "    </tr>\n",
       "  </tbody>\n",
       "</table>\n",
       "</div>"
      ],
      "text/plain": [
       "            Tacgia                                               Link   \n",
       "0  Albert Einstein  http://quotes.toscrape.com//author/Albert-Eins...  \\\n",
       "1     J.K. Rowling     http://quotes.toscrape.com//author/J-K-Rowling   \n",
       "2  Albert Einstein  http://quotes.toscrape.com//author/Albert-Eins...   \n",
       "3      Jane Austen     http://quotes.toscrape.com//author/Jane-Austen   \n",
       "4   Marilyn Monroe  http://quotes.toscrape.com//author/Marilyn-Monroe   \n",
       "\n",
       "     Namsinh                                              Quote  STT  Tuoi  \n",
       "0 1879-03-14  “The world as we have created it is a process ...    0    76  \n",
       "1 1965-07-31  “It is our choices, Harry, that show what we t...    1    57  \n",
       "2 1879-03-14  “There are only two ways to live your life. On...    2    76  \n",
       "3 1775-12-16  “The person, be it gentleman or lady, who has ...    3    41  \n",
       "4 1926-06-01  “Imperfection is beauty, madness is genius and...    4    36  "
      ]
     },
     "execution_count": 76,
     "metadata": {},
     "output_type": "execute_result"
    }
   ],
   "source": [
    "meta.head(5)"
   ]
  },
  {
   "attachments": {},
   "cell_type": "markdown",
   "metadata": {},
   "source": [
    "# 3.2.2. Khám phá dữ liệu- Data Exploration (12 điểm):"
   ]
  },
  {
   "cell_type": "code",
   "execution_count": 77,
   "metadata": {},
   "outputs": [
    {
     "name": "stdout",
     "output_type": "stream",
     "text": [
      "Data size = (100, 6)\n"
     ]
    }
   ],
   "source": [
    "print(f'Data size = {meta.shape}')"
   ]
  },
  {
   "cell_type": "code",
   "execution_count": 78,
   "metadata": {},
   "outputs": [
    {
     "name": "stdout",
     "output_type": "stream",
     "text": [
      "####Check data type####\n",
      "<class 'pandas.core.frame.DataFrame'>\n",
      "Index: 100 entries, 0 to 99\n",
      "Data columns (total 6 columns):\n",
      " #   Column   Non-Null Count  Dtype         \n",
      "---  ------   --------------  -----         \n",
      " 0   Tacgia   100 non-null    object        \n",
      " 1   Link     100 non-null    object        \n",
      " 2   Namsinh  100 non-null    datetime64[ns]\n",
      " 3   Quote    100 non-null    object        \n",
      " 4   STT      100 non-null    int64         \n",
      " 5   Tuoi     100 non-null    int64         \n",
      "dtypes: datetime64[ns](1), int64(2), object(3)\n",
      "memory usage: 5.5+ KB\n"
     ]
    }
   ],
   "source": [
    "print(\"####Check data type####\")\n",
    "meta.info()"
   ]
  },
  {
   "cell_type": "code",
   "execution_count": 83,
   "metadata": {},
   "outputs": [
    {
     "name": "stdout",
     "output_type": "stream",
     "text": [
      "####Check data describe####\n"
     ]
    },
    {
     "data": {
      "text/html": [
       "<div>\n",
       "<style scoped>\n",
       "    .dataframe tbody tr th:only-of-type {\n",
       "        vertical-align: middle;\n",
       "    }\n",
       "\n",
       "    .dataframe tbody tr th {\n",
       "        vertical-align: top;\n",
       "    }\n",
       "\n",
       "    .dataframe thead th {\n",
       "        text-align: right;\n",
       "    }\n",
       "</style>\n",
       "<table border=\"1\" class=\"dataframe\">\n",
       "  <thead>\n",
       "    <tr style=\"text-align: right;\">\n",
       "      <th></th>\n",
       "      <th>Tuoi</th>\n",
       "    </tr>\n",
       "  </thead>\n",
       "  <tbody>\n",
       "    <tr>\n",
       "      <th>count</th>\n",
       "      <td>100.00000</td>\n",
       "    </tr>\n",
       "    <tr>\n",
       "      <th>mean</th>\n",
       "      <td>66.24000</td>\n",
       "    </tr>\n",
       "    <tr>\n",
       "      <th>std</th>\n",
       "      <td>17.01106</td>\n",
       "    </tr>\n",
       "    <tr>\n",
       "      <th>min</th>\n",
       "      <td>27.00000</td>\n",
       "    </tr>\n",
       "    <tr>\n",
       "      <th>25%</th>\n",
       "      <td>57.00000</td>\n",
       "    </tr>\n",
       "    <tr>\n",
       "      <th>50%</th>\n",
       "      <td>73.00000</td>\n",
       "    </tr>\n",
       "    <tr>\n",
       "      <th>75%</th>\n",
       "      <td>77.25000</td>\n",
       "    </tr>\n",
       "    <tr>\n",
       "      <th>max</th>\n",
       "      <td>94.00000</td>\n",
       "    </tr>\n",
       "  </tbody>\n",
       "</table>\n",
       "</div>"
      ],
      "text/plain": [
       "            Tuoi\n",
       "count  100.00000\n",
       "mean    66.24000\n",
       "std     17.01106\n",
       "min     27.00000\n",
       "25%     57.00000\n",
       "50%     73.00000\n",
       "75%     77.25000\n",
       "max     94.00000"
      ]
     },
     "execution_count": 83,
     "metadata": {},
     "output_type": "execute_result"
    }
   ],
   "source": [
    "print(\"####Check data describe####\")\n",
    "meta[['Tuoi']].describe()"
   ]
  },
  {
   "cell_type": "code",
   "execution_count": 84,
   "metadata": {},
   "outputs": [
    {
     "name": "stdout",
     "output_type": "stream",
     "text": [
      "####Check data null####\n"
     ]
    },
    {
     "data": {
      "text/plain": [
       "Tacgia     0\n",
       "Link       0\n",
       "Namsinh    0\n",
       "Quote      0\n",
       "STT        0\n",
       "Tuoi       0\n",
       "dtype: int64"
      ]
     },
     "execution_count": 84,
     "metadata": {},
     "output_type": "execute_result"
    }
   ],
   "source": [
    "print(\"####Check data null####\")\n",
    "\n",
    "meta.isna().sum()"
   ]
  },
  {
   "attachments": {},
   "cell_type": "markdown",
   "metadata": {},
   "source": [
    "> ### Top 10 người nổi tiếng có số lượng câu nói nhiều nhất và ít nhất"
   ]
  },
  {
   "cell_type": "code",
   "execution_count": 85,
   "metadata": {},
   "outputs": [
    {
     "data": {
      "text/html": [
       "<div>\n",
       "<style scoped>\n",
       "    .dataframe tbody tr th:only-of-type {\n",
       "        vertical-align: middle;\n",
       "    }\n",
       "\n",
       "    .dataframe tbody tr th {\n",
       "        vertical-align: top;\n",
       "    }\n",
       "\n",
       "    .dataframe thead th {\n",
       "        text-align: right;\n",
       "    }\n",
       "</style>\n",
       "<table border=\"1\" class=\"dataframe\">\n",
       "  <thead>\n",
       "    <tr style=\"text-align: right;\">\n",
       "      <th></th>\n",
       "      <th>Tacgia</th>\n",
       "      <th>Link</th>\n",
       "      <th>Namsinh</th>\n",
       "      <th>Quote</th>\n",
       "      <th>STT</th>\n",
       "      <th>Tuoi</th>\n",
       "    </tr>\n",
       "  </thead>\n",
       "  <tbody>\n",
       "    <tr>\n",
       "      <th>0</th>\n",
       "      <td>Albert Einstein</td>\n",
       "      <td>http://quotes.toscrape.com//author/Albert-Eins...</td>\n",
       "      <td>1879-03-14</td>\n",
       "      <td>“The world as we have created it is a process ...</td>\n",
       "      <td>0</td>\n",
       "      <td>76</td>\n",
       "    </tr>\n",
       "    <tr>\n",
       "      <th>1</th>\n",
       "      <td>J.K. Rowling</td>\n",
       "      <td>http://quotes.toscrape.com//author/J-K-Rowling</td>\n",
       "      <td>1965-07-31</td>\n",
       "      <td>“It is our choices, Harry, that show what we t...</td>\n",
       "      <td>1</td>\n",
       "      <td>57</td>\n",
       "    </tr>\n",
       "    <tr>\n",
       "      <th>2</th>\n",
       "      <td>Albert Einstein</td>\n",
       "      <td>http://quotes.toscrape.com//author/Albert-Eins...</td>\n",
       "      <td>1879-03-14</td>\n",
       "      <td>“There are only two ways to live your life. On...</td>\n",
       "      <td>2</td>\n",
       "      <td>76</td>\n",
       "    </tr>\n",
       "    <tr>\n",
       "      <th>3</th>\n",
       "      <td>Jane Austen</td>\n",
       "      <td>http://quotes.toscrape.com//author/Jane-Austen</td>\n",
       "      <td>1775-12-16</td>\n",
       "      <td>“The person, be it gentleman or lady, who has ...</td>\n",
       "      <td>3</td>\n",
       "      <td>41</td>\n",
       "    </tr>\n",
       "    <tr>\n",
       "      <th>4</th>\n",
       "      <td>Marilyn Monroe</td>\n",
       "      <td>http://quotes.toscrape.com//author/Marilyn-Monroe</td>\n",
       "      <td>1926-06-01</td>\n",
       "      <td>“Imperfection is beauty, madness is genius and...</td>\n",
       "      <td>4</td>\n",
       "      <td>36</td>\n",
       "    </tr>\n",
       "  </tbody>\n",
       "</table>\n",
       "</div>"
      ],
      "text/plain": [
       "            Tacgia                                               Link   \n",
       "0  Albert Einstein  http://quotes.toscrape.com//author/Albert-Eins...  \\\n",
       "1     J.K. Rowling     http://quotes.toscrape.com//author/J-K-Rowling   \n",
       "2  Albert Einstein  http://quotes.toscrape.com//author/Albert-Eins...   \n",
       "3      Jane Austen     http://quotes.toscrape.com//author/Jane-Austen   \n",
       "4   Marilyn Monroe  http://quotes.toscrape.com//author/Marilyn-Monroe   \n",
       "\n",
       "     Namsinh                                              Quote  STT  Tuoi  \n",
       "0 1879-03-14  “The world as we have created it is a process ...    0    76  \n",
       "1 1965-07-31  “It is our choices, Harry, that show what we t...    1    57  \n",
       "2 1879-03-14  “There are only two ways to live your life. On...    2    76  \n",
       "3 1775-12-16  “The person, be it gentleman or lady, who has ...    3    41  \n",
       "4 1926-06-01  “Imperfection is beauty, madness is genius and...    4    36  "
      ]
     },
     "execution_count": 85,
     "metadata": {},
     "output_type": "execute_result"
    }
   ],
   "source": [
    "meta.head()"
   ]
  },
  {
   "cell_type": "code",
   "execution_count": 105,
   "metadata": {},
   "outputs": [
    {
     "data": {
      "text/html": [
       "<div>\n",
       "<style scoped>\n",
       "    .dataframe tbody tr th:only-of-type {\n",
       "        vertical-align: middle;\n",
       "    }\n",
       "\n",
       "    .dataframe tbody tr th {\n",
       "        vertical-align: top;\n",
       "    }\n",
       "\n",
       "    .dataframe thead th {\n",
       "        text-align: right;\n",
       "    }\n",
       "</style>\n",
       "<table border=\"1\" class=\"dataframe\">\n",
       "  <thead>\n",
       "    <tr style=\"text-align: right;\">\n",
       "      <th></th>\n",
       "      <th>Author</th>\n",
       "      <th>Quantily</th>\n",
       "    </tr>\n",
       "  </thead>\n",
       "  <tbody>\n",
       "    <tr>\n",
       "      <th>0</th>\n",
       "      <td>Albert Einstein</td>\n",
       "      <td>10</td>\n",
       "    </tr>\n",
       "    <tr>\n",
       "      <th>26</th>\n",
       "      <td>J.K. Rowling</td>\n",
       "      <td>9</td>\n",
       "    </tr>\n",
       "    <tr>\n",
       "      <th>37</th>\n",
       "      <td>Marilyn Monroe</td>\n",
       "      <td>7</td>\n",
       "    </tr>\n",
       "    <tr>\n",
       "      <th>38</th>\n",
       "      <td>Mark Twain</td>\n",
       "      <td>6</td>\n",
       "    </tr>\n",
       "    <tr>\n",
       "      <th>11</th>\n",
       "      <td>Dr. Seuss</td>\n",
       "      <td>6</td>\n",
       "    </tr>\n",
       "  </tbody>\n",
       "</table>\n",
       "</div>"
      ],
      "text/plain": [
       "             Author  Quantily\n",
       "0   Albert Einstein        10\n",
       "26     J.K. Rowling         9\n",
       "37   Marilyn Monroe         7\n",
       "38       Mark Twain         6\n",
       "11        Dr. Seuss         6"
      ]
     },
     "execution_count": 105,
     "metadata": {},
     "output_type": "execute_result"
    }
   ],
   "source": [
    "most_author = meta.groupby(['Tacgia']).size()\n",
    "most_author = pd.DataFrame({'Author': most_author.index, 'Quantily': most_author.values}).sort_values(by='Quantily' , ascending=False)\n",
    "\n",
    "most_author.head(5)"
   ]
  },
  {
   "cell_type": "code",
   "execution_count": 106,
   "metadata": {},
   "outputs": [
    {
     "data": {
      "application/vnd.plotly.v1+json": {
       "config": {
        "plotlyServerURL": "https://plot.ly"
       },
       "data": [
        {
         "alignmentgroup": "True",
         "hovertemplate": "Author=%{x}<br>Quantily=%{y}<extra></extra>",
         "legendgroup": "Albert Einstein",
         "marker": {
          "color": "#636efa",
          "pattern": {
           "shape": ""
          }
         },
         "name": "Albert Einstein",
         "offsetgroup": "Albert Einstein",
         "orientation": "v",
         "showlegend": true,
         "textposition": "auto",
         "texttemplate": "%{y:.s}",
         "type": "bar",
         "x": [
          "Albert Einstein"
         ],
         "xaxis": "x",
         "y": [
          10
         ],
         "yaxis": "y"
        },
        {
         "alignmentgroup": "True",
         "hovertemplate": "Author=%{x}<br>Quantily=%{y}<extra></extra>",
         "legendgroup": "J.K. Rowling",
         "marker": {
          "color": "#EF553B",
          "pattern": {
           "shape": ""
          }
         },
         "name": "J.K. Rowling",
         "offsetgroup": "J.K. Rowling",
         "orientation": "v",
         "showlegend": true,
         "textposition": "auto",
         "texttemplate": "%{y:.s}",
         "type": "bar",
         "x": [
          "J.K. Rowling"
         ],
         "xaxis": "x",
         "y": [
          9
         ],
         "yaxis": "y"
        },
        {
         "alignmentgroup": "True",
         "hovertemplate": "Author=%{x}<br>Quantily=%{y}<extra></extra>",
         "legendgroup": "Marilyn Monroe",
         "marker": {
          "color": "#00cc96",
          "pattern": {
           "shape": ""
          }
         },
         "name": "Marilyn Monroe",
         "offsetgroup": "Marilyn Monroe",
         "orientation": "v",
         "showlegend": true,
         "textposition": "auto",
         "texttemplate": "%{y:.s}",
         "type": "bar",
         "x": [
          "Marilyn Monroe"
         ],
         "xaxis": "x",
         "y": [
          7
         ],
         "yaxis": "y"
        },
        {
         "alignmentgroup": "True",
         "hovertemplate": "Author=%{x}<br>Quantily=%{y}<extra></extra>",
         "legendgroup": "Mark Twain",
         "marker": {
          "color": "#ab63fa",
          "pattern": {
           "shape": ""
          }
         },
         "name": "Mark Twain",
         "offsetgroup": "Mark Twain",
         "orientation": "v",
         "showlegend": true,
         "textposition": "auto",
         "texttemplate": "%{y:.s}",
         "type": "bar",
         "x": [
          "Mark Twain"
         ],
         "xaxis": "x",
         "y": [
          6
         ],
         "yaxis": "y"
        },
        {
         "alignmentgroup": "True",
         "hovertemplate": "Author=%{x}<br>Quantily=%{y}<extra></extra>",
         "legendgroup": "Dr. Seuss",
         "marker": {
          "color": "#FFA15A",
          "pattern": {
           "shape": ""
          }
         },
         "name": "Dr. Seuss",
         "offsetgroup": "Dr. Seuss",
         "orientation": "v",
         "showlegend": true,
         "textposition": "auto",
         "texttemplate": "%{y:.s}",
         "type": "bar",
         "x": [
          "Dr. Seuss"
         ],
         "xaxis": "x",
         "y": [
          6
         ],
         "yaxis": "y"
        },
        {
         "alignmentgroup": "True",
         "hovertemplate": "Author=%{x}<br>Quantily=%{y}<extra></extra>",
         "legendgroup": "C.S. Lewis",
         "marker": {
          "color": "#19d3f3",
          "pattern": {
           "shape": ""
          }
         },
         "name": "C.S. Lewis",
         "offsetgroup": "C.S. Lewis",
         "orientation": "v",
         "showlegend": true,
         "textposition": "auto",
         "texttemplate": "%{y:.s}",
         "type": "bar",
         "x": [
          "C.S. Lewis"
         ],
         "xaxis": "x",
         "y": [
          5
         ],
         "yaxis": "y"
        },
        {
         "alignmentgroup": "True",
         "hovertemplate": "Author=%{x}<br>Quantily=%{y}<extra></extra>",
         "legendgroup": "Jane Austen",
         "marker": {
          "color": "#FF6692",
          "pattern": {
           "shape": ""
          }
         },
         "name": "Jane Austen",
         "offsetgroup": "Jane Austen",
         "orientation": "v",
         "showlegend": true,
         "textposition": "auto",
         "texttemplate": "%{y:.s}",
         "type": "bar",
         "x": [
          "Jane Austen"
         ],
         "xaxis": "x",
         "y": [
          5
         ],
         "yaxis": "y"
        },
        {
         "alignmentgroup": "True",
         "hovertemplate": "Author=%{x}<br>Quantily=%{y}<extra></extra>",
         "legendgroup": "Bob Marley",
         "marker": {
          "color": "#B6E880",
          "pattern": {
           "shape": ""
          }
         },
         "name": "Bob Marley",
         "offsetgroup": "Bob Marley",
         "orientation": "v",
         "showlegend": true,
         "textposition": "auto",
         "texttemplate": "%{y:.s}",
         "type": "bar",
         "x": [
          "Bob Marley"
         ],
         "xaxis": "x",
         "y": [
          3
         ],
         "yaxis": "y"
        },
        {
         "alignmentgroup": "True",
         "hovertemplate": "Author=%{x}<br>Quantily=%{y}<extra></extra>",
         "legendgroup": "George R.R. Martin",
         "marker": {
          "color": "#FF97FF",
          "pattern": {
           "shape": ""
          }
         },
         "name": "George R.R. Martin",
         "offsetgroup": "George R.R. Martin",
         "orientation": "v",
         "showlegend": true,
         "textposition": "auto",
         "texttemplate": "%{y:.s}",
         "type": "bar",
         "x": [
          "George R.R. Martin"
         ],
         "xaxis": "x",
         "y": [
          2
         ],
         "yaxis": "y"
        },
        {
         "alignmentgroup": "True",
         "hovertemplate": "Author=%{x}<br>Quantily=%{y}<extra></extra>",
         "legendgroup": "Suzanne Collins",
         "marker": {
          "color": "#FECB52",
          "pattern": {
           "shape": ""
          }
         },
         "name": "Suzanne Collins",
         "offsetgroup": "Suzanne Collins",
         "orientation": "v",
         "showlegend": true,
         "textposition": "auto",
         "texttemplate": "%{y:.s}",
         "type": "bar",
         "x": [
          "Suzanne Collins"
         ],
         "xaxis": "x",
         "y": [
          2
         ],
         "yaxis": "y"
        }
       ],
       "layout": {
        "barmode": "relative",
        "legend": {
         "title": {
          "text": "Author"
         },
         "tracegroupgap": 0
        },
        "template": {
         "data": {
          "bar": [
           {
            "error_x": {
             "color": "#2a3f5f"
            },
            "error_y": {
             "color": "#2a3f5f"
            },
            "marker": {
             "line": {
              "color": "#E5ECF6",
              "width": 0.5
             },
             "pattern": {
              "fillmode": "overlay",
              "size": 10,
              "solidity": 0.2
             }
            },
            "type": "bar"
           }
          ],
          "barpolar": [
           {
            "marker": {
             "line": {
              "color": "#E5ECF6",
              "width": 0.5
             },
             "pattern": {
              "fillmode": "overlay",
              "size": 10,
              "solidity": 0.2
             }
            },
            "type": "barpolar"
           }
          ],
          "carpet": [
           {
            "aaxis": {
             "endlinecolor": "#2a3f5f",
             "gridcolor": "white",
             "linecolor": "white",
             "minorgridcolor": "white",
             "startlinecolor": "#2a3f5f"
            },
            "baxis": {
             "endlinecolor": "#2a3f5f",
             "gridcolor": "white",
             "linecolor": "white",
             "minorgridcolor": "white",
             "startlinecolor": "#2a3f5f"
            },
            "type": "carpet"
           }
          ],
          "choropleth": [
           {
            "colorbar": {
             "outlinewidth": 0,
             "ticks": ""
            },
            "type": "choropleth"
           }
          ],
          "contour": [
           {
            "colorbar": {
             "outlinewidth": 0,
             "ticks": ""
            },
            "colorscale": [
             [
              0,
              "#0d0887"
             ],
             [
              0.1111111111111111,
              "#46039f"
             ],
             [
              0.2222222222222222,
              "#7201a8"
             ],
             [
              0.3333333333333333,
              "#9c179e"
             ],
             [
              0.4444444444444444,
              "#bd3786"
             ],
             [
              0.5555555555555556,
              "#d8576b"
             ],
             [
              0.6666666666666666,
              "#ed7953"
             ],
             [
              0.7777777777777778,
              "#fb9f3a"
             ],
             [
              0.8888888888888888,
              "#fdca26"
             ],
             [
              1,
              "#f0f921"
             ]
            ],
            "type": "contour"
           }
          ],
          "contourcarpet": [
           {
            "colorbar": {
             "outlinewidth": 0,
             "ticks": ""
            },
            "type": "contourcarpet"
           }
          ],
          "heatmap": [
           {
            "colorbar": {
             "outlinewidth": 0,
             "ticks": ""
            },
            "colorscale": [
             [
              0,
              "#0d0887"
             ],
             [
              0.1111111111111111,
              "#46039f"
             ],
             [
              0.2222222222222222,
              "#7201a8"
             ],
             [
              0.3333333333333333,
              "#9c179e"
             ],
             [
              0.4444444444444444,
              "#bd3786"
             ],
             [
              0.5555555555555556,
              "#d8576b"
             ],
             [
              0.6666666666666666,
              "#ed7953"
             ],
             [
              0.7777777777777778,
              "#fb9f3a"
             ],
             [
              0.8888888888888888,
              "#fdca26"
             ],
             [
              1,
              "#f0f921"
             ]
            ],
            "type": "heatmap"
           }
          ],
          "heatmapgl": [
           {
            "colorbar": {
             "outlinewidth": 0,
             "ticks": ""
            },
            "colorscale": [
             [
              0,
              "#0d0887"
             ],
             [
              0.1111111111111111,
              "#46039f"
             ],
             [
              0.2222222222222222,
              "#7201a8"
             ],
             [
              0.3333333333333333,
              "#9c179e"
             ],
             [
              0.4444444444444444,
              "#bd3786"
             ],
             [
              0.5555555555555556,
              "#d8576b"
             ],
             [
              0.6666666666666666,
              "#ed7953"
             ],
             [
              0.7777777777777778,
              "#fb9f3a"
             ],
             [
              0.8888888888888888,
              "#fdca26"
             ],
             [
              1,
              "#f0f921"
             ]
            ],
            "type": "heatmapgl"
           }
          ],
          "histogram": [
           {
            "marker": {
             "pattern": {
              "fillmode": "overlay",
              "size": 10,
              "solidity": 0.2
             }
            },
            "type": "histogram"
           }
          ],
          "histogram2d": [
           {
            "colorbar": {
             "outlinewidth": 0,
             "ticks": ""
            },
            "colorscale": [
             [
              0,
              "#0d0887"
             ],
             [
              0.1111111111111111,
              "#46039f"
             ],
             [
              0.2222222222222222,
              "#7201a8"
             ],
             [
              0.3333333333333333,
              "#9c179e"
             ],
             [
              0.4444444444444444,
              "#bd3786"
             ],
             [
              0.5555555555555556,
              "#d8576b"
             ],
             [
              0.6666666666666666,
              "#ed7953"
             ],
             [
              0.7777777777777778,
              "#fb9f3a"
             ],
             [
              0.8888888888888888,
              "#fdca26"
             ],
             [
              1,
              "#f0f921"
             ]
            ],
            "type": "histogram2d"
           }
          ],
          "histogram2dcontour": [
           {
            "colorbar": {
             "outlinewidth": 0,
             "ticks": ""
            },
            "colorscale": [
             [
              0,
              "#0d0887"
             ],
             [
              0.1111111111111111,
              "#46039f"
             ],
             [
              0.2222222222222222,
              "#7201a8"
             ],
             [
              0.3333333333333333,
              "#9c179e"
             ],
             [
              0.4444444444444444,
              "#bd3786"
             ],
             [
              0.5555555555555556,
              "#d8576b"
             ],
             [
              0.6666666666666666,
              "#ed7953"
             ],
             [
              0.7777777777777778,
              "#fb9f3a"
             ],
             [
              0.8888888888888888,
              "#fdca26"
             ],
             [
              1,
              "#f0f921"
             ]
            ],
            "type": "histogram2dcontour"
           }
          ],
          "mesh3d": [
           {
            "colorbar": {
             "outlinewidth": 0,
             "ticks": ""
            },
            "type": "mesh3d"
           }
          ],
          "parcoords": [
           {
            "line": {
             "colorbar": {
              "outlinewidth": 0,
              "ticks": ""
             }
            },
            "type": "parcoords"
           }
          ],
          "pie": [
           {
            "automargin": true,
            "type": "pie"
           }
          ],
          "scatter": [
           {
            "fillpattern": {
             "fillmode": "overlay",
             "size": 10,
             "solidity": 0.2
            },
            "type": "scatter"
           }
          ],
          "scatter3d": [
           {
            "line": {
             "colorbar": {
              "outlinewidth": 0,
              "ticks": ""
             }
            },
            "marker": {
             "colorbar": {
              "outlinewidth": 0,
              "ticks": ""
             }
            },
            "type": "scatter3d"
           }
          ],
          "scattercarpet": [
           {
            "marker": {
             "colorbar": {
              "outlinewidth": 0,
              "ticks": ""
             }
            },
            "type": "scattercarpet"
           }
          ],
          "scattergeo": [
           {
            "marker": {
             "colorbar": {
              "outlinewidth": 0,
              "ticks": ""
             }
            },
            "type": "scattergeo"
           }
          ],
          "scattergl": [
           {
            "marker": {
             "colorbar": {
              "outlinewidth": 0,
              "ticks": ""
             }
            },
            "type": "scattergl"
           }
          ],
          "scattermapbox": [
           {
            "marker": {
             "colorbar": {
              "outlinewidth": 0,
              "ticks": ""
             }
            },
            "type": "scattermapbox"
           }
          ],
          "scatterpolar": [
           {
            "marker": {
             "colorbar": {
              "outlinewidth": 0,
              "ticks": ""
             }
            },
            "type": "scatterpolar"
           }
          ],
          "scatterpolargl": [
           {
            "marker": {
             "colorbar": {
              "outlinewidth": 0,
              "ticks": ""
             }
            },
            "type": "scatterpolargl"
           }
          ],
          "scatterternary": [
           {
            "marker": {
             "colorbar": {
              "outlinewidth": 0,
              "ticks": ""
             }
            },
            "type": "scatterternary"
           }
          ],
          "surface": [
           {
            "colorbar": {
             "outlinewidth": 0,
             "ticks": ""
            },
            "colorscale": [
             [
              0,
              "#0d0887"
             ],
             [
              0.1111111111111111,
              "#46039f"
             ],
             [
              0.2222222222222222,
              "#7201a8"
             ],
             [
              0.3333333333333333,
              "#9c179e"
             ],
             [
              0.4444444444444444,
              "#bd3786"
             ],
             [
              0.5555555555555556,
              "#d8576b"
             ],
             [
              0.6666666666666666,
              "#ed7953"
             ],
             [
              0.7777777777777778,
              "#fb9f3a"
             ],
             [
              0.8888888888888888,
              "#fdca26"
             ],
             [
              1,
              "#f0f921"
             ]
            ],
            "type": "surface"
           }
          ],
          "table": [
           {
            "cells": {
             "fill": {
              "color": "#EBF0F8"
             },
             "line": {
              "color": "white"
             }
            },
            "header": {
             "fill": {
              "color": "#C8D4E3"
             },
             "line": {
              "color": "white"
             }
            },
            "type": "table"
           }
          ]
         },
         "layout": {
          "annotationdefaults": {
           "arrowcolor": "#2a3f5f",
           "arrowhead": 0,
           "arrowwidth": 1
          },
          "autotypenumbers": "strict",
          "coloraxis": {
           "colorbar": {
            "outlinewidth": 0,
            "ticks": ""
           }
          },
          "colorscale": {
           "diverging": [
            [
             0,
             "#8e0152"
            ],
            [
             0.1,
             "#c51b7d"
            ],
            [
             0.2,
             "#de77ae"
            ],
            [
             0.3,
             "#f1b6da"
            ],
            [
             0.4,
             "#fde0ef"
            ],
            [
             0.5,
             "#f7f7f7"
            ],
            [
             0.6,
             "#e6f5d0"
            ],
            [
             0.7,
             "#b8e186"
            ],
            [
             0.8,
             "#7fbc41"
            ],
            [
             0.9,
             "#4d9221"
            ],
            [
             1,
             "#276419"
            ]
           ],
           "sequential": [
            [
             0,
             "#0d0887"
            ],
            [
             0.1111111111111111,
             "#46039f"
            ],
            [
             0.2222222222222222,
             "#7201a8"
            ],
            [
             0.3333333333333333,
             "#9c179e"
            ],
            [
             0.4444444444444444,
             "#bd3786"
            ],
            [
             0.5555555555555556,
             "#d8576b"
            ],
            [
             0.6666666666666666,
             "#ed7953"
            ],
            [
             0.7777777777777778,
             "#fb9f3a"
            ],
            [
             0.8888888888888888,
             "#fdca26"
            ],
            [
             1,
             "#f0f921"
            ]
           ],
           "sequentialminus": [
            [
             0,
             "#0d0887"
            ],
            [
             0.1111111111111111,
             "#46039f"
            ],
            [
             0.2222222222222222,
             "#7201a8"
            ],
            [
             0.3333333333333333,
             "#9c179e"
            ],
            [
             0.4444444444444444,
             "#bd3786"
            ],
            [
             0.5555555555555556,
             "#d8576b"
            ],
            [
             0.6666666666666666,
             "#ed7953"
            ],
            [
             0.7777777777777778,
             "#fb9f3a"
            ],
            [
             0.8888888888888888,
             "#fdca26"
            ],
            [
             1,
             "#f0f921"
            ]
           ]
          },
          "colorway": [
           "#636efa",
           "#EF553B",
           "#00cc96",
           "#ab63fa",
           "#FFA15A",
           "#19d3f3",
           "#FF6692",
           "#B6E880",
           "#FF97FF",
           "#FECB52"
          ],
          "font": {
           "color": "#2a3f5f"
          },
          "geo": {
           "bgcolor": "white",
           "lakecolor": "white",
           "landcolor": "#E5ECF6",
           "showlakes": true,
           "showland": true,
           "subunitcolor": "white"
          },
          "hoverlabel": {
           "align": "left"
          },
          "hovermode": "closest",
          "mapbox": {
           "style": "light"
          },
          "paper_bgcolor": "white",
          "plot_bgcolor": "#E5ECF6",
          "polar": {
           "angularaxis": {
            "gridcolor": "white",
            "linecolor": "white",
            "ticks": ""
           },
           "bgcolor": "#E5ECF6",
           "radialaxis": {
            "gridcolor": "white",
            "linecolor": "white",
            "ticks": ""
           }
          },
          "scene": {
           "xaxis": {
            "backgroundcolor": "#E5ECF6",
            "gridcolor": "white",
            "gridwidth": 2,
            "linecolor": "white",
            "showbackground": true,
            "ticks": "",
            "zerolinecolor": "white"
           },
           "yaxis": {
            "backgroundcolor": "#E5ECF6",
            "gridcolor": "white",
            "gridwidth": 2,
            "linecolor": "white",
            "showbackground": true,
            "ticks": "",
            "zerolinecolor": "white"
           },
           "zaxis": {
            "backgroundcolor": "#E5ECF6",
            "gridcolor": "white",
            "gridwidth": 2,
            "linecolor": "white",
            "showbackground": true,
            "ticks": "",
            "zerolinecolor": "white"
           }
          },
          "shapedefaults": {
           "line": {
            "color": "#2a3f5f"
           }
          },
          "ternary": {
           "aaxis": {
            "gridcolor": "white",
            "linecolor": "white",
            "ticks": ""
           },
           "baxis": {
            "gridcolor": "white",
            "linecolor": "white",
            "ticks": ""
           },
           "bgcolor": "#E5ECF6",
           "caxis": {
            "gridcolor": "white",
            "linecolor": "white",
            "ticks": ""
           }
          },
          "title": {
           "x": 0.05
          },
          "xaxis": {
           "automargin": true,
           "gridcolor": "white",
           "linecolor": "white",
           "ticks": "",
           "title": {
            "standoff": 15
           },
           "zerolinecolor": "white",
           "zerolinewidth": 2
          },
          "yaxis": {
           "automargin": true,
           "gridcolor": "white",
           "linecolor": "white",
           "ticks": "",
           "title": {
            "standoff": 15
           },
           "zerolinecolor": "white",
           "zerolinewidth": 2
          }
         }
        },
        "title": {
         "text": "Top 10 author with the most quotes"
        },
        "xaxis": {
         "anchor": "y",
         "categoryarray": [
          "Albert Einstein",
          "J.K. Rowling",
          "Marilyn Monroe",
          "Mark Twain",
          "Dr. Seuss",
          "C.S. Lewis",
          "Jane Austen",
          "Bob Marley",
          "George R.R. Martin",
          "Suzanne Collins"
         ],
         "categoryorder": "array",
         "domain": [
          0,
          1
         ],
         "title": {
          "text": "Author"
         }
        },
        "yaxis": {
         "anchor": "x",
         "domain": [
          0,
          1
         ],
         "title": {
          "text": "Quantily"
         }
        }
       }
      }
     },
     "metadata": {},
     "output_type": "display_data"
    }
   ],
   "source": [
    "px.bar(\n",
    "    most_author[:10],\n",
    "    x= 'Author',\n",
    "    y= 'Quantily',\n",
    "    text_auto='.s',\n",
    "    color='Author',\n",
    "    title = 'Top 10 author with the most quotes'\n",
    ")"
   ]
  },
  {
   "cell_type": "code",
   "execution_count": 111,
   "metadata": {},
   "outputs": [
    {
     "data": {
      "application/vnd.plotly.v1+json": {
       "config": {
        "plotlyServerURL": "https://plot.ly"
       },
       "data": [
        {
         "alignmentgroup": "True",
         "hovertemplate": "Author=%{x}<br>Quantily=%{y}<extra></extra>",
         "legendgroup": "Friedrich Nietzsche",
         "marker": {
          "color": "#636efa",
          "pattern": {
           "shape": ""
          }
         },
         "name": "Friedrich Nietzsche",
         "offsetgroup": "Friedrich Nietzsche",
         "orientation": "v",
         "showlegend": true,
         "textposition": "auto",
         "texttemplate": "%{y:.s}",
         "type": "bar",
         "x": [
          "Friedrich Nietzsche"
         ],
         "xaxis": "x",
         "y": [
          1
         ],
         "yaxis": "y"
        },
        {
         "alignmentgroup": "True",
         "hovertemplate": "Author=%{x}<br>Quantily=%{y}<extra></extra>",
         "legendgroup": "Garrison Keillor",
         "marker": {
          "color": "#EF553B",
          "pattern": {
           "shape": ""
          }
         },
         "name": "Garrison Keillor",
         "offsetgroup": "Garrison Keillor",
         "orientation": "v",
         "showlegend": true,
         "textposition": "auto",
         "texttemplate": "%{y:.s}",
         "type": "bar",
         "x": [
          "Garrison Keillor"
         ],
         "xaxis": "x",
         "y": [
          1
         ],
         "yaxis": "y"
        },
        {
         "alignmentgroup": "True",
         "hovertemplate": "Author=%{x}<br>Quantily=%{y}<extra></extra>",
         "legendgroup": "George Bernard Shaw",
         "marker": {
          "color": "#00cc96",
          "pattern": {
           "shape": ""
          }
         },
         "name": "George Bernard Shaw",
         "offsetgroup": "George Bernard Shaw",
         "orientation": "v",
         "showlegend": true,
         "textposition": "auto",
         "texttemplate": "%{y:.s}",
         "type": "bar",
         "x": [
          "George Bernard Shaw"
         ],
         "xaxis": "x",
         "y": [
          1
         ],
         "yaxis": "y"
        },
        {
         "alignmentgroup": "True",
         "hovertemplate": "Author=%{x}<br>Quantily=%{y}<extra></extra>",
         "legendgroup": "George Carlin",
         "marker": {
          "color": "#ab63fa",
          "pattern": {
           "shape": ""
          }
         },
         "name": "George Carlin",
         "offsetgroup": "George Carlin",
         "orientation": "v",
         "showlegend": true,
         "textposition": "auto",
         "texttemplate": "%{y:.s}",
         "type": "bar",
         "x": [
          "George Carlin"
         ],
         "xaxis": "x",
         "y": [
          1
         ],
         "yaxis": "y"
        },
        {
         "alignmentgroup": "True",
         "hovertemplate": "Author=%{x}<br>Quantily=%{y}<extra></extra>",
         "legendgroup": "George Eliot",
         "marker": {
          "color": "#FFA15A",
          "pattern": {
           "shape": ""
          }
         },
         "name": "George Eliot",
         "offsetgroup": "George Eliot",
         "orientation": "v",
         "showlegend": true,
         "textposition": "auto",
         "texttemplate": "%{y:.s}",
         "type": "bar",
         "x": [
          "George Eliot"
         ],
         "xaxis": "x",
         "y": [
          1
         ],
         "yaxis": "y"
        },
        {
         "alignmentgroup": "True",
         "hovertemplate": "Author=%{x}<br>Quantily=%{y}<extra></extra>",
         "legendgroup": "Harper Lee",
         "marker": {
          "color": "#19d3f3",
          "pattern": {
           "shape": ""
          }
         },
         "name": "Harper Lee",
         "offsetgroup": "Harper Lee",
         "orientation": "v",
         "showlegend": true,
         "textposition": "auto",
         "texttemplate": "%{y:.s}",
         "type": "bar",
         "x": [
          "Harper Lee"
         ],
         "xaxis": "x",
         "y": [
          1
         ],
         "yaxis": "y"
        },
        {
         "alignmentgroup": "True",
         "hovertemplate": "Author=%{x}<br>Quantily=%{y}<extra></extra>",
         "legendgroup": "Haruki Murakami",
         "marker": {
          "color": "#FF6692",
          "pattern": {
           "shape": ""
          }
         },
         "name": "Haruki Murakami",
         "offsetgroup": "Haruki Murakami",
         "orientation": "v",
         "showlegend": true,
         "textposition": "auto",
         "texttemplate": "%{y:.s}",
         "type": "bar",
         "x": [
          "Haruki Murakami"
         ],
         "xaxis": "x",
         "y": [
          1
         ],
         "yaxis": "y"
        },
        {
         "alignmentgroup": "True",
         "hovertemplate": "Author=%{x}<br>Quantily=%{y}<extra></extra>",
         "legendgroup": "Helen Keller",
         "marker": {
          "color": "#B6E880",
          "pattern": {
           "shape": ""
          }
         },
         "name": "Helen Keller",
         "offsetgroup": "Helen Keller",
         "orientation": "v",
         "showlegend": true,
         "textposition": "auto",
         "texttemplate": "%{y:.s}",
         "type": "bar",
         "x": [
          "Helen Keller"
         ],
         "xaxis": "x",
         "y": [
          1
         ],
         "yaxis": "y"
        },
        {
         "alignmentgroup": "True",
         "hovertemplate": "Author=%{x}<br>Quantily=%{y}<extra></extra>",
         "legendgroup": "Alexandre Dumas fils",
         "marker": {
          "color": "#FF97FF",
          "pattern": {
           "shape": ""
          }
         },
         "name": "Alexandre Dumas fils",
         "offsetgroup": "Alexandre Dumas fils",
         "orientation": "v",
         "showlegend": true,
         "textposition": "auto",
         "texttemplate": "%{y:.s}",
         "type": "bar",
         "x": [
          "Alexandre Dumas fils"
         ],
         "xaxis": "x",
         "y": [
          1
         ],
         "yaxis": "y"
        },
        {
         "alignmentgroup": "True",
         "hovertemplate": "Author=%{x}<br>Quantily=%{y}<extra></extra>",
         "legendgroup": "William Nicholson",
         "marker": {
          "color": "#FECB52",
          "pattern": {
           "shape": ""
          }
         },
         "name": "William Nicholson",
         "offsetgroup": "William Nicholson",
         "orientation": "v",
         "showlegend": true,
         "textposition": "auto",
         "texttemplate": "%{y:.s}",
         "type": "bar",
         "x": [
          "William Nicholson"
         ],
         "xaxis": "x",
         "y": [
          1
         ],
         "yaxis": "y"
        }
       ],
       "layout": {
        "barmode": "relative",
        "legend": {
         "title": {
          "text": "Author"
         },
         "tracegroupgap": 0
        },
        "template": {
         "data": {
          "bar": [
           {
            "error_x": {
             "color": "#2a3f5f"
            },
            "error_y": {
             "color": "#2a3f5f"
            },
            "marker": {
             "line": {
              "color": "#E5ECF6",
              "width": 0.5
             },
             "pattern": {
              "fillmode": "overlay",
              "size": 10,
              "solidity": 0.2
             }
            },
            "type": "bar"
           }
          ],
          "barpolar": [
           {
            "marker": {
             "line": {
              "color": "#E5ECF6",
              "width": 0.5
             },
             "pattern": {
              "fillmode": "overlay",
              "size": 10,
              "solidity": 0.2
             }
            },
            "type": "barpolar"
           }
          ],
          "carpet": [
           {
            "aaxis": {
             "endlinecolor": "#2a3f5f",
             "gridcolor": "white",
             "linecolor": "white",
             "minorgridcolor": "white",
             "startlinecolor": "#2a3f5f"
            },
            "baxis": {
             "endlinecolor": "#2a3f5f",
             "gridcolor": "white",
             "linecolor": "white",
             "minorgridcolor": "white",
             "startlinecolor": "#2a3f5f"
            },
            "type": "carpet"
           }
          ],
          "choropleth": [
           {
            "colorbar": {
             "outlinewidth": 0,
             "ticks": ""
            },
            "type": "choropleth"
           }
          ],
          "contour": [
           {
            "colorbar": {
             "outlinewidth": 0,
             "ticks": ""
            },
            "colorscale": [
             [
              0,
              "#0d0887"
             ],
             [
              0.1111111111111111,
              "#46039f"
             ],
             [
              0.2222222222222222,
              "#7201a8"
             ],
             [
              0.3333333333333333,
              "#9c179e"
             ],
             [
              0.4444444444444444,
              "#bd3786"
             ],
             [
              0.5555555555555556,
              "#d8576b"
             ],
             [
              0.6666666666666666,
              "#ed7953"
             ],
             [
              0.7777777777777778,
              "#fb9f3a"
             ],
             [
              0.8888888888888888,
              "#fdca26"
             ],
             [
              1,
              "#f0f921"
             ]
            ],
            "type": "contour"
           }
          ],
          "contourcarpet": [
           {
            "colorbar": {
             "outlinewidth": 0,
             "ticks": ""
            },
            "type": "contourcarpet"
           }
          ],
          "heatmap": [
           {
            "colorbar": {
             "outlinewidth": 0,
             "ticks": ""
            },
            "colorscale": [
             [
              0,
              "#0d0887"
             ],
             [
              0.1111111111111111,
              "#46039f"
             ],
             [
              0.2222222222222222,
              "#7201a8"
             ],
             [
              0.3333333333333333,
              "#9c179e"
             ],
             [
              0.4444444444444444,
              "#bd3786"
             ],
             [
              0.5555555555555556,
              "#d8576b"
             ],
             [
              0.6666666666666666,
              "#ed7953"
             ],
             [
              0.7777777777777778,
              "#fb9f3a"
             ],
             [
              0.8888888888888888,
              "#fdca26"
             ],
             [
              1,
              "#f0f921"
             ]
            ],
            "type": "heatmap"
           }
          ],
          "heatmapgl": [
           {
            "colorbar": {
             "outlinewidth": 0,
             "ticks": ""
            },
            "colorscale": [
             [
              0,
              "#0d0887"
             ],
             [
              0.1111111111111111,
              "#46039f"
             ],
             [
              0.2222222222222222,
              "#7201a8"
             ],
             [
              0.3333333333333333,
              "#9c179e"
             ],
             [
              0.4444444444444444,
              "#bd3786"
             ],
             [
              0.5555555555555556,
              "#d8576b"
             ],
             [
              0.6666666666666666,
              "#ed7953"
             ],
             [
              0.7777777777777778,
              "#fb9f3a"
             ],
             [
              0.8888888888888888,
              "#fdca26"
             ],
             [
              1,
              "#f0f921"
             ]
            ],
            "type": "heatmapgl"
           }
          ],
          "histogram": [
           {
            "marker": {
             "pattern": {
              "fillmode": "overlay",
              "size": 10,
              "solidity": 0.2
             }
            },
            "type": "histogram"
           }
          ],
          "histogram2d": [
           {
            "colorbar": {
             "outlinewidth": 0,
             "ticks": ""
            },
            "colorscale": [
             [
              0,
              "#0d0887"
             ],
             [
              0.1111111111111111,
              "#46039f"
             ],
             [
              0.2222222222222222,
              "#7201a8"
             ],
             [
              0.3333333333333333,
              "#9c179e"
             ],
             [
              0.4444444444444444,
              "#bd3786"
             ],
             [
              0.5555555555555556,
              "#d8576b"
             ],
             [
              0.6666666666666666,
              "#ed7953"
             ],
             [
              0.7777777777777778,
              "#fb9f3a"
             ],
             [
              0.8888888888888888,
              "#fdca26"
             ],
             [
              1,
              "#f0f921"
             ]
            ],
            "type": "histogram2d"
           }
          ],
          "histogram2dcontour": [
           {
            "colorbar": {
             "outlinewidth": 0,
             "ticks": ""
            },
            "colorscale": [
             [
              0,
              "#0d0887"
             ],
             [
              0.1111111111111111,
              "#46039f"
             ],
             [
              0.2222222222222222,
              "#7201a8"
             ],
             [
              0.3333333333333333,
              "#9c179e"
             ],
             [
              0.4444444444444444,
              "#bd3786"
             ],
             [
              0.5555555555555556,
              "#d8576b"
             ],
             [
              0.6666666666666666,
              "#ed7953"
             ],
             [
              0.7777777777777778,
              "#fb9f3a"
             ],
             [
              0.8888888888888888,
              "#fdca26"
             ],
             [
              1,
              "#f0f921"
             ]
            ],
            "type": "histogram2dcontour"
           }
          ],
          "mesh3d": [
           {
            "colorbar": {
             "outlinewidth": 0,
             "ticks": ""
            },
            "type": "mesh3d"
           }
          ],
          "parcoords": [
           {
            "line": {
             "colorbar": {
              "outlinewidth": 0,
              "ticks": ""
             }
            },
            "type": "parcoords"
           }
          ],
          "pie": [
           {
            "automargin": true,
            "type": "pie"
           }
          ],
          "scatter": [
           {
            "fillpattern": {
             "fillmode": "overlay",
             "size": 10,
             "solidity": 0.2
            },
            "type": "scatter"
           }
          ],
          "scatter3d": [
           {
            "line": {
             "colorbar": {
              "outlinewidth": 0,
              "ticks": ""
             }
            },
            "marker": {
             "colorbar": {
              "outlinewidth": 0,
              "ticks": ""
             }
            },
            "type": "scatter3d"
           }
          ],
          "scattercarpet": [
           {
            "marker": {
             "colorbar": {
              "outlinewidth": 0,
              "ticks": ""
             }
            },
            "type": "scattercarpet"
           }
          ],
          "scattergeo": [
           {
            "marker": {
             "colorbar": {
              "outlinewidth": 0,
              "ticks": ""
             }
            },
            "type": "scattergeo"
           }
          ],
          "scattergl": [
           {
            "marker": {
             "colorbar": {
              "outlinewidth": 0,
              "ticks": ""
             }
            },
            "type": "scattergl"
           }
          ],
          "scattermapbox": [
           {
            "marker": {
             "colorbar": {
              "outlinewidth": 0,
              "ticks": ""
             }
            },
            "type": "scattermapbox"
           }
          ],
          "scatterpolar": [
           {
            "marker": {
             "colorbar": {
              "outlinewidth": 0,
              "ticks": ""
             }
            },
            "type": "scatterpolar"
           }
          ],
          "scatterpolargl": [
           {
            "marker": {
             "colorbar": {
              "outlinewidth": 0,
              "ticks": ""
             }
            },
            "type": "scatterpolargl"
           }
          ],
          "scatterternary": [
           {
            "marker": {
             "colorbar": {
              "outlinewidth": 0,
              "ticks": ""
             }
            },
            "type": "scatterternary"
           }
          ],
          "surface": [
           {
            "colorbar": {
             "outlinewidth": 0,
             "ticks": ""
            },
            "colorscale": [
             [
              0,
              "#0d0887"
             ],
             [
              0.1111111111111111,
              "#46039f"
             ],
             [
              0.2222222222222222,
              "#7201a8"
             ],
             [
              0.3333333333333333,
              "#9c179e"
             ],
             [
              0.4444444444444444,
              "#bd3786"
             ],
             [
              0.5555555555555556,
              "#d8576b"
             ],
             [
              0.6666666666666666,
              "#ed7953"
             ],
             [
              0.7777777777777778,
              "#fb9f3a"
             ],
             [
              0.8888888888888888,
              "#fdca26"
             ],
             [
              1,
              "#f0f921"
             ]
            ],
            "type": "surface"
           }
          ],
          "table": [
           {
            "cells": {
             "fill": {
              "color": "#EBF0F8"
             },
             "line": {
              "color": "white"
             }
            },
            "header": {
             "fill": {
              "color": "#C8D4E3"
             },
             "line": {
              "color": "white"
             }
            },
            "type": "table"
           }
          ]
         },
         "layout": {
          "annotationdefaults": {
           "arrowcolor": "#2a3f5f",
           "arrowhead": 0,
           "arrowwidth": 1
          },
          "autotypenumbers": "strict",
          "coloraxis": {
           "colorbar": {
            "outlinewidth": 0,
            "ticks": ""
           }
          },
          "colorscale": {
           "diverging": [
            [
             0,
             "#8e0152"
            ],
            [
             0.1,
             "#c51b7d"
            ],
            [
             0.2,
             "#de77ae"
            ],
            [
             0.3,
             "#f1b6da"
            ],
            [
             0.4,
             "#fde0ef"
            ],
            [
             0.5,
             "#f7f7f7"
            ],
            [
             0.6,
             "#e6f5d0"
            ],
            [
             0.7,
             "#b8e186"
            ],
            [
             0.8,
             "#7fbc41"
            ],
            [
             0.9,
             "#4d9221"
            ],
            [
             1,
             "#276419"
            ]
           ],
           "sequential": [
            [
             0,
             "#0d0887"
            ],
            [
             0.1111111111111111,
             "#46039f"
            ],
            [
             0.2222222222222222,
             "#7201a8"
            ],
            [
             0.3333333333333333,
             "#9c179e"
            ],
            [
             0.4444444444444444,
             "#bd3786"
            ],
            [
             0.5555555555555556,
             "#d8576b"
            ],
            [
             0.6666666666666666,
             "#ed7953"
            ],
            [
             0.7777777777777778,
             "#fb9f3a"
            ],
            [
             0.8888888888888888,
             "#fdca26"
            ],
            [
             1,
             "#f0f921"
            ]
           ],
           "sequentialminus": [
            [
             0,
             "#0d0887"
            ],
            [
             0.1111111111111111,
             "#46039f"
            ],
            [
             0.2222222222222222,
             "#7201a8"
            ],
            [
             0.3333333333333333,
             "#9c179e"
            ],
            [
             0.4444444444444444,
             "#bd3786"
            ],
            [
             0.5555555555555556,
             "#d8576b"
            ],
            [
             0.6666666666666666,
             "#ed7953"
            ],
            [
             0.7777777777777778,
             "#fb9f3a"
            ],
            [
             0.8888888888888888,
             "#fdca26"
            ],
            [
             1,
             "#f0f921"
            ]
           ]
          },
          "colorway": [
           "#636efa",
           "#EF553B",
           "#00cc96",
           "#ab63fa",
           "#FFA15A",
           "#19d3f3",
           "#FF6692",
           "#B6E880",
           "#FF97FF",
           "#FECB52"
          ],
          "font": {
           "color": "#2a3f5f"
          },
          "geo": {
           "bgcolor": "white",
           "lakecolor": "white",
           "landcolor": "#E5ECF6",
           "showlakes": true,
           "showland": true,
           "subunitcolor": "white"
          },
          "hoverlabel": {
           "align": "left"
          },
          "hovermode": "closest",
          "mapbox": {
           "style": "light"
          },
          "paper_bgcolor": "white",
          "plot_bgcolor": "#E5ECF6",
          "polar": {
           "angularaxis": {
            "gridcolor": "white",
            "linecolor": "white",
            "ticks": ""
           },
           "bgcolor": "#E5ECF6",
           "radialaxis": {
            "gridcolor": "white",
            "linecolor": "white",
            "ticks": ""
           }
          },
          "scene": {
           "xaxis": {
            "backgroundcolor": "#E5ECF6",
            "gridcolor": "white",
            "gridwidth": 2,
            "linecolor": "white",
            "showbackground": true,
            "ticks": "",
            "zerolinecolor": "white"
           },
           "yaxis": {
            "backgroundcolor": "#E5ECF6",
            "gridcolor": "white",
            "gridwidth": 2,
            "linecolor": "white",
            "showbackground": true,
            "ticks": "",
            "zerolinecolor": "white"
           },
           "zaxis": {
            "backgroundcolor": "#E5ECF6",
            "gridcolor": "white",
            "gridwidth": 2,
            "linecolor": "white",
            "showbackground": true,
            "ticks": "",
            "zerolinecolor": "white"
           }
          },
          "shapedefaults": {
           "line": {
            "color": "#2a3f5f"
           }
          },
          "ternary": {
           "aaxis": {
            "gridcolor": "white",
            "linecolor": "white",
            "ticks": ""
           },
           "baxis": {
            "gridcolor": "white",
            "linecolor": "white",
            "ticks": ""
           },
           "bgcolor": "#E5ECF6",
           "caxis": {
            "gridcolor": "white",
            "linecolor": "white",
            "ticks": ""
           }
          },
          "title": {
           "x": 0.05
          },
          "xaxis": {
           "automargin": true,
           "gridcolor": "white",
           "linecolor": "white",
           "ticks": "",
           "title": {
            "standoff": 15
           },
           "zerolinecolor": "white",
           "zerolinewidth": 2
          },
          "yaxis": {
           "automargin": true,
           "gridcolor": "white",
           "linecolor": "white",
           "ticks": "",
           "title": {
            "standoff": 15
           },
           "zerolinecolor": "white",
           "zerolinewidth": 2
          }
         }
        },
        "title": {
         "text": "Top 10 author with the fewest quotes"
        },
        "xaxis": {
         "anchor": "y",
         "categoryarray": [
          "Friedrich Nietzsche",
          "Garrison Keillor",
          "George Bernard Shaw",
          "George Carlin",
          "George Eliot",
          "Harper Lee",
          "Haruki Murakami",
          "Helen Keller",
          "Alexandre Dumas fils",
          "William Nicholson"
         ],
         "categoryorder": "array",
         "domain": [
          0,
          1
         ],
         "title": {
          "text": "Author"
         }
        },
        "yaxis": {
         "anchor": "x",
         "domain": [
          0,
          1
         ],
         "title": {
          "text": "Quantily"
         }
        }
       }
      }
     },
     "metadata": {},
     "output_type": "display_data"
    }
   ],
   "source": [
    "px.bar(\n",
    "    most_author.tail(10),\n",
    "    x= 'Author',\n",
    "    y= 'Quantily',\n",
    "    text_auto='.s',\n",
    "    color='Author',\n",
    "    title = 'Top 10 author with the fewest quotes'\n",
    ")"
   ]
  },
  {
   "attachments": {},
   "cell_type": "markdown",
   "metadata": {},
   "source": [
    "+ Note:\n",
    "    + ở đây chúng ta thấy là Albert Einstein đang là người có nhiều câu nói nhất \n",
    "    + hầu hết người nói tiếng có ít câu nói thường là 1"
   ]
  },
  {
   "attachments": {},
   "cell_type": "markdown",
   "metadata": {},
   "source": [
    "> ### Đặt ra câu hỏi vậy người có nhiều câu nói nhất có phải là người có từ trong câu nhiều nhất và ít nhất"
   ]
  },
  {
   "cell_type": "code",
   "execution_count": 115,
   "metadata": {},
   "outputs": [],
   "source": [
    "meta['quantity_quotes'] = meta.apply(lambda row: len(row.Quote.split(' ')), axis=1)"
   ]
  },
  {
   "cell_type": "code",
   "execution_count": 131,
   "metadata": {},
   "outputs": [],
   "source": [
    "quote = {}\n",
    "\n",
    "for i in meta.Tacgia.unique():\n",
    "    quote[i] = 0\n",
    "for i in range(len(meta)):\n",
    "    quote[meta.Tacgia[i]] = max(quote[meta.Tacgia[i]], meta.quantity_quotes[i])"
   ]
  },
  {
   "cell_type": "code",
   "execution_count": 132,
   "metadata": {},
   "outputs": [
    {
     "data": {
      "text/plain": [
       "dict_keys(['Albert Einstein', 'J.K. Rowling', 'Jane Austen', 'Marilyn Monroe', 'André Gide', 'Thomas A. Edison', 'Eleanor Roosevelt', 'Steve Martin', 'Bob Marley', 'Dr. Seuss', 'Douglas Adams', 'Elie Wiesel', 'Friedrich Nietzsche', 'Mark Twain', 'Allen Saunders', 'Pablo Neruda', 'Ralph Waldo Emerson', 'Mother Teresa', 'Garrison Keillor', 'Jim Henson', 'Charles M. Schulz', 'William Nicholson', 'Jorge Luis Borges', 'George Eliot', 'George R.R. Martin', 'C.S. Lewis', 'Martin Luther King Jr.', 'James Baldwin', 'Haruki Murakami', 'Alexandre Dumas fils', 'Stephenie Meyer', 'Ernest Hemingway', 'Helen Keller', 'George Bernard Shaw', 'Charles Bukowski', 'Suzanne Collins', 'J.R.R. Tolkien', 'Alfred Tennyson', 'Terry Pratchett', 'J.D. Salinger', 'George Carlin', 'John Lennon', 'W.C. Fields', 'Ayn Rand', 'Jimi Hendrix', 'J.M. Barrie', 'E.E. Cummings', 'Khaled Hosseini', 'Harper Lee', \"Madeleine L'Engle\"])"
      ]
     },
     "execution_count": 132,
     "metadata": {},
     "output_type": "execute_result"
    }
   ],
   "source": [
    "quote.keys()"
   ]
  },
  {
   "cell_type": "code",
   "execution_count": 133,
   "metadata": {},
   "outputs": [
    {
     "data": {
      "text/plain": [
       "dict_values([31, 46, 59, 201, 19, 12, 19, 9, 138, 41, 22, 37, 16, 22, 12, 66, 52, 17, 24, 27, 14, 7, 12, 12, 19, 92, 9, 27, 20, 11, 7, 16, 31, 10, 44, 17, 7, 18, 24, 47, 16, 25, 11, 16, 25, 8, 12, 13, 27, 27])"
      ]
     },
     "execution_count": 133,
     "metadata": {},
     "output_type": "execute_result"
    }
   ],
   "source": [
    "quote.values()"
   ]
  },
  {
   "cell_type": "code",
   "execution_count": 139,
   "metadata": {},
   "outputs": [
    {
     "data": {
      "text/html": [
       "<div>\n",
       "<style scoped>\n",
       "    .dataframe tbody tr th:only-of-type {\n",
       "        vertical-align: middle;\n",
       "    }\n",
       "\n",
       "    .dataframe tbody tr th {\n",
       "        vertical-align: top;\n",
       "    }\n",
       "\n",
       "    .dataframe thead th {\n",
       "        text-align: right;\n",
       "    }\n",
       "</style>\n",
       "<table border=\"1\" class=\"dataframe\">\n",
       "  <thead>\n",
       "    <tr style=\"text-align: right;\">\n",
       "      <th></th>\n",
       "      <th>Author</th>\n",
       "      <th>Quantity quote</th>\n",
       "    </tr>\n",
       "  </thead>\n",
       "  <tbody>\n",
       "    <tr>\n",
       "      <th>30</th>\n",
       "      <td>Stephenie Meyer</td>\n",
       "      <td>7</td>\n",
       "    </tr>\n",
       "    <tr>\n",
       "      <th>36</th>\n",
       "      <td>J.R.R. Tolkien</td>\n",
       "      <td>7</td>\n",
       "    </tr>\n",
       "    <tr>\n",
       "      <th>21</th>\n",
       "      <td>William Nicholson</td>\n",
       "      <td>7</td>\n",
       "    </tr>\n",
       "    <tr>\n",
       "      <th>45</th>\n",
       "      <td>J.M. Barrie</td>\n",
       "      <td>8</td>\n",
       "    </tr>\n",
       "    <tr>\n",
       "      <th>7</th>\n",
       "      <td>Steve Martin</td>\n",
       "      <td>9</td>\n",
       "    </tr>\n",
       "  </tbody>\n",
       "</table>\n",
       "</div>"
      ],
      "text/plain": [
       "               Author  Quantity quote\n",
       "30    Stephenie Meyer               7\n",
       "36     J.R.R. Tolkien               7\n",
       "21  William Nicholson               7\n",
       "45        J.M. Barrie               8\n",
       "7        Steve Martin               9"
      ]
     },
     "execution_count": 139,
     "metadata": {},
     "output_type": "execute_result"
    }
   ],
   "source": [
    "quotes = pd.DataFrame({'Author': quote.keys(), 'Quantity quote': quote.values()})\n",
    "quotes = quotes.sort_values('Quantity quote')\n",
    "quotes.head(5)"
   ]
  },
  {
   "cell_type": "code",
   "execution_count": 137,
   "metadata": {},
   "outputs": [
    {
     "data": {
      "application/vnd.plotly.v1+json": {
       "config": {
        "plotlyServerURL": "https://plot.ly"
       },
       "data": [
        {
         "alignmentgroup": "True",
         "hovertemplate": "Author=%{x}<br>Quantity quote=%{y}<extra></extra>",
         "legendgroup": "Dr. Seuss",
         "marker": {
          "color": "#636efa",
          "pattern": {
           "shape": ""
          }
         },
         "name": "Dr. Seuss",
         "offsetgroup": "Dr. Seuss",
         "orientation": "v",
         "showlegend": true,
         "textposition": "auto",
         "texttemplate": "%{y:.s}",
         "type": "bar",
         "x": [
          "Dr. Seuss"
         ],
         "xaxis": "x",
         "y": [
          41
         ],
         "yaxis": "y"
        },
        {
         "alignmentgroup": "True",
         "hovertemplate": "Author=%{x}<br>Quantity quote=%{y}<extra></extra>",
         "legendgroup": "Charles Bukowski",
         "marker": {
          "color": "#EF553B",
          "pattern": {
           "shape": ""
          }
         },
         "name": "Charles Bukowski",
         "offsetgroup": "Charles Bukowski",
         "orientation": "v",
         "showlegend": true,
         "textposition": "auto",
         "texttemplate": "%{y:.s}",
         "type": "bar",
         "x": [
          "Charles Bukowski"
         ],
         "xaxis": "x",
         "y": [
          44
         ],
         "yaxis": "y"
        },
        {
         "alignmentgroup": "True",
         "hovertemplate": "Author=%{x}<br>Quantity quote=%{y}<extra></extra>",
         "legendgroup": "J.K. Rowling",
         "marker": {
          "color": "#00cc96",
          "pattern": {
           "shape": ""
          }
         },
         "name": "J.K. Rowling",
         "offsetgroup": "J.K. Rowling",
         "orientation": "v",
         "showlegend": true,
         "textposition": "auto",
         "texttemplate": "%{y:.s}",
         "type": "bar",
         "x": [
          "J.K. Rowling"
         ],
         "xaxis": "x",
         "y": [
          46
         ],
         "yaxis": "y"
        },
        {
         "alignmentgroup": "True",
         "hovertemplate": "Author=%{x}<br>Quantity quote=%{y}<extra></extra>",
         "legendgroup": "J.D. Salinger",
         "marker": {
          "color": "#ab63fa",
          "pattern": {
           "shape": ""
          }
         },
         "name": "J.D. Salinger",
         "offsetgroup": "J.D. Salinger",
         "orientation": "v",
         "showlegend": true,
         "textposition": "auto",
         "texttemplate": "%{y:.s}",
         "type": "bar",
         "x": [
          "J.D. Salinger"
         ],
         "xaxis": "x",
         "y": [
          47
         ],
         "yaxis": "y"
        },
        {
         "alignmentgroup": "True",
         "hovertemplate": "Author=%{x}<br>Quantity quote=%{y}<extra></extra>",
         "legendgroup": "Ralph Waldo Emerson",
         "marker": {
          "color": "#FFA15A",
          "pattern": {
           "shape": ""
          }
         },
         "name": "Ralph Waldo Emerson",
         "offsetgroup": "Ralph Waldo Emerson",
         "orientation": "v",
         "showlegend": true,
         "textposition": "auto",
         "texttemplate": "%{y:.s}",
         "type": "bar",
         "x": [
          "Ralph Waldo Emerson"
         ],
         "xaxis": "x",
         "y": [
          52
         ],
         "yaxis": "y"
        },
        {
         "alignmentgroup": "True",
         "hovertemplate": "Author=%{x}<br>Quantity quote=%{y}<extra></extra>",
         "legendgroup": "Jane Austen",
         "marker": {
          "color": "#19d3f3",
          "pattern": {
           "shape": ""
          }
         },
         "name": "Jane Austen",
         "offsetgroup": "Jane Austen",
         "orientation": "v",
         "showlegend": true,
         "textposition": "auto",
         "texttemplate": "%{y:.s}",
         "type": "bar",
         "x": [
          "Jane Austen"
         ],
         "xaxis": "x",
         "y": [
          59
         ],
         "yaxis": "y"
        },
        {
         "alignmentgroup": "True",
         "hovertemplate": "Author=%{x}<br>Quantity quote=%{y}<extra></extra>",
         "legendgroup": "Pablo Neruda",
         "marker": {
          "color": "#FF6692",
          "pattern": {
           "shape": ""
          }
         },
         "name": "Pablo Neruda",
         "offsetgroup": "Pablo Neruda",
         "orientation": "v",
         "showlegend": true,
         "textposition": "auto",
         "texttemplate": "%{y:.s}",
         "type": "bar",
         "x": [
          "Pablo Neruda"
         ],
         "xaxis": "x",
         "y": [
          66
         ],
         "yaxis": "y"
        },
        {
         "alignmentgroup": "True",
         "hovertemplate": "Author=%{x}<br>Quantity quote=%{y}<extra></extra>",
         "legendgroup": "C.S. Lewis",
         "marker": {
          "color": "#B6E880",
          "pattern": {
           "shape": ""
          }
         },
         "name": "C.S. Lewis",
         "offsetgroup": "C.S. Lewis",
         "orientation": "v",
         "showlegend": true,
         "textposition": "auto",
         "texttemplate": "%{y:.s}",
         "type": "bar",
         "x": [
          "C.S. Lewis"
         ],
         "xaxis": "x",
         "y": [
          92
         ],
         "yaxis": "y"
        },
        {
         "alignmentgroup": "True",
         "hovertemplate": "Author=%{x}<br>Quantity quote=%{y}<extra></extra>",
         "legendgroup": "Bob Marley",
         "marker": {
          "color": "#FF97FF",
          "pattern": {
           "shape": ""
          }
         },
         "name": "Bob Marley",
         "offsetgroup": "Bob Marley",
         "orientation": "v",
         "showlegend": true,
         "textposition": "auto",
         "texttemplate": "%{y:.s}",
         "type": "bar",
         "x": [
          "Bob Marley"
         ],
         "xaxis": "x",
         "y": [
          138
         ],
         "yaxis": "y"
        },
        {
         "alignmentgroup": "True",
         "hovertemplate": "Author=%{x}<br>Quantity quote=%{y}<extra></extra>",
         "legendgroup": "Marilyn Monroe",
         "marker": {
          "color": "#FECB52",
          "pattern": {
           "shape": ""
          }
         },
         "name": "Marilyn Monroe",
         "offsetgroup": "Marilyn Monroe",
         "orientation": "v",
         "showlegend": true,
         "textposition": "auto",
         "texttemplate": "%{y:.s}",
         "type": "bar",
         "x": [
          "Marilyn Monroe"
         ],
         "xaxis": "x",
         "y": [
          201
         ],
         "yaxis": "y"
        }
       ],
       "layout": {
        "barmode": "relative",
        "legend": {
         "title": {
          "text": "Author"
         },
         "tracegroupgap": 0
        },
        "template": {
         "data": {
          "bar": [
           {
            "error_x": {
             "color": "#2a3f5f"
            },
            "error_y": {
             "color": "#2a3f5f"
            },
            "marker": {
             "line": {
              "color": "#E5ECF6",
              "width": 0.5
             },
             "pattern": {
              "fillmode": "overlay",
              "size": 10,
              "solidity": 0.2
             }
            },
            "type": "bar"
           }
          ],
          "barpolar": [
           {
            "marker": {
             "line": {
              "color": "#E5ECF6",
              "width": 0.5
             },
             "pattern": {
              "fillmode": "overlay",
              "size": 10,
              "solidity": 0.2
             }
            },
            "type": "barpolar"
           }
          ],
          "carpet": [
           {
            "aaxis": {
             "endlinecolor": "#2a3f5f",
             "gridcolor": "white",
             "linecolor": "white",
             "minorgridcolor": "white",
             "startlinecolor": "#2a3f5f"
            },
            "baxis": {
             "endlinecolor": "#2a3f5f",
             "gridcolor": "white",
             "linecolor": "white",
             "minorgridcolor": "white",
             "startlinecolor": "#2a3f5f"
            },
            "type": "carpet"
           }
          ],
          "choropleth": [
           {
            "colorbar": {
             "outlinewidth": 0,
             "ticks": ""
            },
            "type": "choropleth"
           }
          ],
          "contour": [
           {
            "colorbar": {
             "outlinewidth": 0,
             "ticks": ""
            },
            "colorscale": [
             [
              0,
              "#0d0887"
             ],
             [
              0.1111111111111111,
              "#46039f"
             ],
             [
              0.2222222222222222,
              "#7201a8"
             ],
             [
              0.3333333333333333,
              "#9c179e"
             ],
             [
              0.4444444444444444,
              "#bd3786"
             ],
             [
              0.5555555555555556,
              "#d8576b"
             ],
             [
              0.6666666666666666,
              "#ed7953"
             ],
             [
              0.7777777777777778,
              "#fb9f3a"
             ],
             [
              0.8888888888888888,
              "#fdca26"
             ],
             [
              1,
              "#f0f921"
             ]
            ],
            "type": "contour"
           }
          ],
          "contourcarpet": [
           {
            "colorbar": {
             "outlinewidth": 0,
             "ticks": ""
            },
            "type": "contourcarpet"
           }
          ],
          "heatmap": [
           {
            "colorbar": {
             "outlinewidth": 0,
             "ticks": ""
            },
            "colorscale": [
             [
              0,
              "#0d0887"
             ],
             [
              0.1111111111111111,
              "#46039f"
             ],
             [
              0.2222222222222222,
              "#7201a8"
             ],
             [
              0.3333333333333333,
              "#9c179e"
             ],
             [
              0.4444444444444444,
              "#bd3786"
             ],
             [
              0.5555555555555556,
              "#d8576b"
             ],
             [
              0.6666666666666666,
              "#ed7953"
             ],
             [
              0.7777777777777778,
              "#fb9f3a"
             ],
             [
              0.8888888888888888,
              "#fdca26"
             ],
             [
              1,
              "#f0f921"
             ]
            ],
            "type": "heatmap"
           }
          ],
          "heatmapgl": [
           {
            "colorbar": {
             "outlinewidth": 0,
             "ticks": ""
            },
            "colorscale": [
             [
              0,
              "#0d0887"
             ],
             [
              0.1111111111111111,
              "#46039f"
             ],
             [
              0.2222222222222222,
              "#7201a8"
             ],
             [
              0.3333333333333333,
              "#9c179e"
             ],
             [
              0.4444444444444444,
              "#bd3786"
             ],
             [
              0.5555555555555556,
              "#d8576b"
             ],
             [
              0.6666666666666666,
              "#ed7953"
             ],
             [
              0.7777777777777778,
              "#fb9f3a"
             ],
             [
              0.8888888888888888,
              "#fdca26"
             ],
             [
              1,
              "#f0f921"
             ]
            ],
            "type": "heatmapgl"
           }
          ],
          "histogram": [
           {
            "marker": {
             "pattern": {
              "fillmode": "overlay",
              "size": 10,
              "solidity": 0.2
             }
            },
            "type": "histogram"
           }
          ],
          "histogram2d": [
           {
            "colorbar": {
             "outlinewidth": 0,
             "ticks": ""
            },
            "colorscale": [
             [
              0,
              "#0d0887"
             ],
             [
              0.1111111111111111,
              "#46039f"
             ],
             [
              0.2222222222222222,
              "#7201a8"
             ],
             [
              0.3333333333333333,
              "#9c179e"
             ],
             [
              0.4444444444444444,
              "#bd3786"
             ],
             [
              0.5555555555555556,
              "#d8576b"
             ],
             [
              0.6666666666666666,
              "#ed7953"
             ],
             [
              0.7777777777777778,
              "#fb9f3a"
             ],
             [
              0.8888888888888888,
              "#fdca26"
             ],
             [
              1,
              "#f0f921"
             ]
            ],
            "type": "histogram2d"
           }
          ],
          "histogram2dcontour": [
           {
            "colorbar": {
             "outlinewidth": 0,
             "ticks": ""
            },
            "colorscale": [
             [
              0,
              "#0d0887"
             ],
             [
              0.1111111111111111,
              "#46039f"
             ],
             [
              0.2222222222222222,
              "#7201a8"
             ],
             [
              0.3333333333333333,
              "#9c179e"
             ],
             [
              0.4444444444444444,
              "#bd3786"
             ],
             [
              0.5555555555555556,
              "#d8576b"
             ],
             [
              0.6666666666666666,
              "#ed7953"
             ],
             [
              0.7777777777777778,
              "#fb9f3a"
             ],
             [
              0.8888888888888888,
              "#fdca26"
             ],
             [
              1,
              "#f0f921"
             ]
            ],
            "type": "histogram2dcontour"
           }
          ],
          "mesh3d": [
           {
            "colorbar": {
             "outlinewidth": 0,
             "ticks": ""
            },
            "type": "mesh3d"
           }
          ],
          "parcoords": [
           {
            "line": {
             "colorbar": {
              "outlinewidth": 0,
              "ticks": ""
             }
            },
            "type": "parcoords"
           }
          ],
          "pie": [
           {
            "automargin": true,
            "type": "pie"
           }
          ],
          "scatter": [
           {
            "fillpattern": {
             "fillmode": "overlay",
             "size": 10,
             "solidity": 0.2
            },
            "type": "scatter"
           }
          ],
          "scatter3d": [
           {
            "line": {
             "colorbar": {
              "outlinewidth": 0,
              "ticks": ""
             }
            },
            "marker": {
             "colorbar": {
              "outlinewidth": 0,
              "ticks": ""
             }
            },
            "type": "scatter3d"
           }
          ],
          "scattercarpet": [
           {
            "marker": {
             "colorbar": {
              "outlinewidth": 0,
              "ticks": ""
             }
            },
            "type": "scattercarpet"
           }
          ],
          "scattergeo": [
           {
            "marker": {
             "colorbar": {
              "outlinewidth": 0,
              "ticks": ""
             }
            },
            "type": "scattergeo"
           }
          ],
          "scattergl": [
           {
            "marker": {
             "colorbar": {
              "outlinewidth": 0,
              "ticks": ""
             }
            },
            "type": "scattergl"
           }
          ],
          "scattermapbox": [
           {
            "marker": {
             "colorbar": {
              "outlinewidth": 0,
              "ticks": ""
             }
            },
            "type": "scattermapbox"
           }
          ],
          "scatterpolar": [
           {
            "marker": {
             "colorbar": {
              "outlinewidth": 0,
              "ticks": ""
             }
            },
            "type": "scatterpolar"
           }
          ],
          "scatterpolargl": [
           {
            "marker": {
             "colorbar": {
              "outlinewidth": 0,
              "ticks": ""
             }
            },
            "type": "scatterpolargl"
           }
          ],
          "scatterternary": [
           {
            "marker": {
             "colorbar": {
              "outlinewidth": 0,
              "ticks": ""
             }
            },
            "type": "scatterternary"
           }
          ],
          "surface": [
           {
            "colorbar": {
             "outlinewidth": 0,
             "ticks": ""
            },
            "colorscale": [
             [
              0,
              "#0d0887"
             ],
             [
              0.1111111111111111,
              "#46039f"
             ],
             [
              0.2222222222222222,
              "#7201a8"
             ],
             [
              0.3333333333333333,
              "#9c179e"
             ],
             [
              0.4444444444444444,
              "#bd3786"
             ],
             [
              0.5555555555555556,
              "#d8576b"
             ],
             [
              0.6666666666666666,
              "#ed7953"
             ],
             [
              0.7777777777777778,
              "#fb9f3a"
             ],
             [
              0.8888888888888888,
              "#fdca26"
             ],
             [
              1,
              "#f0f921"
             ]
            ],
            "type": "surface"
           }
          ],
          "table": [
           {
            "cells": {
             "fill": {
              "color": "#EBF0F8"
             },
             "line": {
              "color": "white"
             }
            },
            "header": {
             "fill": {
              "color": "#C8D4E3"
             },
             "line": {
              "color": "white"
             }
            },
            "type": "table"
           }
          ]
         },
         "layout": {
          "annotationdefaults": {
           "arrowcolor": "#2a3f5f",
           "arrowhead": 0,
           "arrowwidth": 1
          },
          "autotypenumbers": "strict",
          "coloraxis": {
           "colorbar": {
            "outlinewidth": 0,
            "ticks": ""
           }
          },
          "colorscale": {
           "diverging": [
            [
             0,
             "#8e0152"
            ],
            [
             0.1,
             "#c51b7d"
            ],
            [
             0.2,
             "#de77ae"
            ],
            [
             0.3,
             "#f1b6da"
            ],
            [
             0.4,
             "#fde0ef"
            ],
            [
             0.5,
             "#f7f7f7"
            ],
            [
             0.6,
             "#e6f5d0"
            ],
            [
             0.7,
             "#b8e186"
            ],
            [
             0.8,
             "#7fbc41"
            ],
            [
             0.9,
             "#4d9221"
            ],
            [
             1,
             "#276419"
            ]
           ],
           "sequential": [
            [
             0,
             "#0d0887"
            ],
            [
             0.1111111111111111,
             "#46039f"
            ],
            [
             0.2222222222222222,
             "#7201a8"
            ],
            [
             0.3333333333333333,
             "#9c179e"
            ],
            [
             0.4444444444444444,
             "#bd3786"
            ],
            [
             0.5555555555555556,
             "#d8576b"
            ],
            [
             0.6666666666666666,
             "#ed7953"
            ],
            [
             0.7777777777777778,
             "#fb9f3a"
            ],
            [
             0.8888888888888888,
             "#fdca26"
            ],
            [
             1,
             "#f0f921"
            ]
           ],
           "sequentialminus": [
            [
             0,
             "#0d0887"
            ],
            [
             0.1111111111111111,
             "#46039f"
            ],
            [
             0.2222222222222222,
             "#7201a8"
            ],
            [
             0.3333333333333333,
             "#9c179e"
            ],
            [
             0.4444444444444444,
             "#bd3786"
            ],
            [
             0.5555555555555556,
             "#d8576b"
            ],
            [
             0.6666666666666666,
             "#ed7953"
            ],
            [
             0.7777777777777778,
             "#fb9f3a"
            ],
            [
             0.8888888888888888,
             "#fdca26"
            ],
            [
             1,
             "#f0f921"
            ]
           ]
          },
          "colorway": [
           "#636efa",
           "#EF553B",
           "#00cc96",
           "#ab63fa",
           "#FFA15A",
           "#19d3f3",
           "#FF6692",
           "#B6E880",
           "#FF97FF",
           "#FECB52"
          ],
          "font": {
           "color": "#2a3f5f"
          },
          "geo": {
           "bgcolor": "white",
           "lakecolor": "white",
           "landcolor": "#E5ECF6",
           "showlakes": true,
           "showland": true,
           "subunitcolor": "white"
          },
          "hoverlabel": {
           "align": "left"
          },
          "hovermode": "closest",
          "mapbox": {
           "style": "light"
          },
          "paper_bgcolor": "white",
          "plot_bgcolor": "#E5ECF6",
          "polar": {
           "angularaxis": {
            "gridcolor": "white",
            "linecolor": "white",
            "ticks": ""
           },
           "bgcolor": "#E5ECF6",
           "radialaxis": {
            "gridcolor": "white",
            "linecolor": "white",
            "ticks": ""
           }
          },
          "scene": {
           "xaxis": {
            "backgroundcolor": "#E5ECF6",
            "gridcolor": "white",
            "gridwidth": 2,
            "linecolor": "white",
            "showbackground": true,
            "ticks": "",
            "zerolinecolor": "white"
           },
           "yaxis": {
            "backgroundcolor": "#E5ECF6",
            "gridcolor": "white",
            "gridwidth": 2,
            "linecolor": "white",
            "showbackground": true,
            "ticks": "",
            "zerolinecolor": "white"
           },
           "zaxis": {
            "backgroundcolor": "#E5ECF6",
            "gridcolor": "white",
            "gridwidth": 2,
            "linecolor": "white",
            "showbackground": true,
            "ticks": "",
            "zerolinecolor": "white"
           }
          },
          "shapedefaults": {
           "line": {
            "color": "#2a3f5f"
           }
          },
          "ternary": {
           "aaxis": {
            "gridcolor": "white",
            "linecolor": "white",
            "ticks": ""
           },
           "baxis": {
            "gridcolor": "white",
            "linecolor": "white",
            "ticks": ""
           },
           "bgcolor": "#E5ECF6",
           "caxis": {
            "gridcolor": "white",
            "linecolor": "white",
            "ticks": ""
           }
          },
          "title": {
           "x": 0.05
          },
          "xaxis": {
           "automargin": true,
           "gridcolor": "white",
           "linecolor": "white",
           "ticks": "",
           "title": {
            "standoff": 15
           },
           "zerolinecolor": "white",
           "zerolinewidth": 2
          },
          "yaxis": {
           "automargin": true,
           "gridcolor": "white",
           "linecolor": "white",
           "ticks": "",
           "title": {
            "standoff": 15
           },
           "zerolinecolor": "white",
           "zerolinewidth": 2
          }
         }
        },
        "title": {
         "text": "Top 10 tác giả có số lượng từ trong câu nhiều nhất"
        },
        "xaxis": {
         "anchor": "y",
         "categoryarray": [
          "Dr. Seuss",
          "Charles Bukowski",
          "J.K. Rowling",
          "J.D. Salinger",
          "Ralph Waldo Emerson",
          "Jane Austen",
          "Pablo Neruda",
          "C.S. Lewis",
          "Bob Marley",
          "Marilyn Monroe"
         ],
         "categoryorder": "array",
         "domain": [
          0,
          1
         ],
         "title": {
          "text": "Author"
         }
        },
        "yaxis": {
         "anchor": "x",
         "domain": [
          0,
          1
         ],
         "title": {
          "text": "Quantity quote"
         }
        }
       }
      }
     },
     "metadata": {},
     "output_type": "display_data"
    }
   ],
   "source": [
    "px.bar(\n",
    "    quotes.tail(10),\n",
    "    x= 'Author',\n",
    "    y= 'Quantity quote',\n",
    "    text_auto='.s',\n",
    "    color='Author',\n",
    "    title = 'Top 10 tác giả có số lượng từ trong câu nhiều nhất'\n",
    ")"
   ]
  },
  {
   "cell_type": "code",
   "execution_count": 138,
   "metadata": {},
   "outputs": [
    {
     "data": {
      "application/vnd.plotly.v1+json": {
       "config": {
        "plotlyServerURL": "https://plot.ly"
       },
       "data": [
        {
         "alignmentgroup": "True",
         "hovertemplate": "Author=%{x}<br>Quantity quote=%{y}<extra></extra>",
         "legendgroup": "Stephenie Meyer",
         "marker": {
          "color": "#636efa",
          "pattern": {
           "shape": ""
          }
         },
         "name": "Stephenie Meyer",
         "offsetgroup": "Stephenie Meyer",
         "orientation": "v",
         "showlegend": true,
         "textposition": "auto",
         "texttemplate": "%{y:.s}",
         "type": "bar",
         "x": [
          "Stephenie Meyer"
         ],
         "xaxis": "x",
         "y": [
          7
         ],
         "yaxis": "y"
        },
        {
         "alignmentgroup": "True",
         "hovertemplate": "Author=%{x}<br>Quantity quote=%{y}<extra></extra>",
         "legendgroup": "J.R.R. Tolkien",
         "marker": {
          "color": "#EF553B",
          "pattern": {
           "shape": ""
          }
         },
         "name": "J.R.R. Tolkien",
         "offsetgroup": "J.R.R. Tolkien",
         "orientation": "v",
         "showlegend": true,
         "textposition": "auto",
         "texttemplate": "%{y:.s}",
         "type": "bar",
         "x": [
          "J.R.R. Tolkien"
         ],
         "xaxis": "x",
         "y": [
          7
         ],
         "yaxis": "y"
        },
        {
         "alignmentgroup": "True",
         "hovertemplate": "Author=%{x}<br>Quantity quote=%{y}<extra></extra>",
         "legendgroup": "William Nicholson",
         "marker": {
          "color": "#00cc96",
          "pattern": {
           "shape": ""
          }
         },
         "name": "William Nicholson",
         "offsetgroup": "William Nicholson",
         "orientation": "v",
         "showlegend": true,
         "textposition": "auto",
         "texttemplate": "%{y:.s}",
         "type": "bar",
         "x": [
          "William Nicholson"
         ],
         "xaxis": "x",
         "y": [
          7
         ],
         "yaxis": "y"
        },
        {
         "alignmentgroup": "True",
         "hovertemplate": "Author=%{x}<br>Quantity quote=%{y}<extra></extra>",
         "legendgroup": "J.M. Barrie",
         "marker": {
          "color": "#ab63fa",
          "pattern": {
           "shape": ""
          }
         },
         "name": "J.M. Barrie",
         "offsetgroup": "J.M. Barrie",
         "orientation": "v",
         "showlegend": true,
         "textposition": "auto",
         "texttemplate": "%{y:.s}",
         "type": "bar",
         "x": [
          "J.M. Barrie"
         ],
         "xaxis": "x",
         "y": [
          8
         ],
         "yaxis": "y"
        },
        {
         "alignmentgroup": "True",
         "hovertemplate": "Author=%{x}<br>Quantity quote=%{y}<extra></extra>",
         "legendgroup": "Steve Martin",
         "marker": {
          "color": "#FFA15A",
          "pattern": {
           "shape": ""
          }
         },
         "name": "Steve Martin",
         "offsetgroup": "Steve Martin",
         "orientation": "v",
         "showlegend": true,
         "textposition": "auto",
         "texttemplate": "%{y:.s}",
         "type": "bar",
         "x": [
          "Steve Martin"
         ],
         "xaxis": "x",
         "y": [
          9
         ],
         "yaxis": "y"
        },
        {
         "alignmentgroup": "True",
         "hovertemplate": "Author=%{x}<br>Quantity quote=%{y}<extra></extra>",
         "legendgroup": "Martin Luther King Jr.",
         "marker": {
          "color": "#19d3f3",
          "pattern": {
           "shape": ""
          }
         },
         "name": "Martin Luther King Jr.",
         "offsetgroup": "Martin Luther King Jr.",
         "orientation": "v",
         "showlegend": true,
         "textposition": "auto",
         "texttemplate": "%{y:.s}",
         "type": "bar",
         "x": [
          "Martin Luther King Jr."
         ],
         "xaxis": "x",
         "y": [
          9
         ],
         "yaxis": "y"
        },
        {
         "alignmentgroup": "True",
         "hovertemplate": "Author=%{x}<br>Quantity quote=%{y}<extra></extra>",
         "legendgroup": "George Bernard Shaw",
         "marker": {
          "color": "#FF6692",
          "pattern": {
           "shape": ""
          }
         },
         "name": "George Bernard Shaw",
         "offsetgroup": "George Bernard Shaw",
         "orientation": "v",
         "showlegend": true,
         "textposition": "auto",
         "texttemplate": "%{y:.s}",
         "type": "bar",
         "x": [
          "George Bernard Shaw"
         ],
         "xaxis": "x",
         "y": [
          10
         ],
         "yaxis": "y"
        },
        {
         "alignmentgroup": "True",
         "hovertemplate": "Author=%{x}<br>Quantity quote=%{y}<extra></extra>",
         "legendgroup": "Alexandre Dumas fils",
         "marker": {
          "color": "#B6E880",
          "pattern": {
           "shape": ""
          }
         },
         "name": "Alexandre Dumas fils",
         "offsetgroup": "Alexandre Dumas fils",
         "orientation": "v",
         "showlegend": true,
         "textposition": "auto",
         "texttemplate": "%{y:.s}",
         "type": "bar",
         "x": [
          "Alexandre Dumas fils"
         ],
         "xaxis": "x",
         "y": [
          11
         ],
         "yaxis": "y"
        },
        {
         "alignmentgroup": "True",
         "hovertemplate": "Author=%{x}<br>Quantity quote=%{y}<extra></extra>",
         "legendgroup": "W.C. Fields",
         "marker": {
          "color": "#FF97FF",
          "pattern": {
           "shape": ""
          }
         },
         "name": "W.C. Fields",
         "offsetgroup": "W.C. Fields",
         "orientation": "v",
         "showlegend": true,
         "textposition": "auto",
         "texttemplate": "%{y:.s}",
         "type": "bar",
         "x": [
          "W.C. Fields"
         ],
         "xaxis": "x",
         "y": [
          11
         ],
         "yaxis": "y"
        },
        {
         "alignmentgroup": "True",
         "hovertemplate": "Author=%{x}<br>Quantity quote=%{y}<extra></extra>",
         "legendgroup": "E.E. Cummings",
         "marker": {
          "color": "#FECB52",
          "pattern": {
           "shape": ""
          }
         },
         "name": "E.E. Cummings",
         "offsetgroup": "E.E. Cummings",
         "orientation": "v",
         "showlegend": true,
         "textposition": "auto",
         "texttemplate": "%{y:.s}",
         "type": "bar",
         "x": [
          "E.E. Cummings"
         ],
         "xaxis": "x",
         "y": [
          12
         ],
         "yaxis": "y"
        }
       ],
       "layout": {
        "barmode": "relative",
        "legend": {
         "title": {
          "text": "Author"
         },
         "tracegroupgap": 0
        },
        "template": {
         "data": {
          "bar": [
           {
            "error_x": {
             "color": "#2a3f5f"
            },
            "error_y": {
             "color": "#2a3f5f"
            },
            "marker": {
             "line": {
              "color": "#E5ECF6",
              "width": 0.5
             },
             "pattern": {
              "fillmode": "overlay",
              "size": 10,
              "solidity": 0.2
             }
            },
            "type": "bar"
           }
          ],
          "barpolar": [
           {
            "marker": {
             "line": {
              "color": "#E5ECF6",
              "width": 0.5
             },
             "pattern": {
              "fillmode": "overlay",
              "size": 10,
              "solidity": 0.2
             }
            },
            "type": "barpolar"
           }
          ],
          "carpet": [
           {
            "aaxis": {
             "endlinecolor": "#2a3f5f",
             "gridcolor": "white",
             "linecolor": "white",
             "minorgridcolor": "white",
             "startlinecolor": "#2a3f5f"
            },
            "baxis": {
             "endlinecolor": "#2a3f5f",
             "gridcolor": "white",
             "linecolor": "white",
             "minorgridcolor": "white",
             "startlinecolor": "#2a3f5f"
            },
            "type": "carpet"
           }
          ],
          "choropleth": [
           {
            "colorbar": {
             "outlinewidth": 0,
             "ticks": ""
            },
            "type": "choropleth"
           }
          ],
          "contour": [
           {
            "colorbar": {
             "outlinewidth": 0,
             "ticks": ""
            },
            "colorscale": [
             [
              0,
              "#0d0887"
             ],
             [
              0.1111111111111111,
              "#46039f"
             ],
             [
              0.2222222222222222,
              "#7201a8"
             ],
             [
              0.3333333333333333,
              "#9c179e"
             ],
             [
              0.4444444444444444,
              "#bd3786"
             ],
             [
              0.5555555555555556,
              "#d8576b"
             ],
             [
              0.6666666666666666,
              "#ed7953"
             ],
             [
              0.7777777777777778,
              "#fb9f3a"
             ],
             [
              0.8888888888888888,
              "#fdca26"
             ],
             [
              1,
              "#f0f921"
             ]
            ],
            "type": "contour"
           }
          ],
          "contourcarpet": [
           {
            "colorbar": {
             "outlinewidth": 0,
             "ticks": ""
            },
            "type": "contourcarpet"
           }
          ],
          "heatmap": [
           {
            "colorbar": {
             "outlinewidth": 0,
             "ticks": ""
            },
            "colorscale": [
             [
              0,
              "#0d0887"
             ],
             [
              0.1111111111111111,
              "#46039f"
             ],
             [
              0.2222222222222222,
              "#7201a8"
             ],
             [
              0.3333333333333333,
              "#9c179e"
             ],
             [
              0.4444444444444444,
              "#bd3786"
             ],
             [
              0.5555555555555556,
              "#d8576b"
             ],
             [
              0.6666666666666666,
              "#ed7953"
             ],
             [
              0.7777777777777778,
              "#fb9f3a"
             ],
             [
              0.8888888888888888,
              "#fdca26"
             ],
             [
              1,
              "#f0f921"
             ]
            ],
            "type": "heatmap"
           }
          ],
          "heatmapgl": [
           {
            "colorbar": {
             "outlinewidth": 0,
             "ticks": ""
            },
            "colorscale": [
             [
              0,
              "#0d0887"
             ],
             [
              0.1111111111111111,
              "#46039f"
             ],
             [
              0.2222222222222222,
              "#7201a8"
             ],
             [
              0.3333333333333333,
              "#9c179e"
             ],
             [
              0.4444444444444444,
              "#bd3786"
             ],
             [
              0.5555555555555556,
              "#d8576b"
             ],
             [
              0.6666666666666666,
              "#ed7953"
             ],
             [
              0.7777777777777778,
              "#fb9f3a"
             ],
             [
              0.8888888888888888,
              "#fdca26"
             ],
             [
              1,
              "#f0f921"
             ]
            ],
            "type": "heatmapgl"
           }
          ],
          "histogram": [
           {
            "marker": {
             "pattern": {
              "fillmode": "overlay",
              "size": 10,
              "solidity": 0.2
             }
            },
            "type": "histogram"
           }
          ],
          "histogram2d": [
           {
            "colorbar": {
             "outlinewidth": 0,
             "ticks": ""
            },
            "colorscale": [
             [
              0,
              "#0d0887"
             ],
             [
              0.1111111111111111,
              "#46039f"
             ],
             [
              0.2222222222222222,
              "#7201a8"
             ],
             [
              0.3333333333333333,
              "#9c179e"
             ],
             [
              0.4444444444444444,
              "#bd3786"
             ],
             [
              0.5555555555555556,
              "#d8576b"
             ],
             [
              0.6666666666666666,
              "#ed7953"
             ],
             [
              0.7777777777777778,
              "#fb9f3a"
             ],
             [
              0.8888888888888888,
              "#fdca26"
             ],
             [
              1,
              "#f0f921"
             ]
            ],
            "type": "histogram2d"
           }
          ],
          "histogram2dcontour": [
           {
            "colorbar": {
             "outlinewidth": 0,
             "ticks": ""
            },
            "colorscale": [
             [
              0,
              "#0d0887"
             ],
             [
              0.1111111111111111,
              "#46039f"
             ],
             [
              0.2222222222222222,
              "#7201a8"
             ],
             [
              0.3333333333333333,
              "#9c179e"
             ],
             [
              0.4444444444444444,
              "#bd3786"
             ],
             [
              0.5555555555555556,
              "#d8576b"
             ],
             [
              0.6666666666666666,
              "#ed7953"
             ],
             [
              0.7777777777777778,
              "#fb9f3a"
             ],
             [
              0.8888888888888888,
              "#fdca26"
             ],
             [
              1,
              "#f0f921"
             ]
            ],
            "type": "histogram2dcontour"
           }
          ],
          "mesh3d": [
           {
            "colorbar": {
             "outlinewidth": 0,
             "ticks": ""
            },
            "type": "mesh3d"
           }
          ],
          "parcoords": [
           {
            "line": {
             "colorbar": {
              "outlinewidth": 0,
              "ticks": ""
             }
            },
            "type": "parcoords"
           }
          ],
          "pie": [
           {
            "automargin": true,
            "type": "pie"
           }
          ],
          "scatter": [
           {
            "fillpattern": {
             "fillmode": "overlay",
             "size": 10,
             "solidity": 0.2
            },
            "type": "scatter"
           }
          ],
          "scatter3d": [
           {
            "line": {
             "colorbar": {
              "outlinewidth": 0,
              "ticks": ""
             }
            },
            "marker": {
             "colorbar": {
              "outlinewidth": 0,
              "ticks": ""
             }
            },
            "type": "scatter3d"
           }
          ],
          "scattercarpet": [
           {
            "marker": {
             "colorbar": {
              "outlinewidth": 0,
              "ticks": ""
             }
            },
            "type": "scattercarpet"
           }
          ],
          "scattergeo": [
           {
            "marker": {
             "colorbar": {
              "outlinewidth": 0,
              "ticks": ""
             }
            },
            "type": "scattergeo"
           }
          ],
          "scattergl": [
           {
            "marker": {
             "colorbar": {
              "outlinewidth": 0,
              "ticks": ""
             }
            },
            "type": "scattergl"
           }
          ],
          "scattermapbox": [
           {
            "marker": {
             "colorbar": {
              "outlinewidth": 0,
              "ticks": ""
             }
            },
            "type": "scattermapbox"
           }
          ],
          "scatterpolar": [
           {
            "marker": {
             "colorbar": {
              "outlinewidth": 0,
              "ticks": ""
             }
            },
            "type": "scatterpolar"
           }
          ],
          "scatterpolargl": [
           {
            "marker": {
             "colorbar": {
              "outlinewidth": 0,
              "ticks": ""
             }
            },
            "type": "scatterpolargl"
           }
          ],
          "scatterternary": [
           {
            "marker": {
             "colorbar": {
              "outlinewidth": 0,
              "ticks": ""
             }
            },
            "type": "scatterternary"
           }
          ],
          "surface": [
           {
            "colorbar": {
             "outlinewidth": 0,
             "ticks": ""
            },
            "colorscale": [
             [
              0,
              "#0d0887"
             ],
             [
              0.1111111111111111,
              "#46039f"
             ],
             [
              0.2222222222222222,
              "#7201a8"
             ],
             [
              0.3333333333333333,
              "#9c179e"
             ],
             [
              0.4444444444444444,
              "#bd3786"
             ],
             [
              0.5555555555555556,
              "#d8576b"
             ],
             [
              0.6666666666666666,
              "#ed7953"
             ],
             [
              0.7777777777777778,
              "#fb9f3a"
             ],
             [
              0.8888888888888888,
              "#fdca26"
             ],
             [
              1,
              "#f0f921"
             ]
            ],
            "type": "surface"
           }
          ],
          "table": [
           {
            "cells": {
             "fill": {
              "color": "#EBF0F8"
             },
             "line": {
              "color": "white"
             }
            },
            "header": {
             "fill": {
              "color": "#C8D4E3"
             },
             "line": {
              "color": "white"
             }
            },
            "type": "table"
           }
          ]
         },
         "layout": {
          "annotationdefaults": {
           "arrowcolor": "#2a3f5f",
           "arrowhead": 0,
           "arrowwidth": 1
          },
          "autotypenumbers": "strict",
          "coloraxis": {
           "colorbar": {
            "outlinewidth": 0,
            "ticks": ""
           }
          },
          "colorscale": {
           "diverging": [
            [
             0,
             "#8e0152"
            ],
            [
             0.1,
             "#c51b7d"
            ],
            [
             0.2,
             "#de77ae"
            ],
            [
             0.3,
             "#f1b6da"
            ],
            [
             0.4,
             "#fde0ef"
            ],
            [
             0.5,
             "#f7f7f7"
            ],
            [
             0.6,
             "#e6f5d0"
            ],
            [
             0.7,
             "#b8e186"
            ],
            [
             0.8,
             "#7fbc41"
            ],
            [
             0.9,
             "#4d9221"
            ],
            [
             1,
             "#276419"
            ]
           ],
           "sequential": [
            [
             0,
             "#0d0887"
            ],
            [
             0.1111111111111111,
             "#46039f"
            ],
            [
             0.2222222222222222,
             "#7201a8"
            ],
            [
             0.3333333333333333,
             "#9c179e"
            ],
            [
             0.4444444444444444,
             "#bd3786"
            ],
            [
             0.5555555555555556,
             "#d8576b"
            ],
            [
             0.6666666666666666,
             "#ed7953"
            ],
            [
             0.7777777777777778,
             "#fb9f3a"
            ],
            [
             0.8888888888888888,
             "#fdca26"
            ],
            [
             1,
             "#f0f921"
            ]
           ],
           "sequentialminus": [
            [
             0,
             "#0d0887"
            ],
            [
             0.1111111111111111,
             "#46039f"
            ],
            [
             0.2222222222222222,
             "#7201a8"
            ],
            [
             0.3333333333333333,
             "#9c179e"
            ],
            [
             0.4444444444444444,
             "#bd3786"
            ],
            [
             0.5555555555555556,
             "#d8576b"
            ],
            [
             0.6666666666666666,
             "#ed7953"
            ],
            [
             0.7777777777777778,
             "#fb9f3a"
            ],
            [
             0.8888888888888888,
             "#fdca26"
            ],
            [
             1,
             "#f0f921"
            ]
           ]
          },
          "colorway": [
           "#636efa",
           "#EF553B",
           "#00cc96",
           "#ab63fa",
           "#FFA15A",
           "#19d3f3",
           "#FF6692",
           "#B6E880",
           "#FF97FF",
           "#FECB52"
          ],
          "font": {
           "color": "#2a3f5f"
          },
          "geo": {
           "bgcolor": "white",
           "lakecolor": "white",
           "landcolor": "#E5ECF6",
           "showlakes": true,
           "showland": true,
           "subunitcolor": "white"
          },
          "hoverlabel": {
           "align": "left"
          },
          "hovermode": "closest",
          "mapbox": {
           "style": "light"
          },
          "paper_bgcolor": "white",
          "plot_bgcolor": "#E5ECF6",
          "polar": {
           "angularaxis": {
            "gridcolor": "white",
            "linecolor": "white",
            "ticks": ""
           },
           "bgcolor": "#E5ECF6",
           "radialaxis": {
            "gridcolor": "white",
            "linecolor": "white",
            "ticks": ""
           }
          },
          "scene": {
           "xaxis": {
            "backgroundcolor": "#E5ECF6",
            "gridcolor": "white",
            "gridwidth": 2,
            "linecolor": "white",
            "showbackground": true,
            "ticks": "",
            "zerolinecolor": "white"
           },
           "yaxis": {
            "backgroundcolor": "#E5ECF6",
            "gridcolor": "white",
            "gridwidth": 2,
            "linecolor": "white",
            "showbackground": true,
            "ticks": "",
            "zerolinecolor": "white"
           },
           "zaxis": {
            "backgroundcolor": "#E5ECF6",
            "gridcolor": "white",
            "gridwidth": 2,
            "linecolor": "white",
            "showbackground": true,
            "ticks": "",
            "zerolinecolor": "white"
           }
          },
          "shapedefaults": {
           "line": {
            "color": "#2a3f5f"
           }
          },
          "ternary": {
           "aaxis": {
            "gridcolor": "white",
            "linecolor": "white",
            "ticks": ""
           },
           "baxis": {
            "gridcolor": "white",
            "linecolor": "white",
            "ticks": ""
           },
           "bgcolor": "#E5ECF6",
           "caxis": {
            "gridcolor": "white",
            "linecolor": "white",
            "ticks": ""
           }
          },
          "title": {
           "x": 0.05
          },
          "xaxis": {
           "automargin": true,
           "gridcolor": "white",
           "linecolor": "white",
           "ticks": "",
           "title": {
            "standoff": 15
           },
           "zerolinecolor": "white",
           "zerolinewidth": 2
          },
          "yaxis": {
           "automargin": true,
           "gridcolor": "white",
           "linecolor": "white",
           "ticks": "",
           "title": {
            "standoff": 15
           },
           "zerolinecolor": "white",
           "zerolinewidth": 2
          }
         }
        },
        "title": {
         "text": "Top 10 tác giả có số lượng từ trong câu ít nhất"
        },
        "xaxis": {
         "anchor": "y",
         "categoryarray": [
          "Stephenie Meyer",
          "J.R.R. Tolkien",
          "William Nicholson",
          "J.M. Barrie",
          "Steve Martin",
          "Martin Luther King Jr.",
          "George Bernard Shaw",
          "Alexandre Dumas fils",
          "W.C. Fields",
          "E.E. Cummings"
         ],
         "categoryorder": "array",
         "domain": [
          0,
          1
         ],
         "title": {
          "text": "Author"
         }
        },
        "yaxis": {
         "anchor": "x",
         "domain": [
          0,
          1
         ],
         "title": {
          "text": "Quantity quote"
         }
        }
       }
      }
     },
     "metadata": {},
     "output_type": "display_data"
    }
   ],
   "source": [
    "px.bar(\n",
    "    quotes.head(10),\n",
    "    x= 'Author',\n",
    "    y= 'Quantity quote',\n",
    "    text_auto='.s',\n",
    "    color='Author',\n",
    "    title = 'Top 10 tác giả có số lượng từ trong câu ít nhất'\n",
    ")"
   ]
  },
  {
   "attachments": {},
   "cell_type": "markdown",
   "metadata": {},
   "source": [
    "> ### Vậy những người nổi tiếng có tuổi tập trung ở những khoảng nào ?"
   ]
  },
  {
   "cell_type": "code",
   "execution_count": 143,
   "metadata": {},
   "outputs": [],
   "source": [
    "import matplotlib.pyplot as plt\n"
   ]
  },
  {
   "cell_type": "code",
   "execution_count": 147,
   "metadata": {},
   "outputs": [
    {
     "data": {
      "text/plain": [
       "{'whiskers': [<matplotlib.lines.Line2D at 0x1e635f6eb00>,\n",
       "  <matplotlib.lines.Line2D at 0x1e635f6eda0>],\n",
       " 'caps': [<matplotlib.lines.Line2D at 0x1e635f6f040>,\n",
       "  <matplotlib.lines.Line2D at 0x1e635f6f2e0>],\n",
       " 'boxes': [<matplotlib.lines.Line2D at 0x1e635f6e860>],\n",
       " 'medians': [<matplotlib.lines.Line2D at 0x1e635f6f580>],\n",
       " 'fliers': [<matplotlib.lines.Line2D at 0x1e635f6f820>],\n",
       " 'means': []}"
      ]
     },
     "execution_count": 147,
     "metadata": {},
     "output_type": "execute_result"
    },
    {
     "data": {
      "image/png": "[encoded data removed]",
      "text/plain": [
       "<Figure size 640x480 with 1 Axes>"
      ]
     },
     "metadata": {},
     "output_type": "display_data"
    }
   ],
   "source": [
    "plt.boxplot(meta.Tuoi)"
   ]
  },
  {
   "cell_type": "markdown",
   "metadata": {},
   "source": [
    "+ Note:\n",
    "    + Vậy độ tuổi của người nổi tiếng thường tập trung vào khoảng 55 đến 80 tuổi là chủ yếu"
   ]
  },
  {
   "attachments": {},
   "cell_type": "markdown",
   "metadata": {},
   "source": [
    "> ### Mối quan hệ giữa số lượng câu nói với tuổi của tác giả"
   ]
  },
  {
   "cell_type": "code",
   "execution_count": 158,
   "metadata": {},
   "outputs": [],
   "source": [
    "most_author.drop('age', axis=1, inplace=True)"
   ]
  },
  {
   "cell_type": "code",
   "execution_count": 159,
   "metadata": {},
   "outputs": [],
   "source": [
    "most_author['age'] = most_author.apply(lambda row: int(ages[row.Author]), axis=1)"
   ]
  },
  {
   "cell_type": "code",
   "execution_count": 160,
   "metadata": {},
   "outputs": [
    {
     "data": {
      "text/html": [
       "<div>\n",
       "<style scoped>\n",
       "    .dataframe tbody tr th:only-of-type {\n",
       "        vertical-align: middle;\n",
       "    }\n",
       "\n",
       "    .dataframe tbody tr th {\n",
       "        vertical-align: top;\n",
       "    }\n",
       "\n",
       "    .dataframe thead th {\n",
       "        text-align: right;\n",
       "    }\n",
       "</style>\n",
       "<table border=\"1\" class=\"dataframe\">\n",
       "  <thead>\n",
       "    <tr style=\"text-align: right;\">\n",
       "      <th></th>\n",
       "      <th>Author</th>\n",
       "      <th>Quantily</th>\n",
       "      <th>age</th>\n",
       "    </tr>\n",
       "  </thead>\n",
       "  <tbody>\n",
       "    <tr>\n",
       "      <th>0</th>\n",
       "      <td>Albert Einstein</td>\n",
       "      <td>10</td>\n",
       "      <td>76</td>\n",
       "    </tr>\n",
       "    <tr>\n",
       "      <th>26</th>\n",
       "      <td>J.K. Rowling</td>\n",
       "      <td>9</td>\n",
       "      <td>57</td>\n",
       "    </tr>\n",
       "    <tr>\n",
       "      <th>37</th>\n",
       "      <td>Marilyn Monroe</td>\n",
       "      <td>7</td>\n",
       "      <td>36</td>\n",
       "    </tr>\n",
       "    <tr>\n",
       "      <th>38</th>\n",
       "      <td>Mark Twain</td>\n",
       "      <td>6</td>\n",
       "      <td>74</td>\n",
       "    </tr>\n",
       "    <tr>\n",
       "      <th>11</th>\n",
       "      <td>Dr. Seuss</td>\n",
       "      <td>6</td>\n",
       "      <td>87</td>\n",
       "    </tr>\n",
       "  </tbody>\n",
       "</table>\n",
       "</div>"
      ],
      "text/plain": [
       "             Author  Quantily  age\n",
       "0   Albert Einstein        10   76\n",
       "26     J.K. Rowling         9   57\n",
       "37   Marilyn Monroe         7   36\n",
       "38       Mark Twain         6   74\n",
       "11        Dr. Seuss         6   87"
      ]
     },
     "execution_count": 160,
     "metadata": {},
     "output_type": "execute_result"
    }
   ],
   "source": [
    "most_author.head(5)"
   ]
  },
  {
   "cell_type": "code",
   "execution_count": 161,
   "metadata": {},
   "outputs": [
    {
     "data": {
      "text/plain": [
       "-0.1705322647453309"
      ]
     },
     "execution_count": 161,
     "metadata": {},
     "output_type": "execute_result"
    }
   ],
   "source": [
    "most_author.age.corr(most_author.Quantily)"
   ]
  },
  {
   "cell_type": "code",
   "execution_count": 167,
   "metadata": {},
   "outputs": [
    {
     "data": {
      "text/plain": [
       "<matplotlib.legend.Legend at 0x1e63640e260>"
      ]
     },
     "execution_count": 167,
     "metadata": {},
     "output_type": "execute_result"
    },
    {
     "data": {
      "image/png": "[encoded data removed]",
      "text/plain": [
       "<Figure size 640x480 with 1 Axes>"
      ]
     },
     "metadata": {},
     "output_type": "display_data"
    }
   ],
   "source": [
    "plt.plot(most_author.Author, most_author.age, label='Age author')\n",
    "plt.plot(most_author.Author, most_author.Quantily, label='Quantily quote')\n",
    "plt.legend()"
   ]
  },
  {
   "attachments": {},
   "cell_type": "markdown",
   "metadata": {},
   "source": [
    "+ Note:\n",
    "    + Việc có nhiều câu nói không phụ thuộc nhiều vào độ tuổi khoảng từ 25 trở lên"
   ]
  },
  {
   "attachments": {},
   "cell_type": "markdown",
   "metadata": {},
   "source": [
    "# 3.2.3. Trích xuất đặc trưng- Feature Extraction (5 điểm):\n"
   ]
  },
  {
   "cell_type": "code",
   "execution_count": 168,
   "metadata": {},
   "outputs": [],
   "source": [
    "# Để phục vụ cho việc phân tích và dự đoán thì các dữ liệu không phải dạng số chúng em sẽ mã hóa hoặc biến đổi về dạng int"
   ]
  },
  {
   "attachments": {},
   "cell_type": "markdown",
   "metadata": {},
   "source": [
    "> Split Namsinh"
   ]
  },
  {
   "cell_type": "code",
   "execution_count": 169,
   "metadata": {},
   "outputs": [
    {
     "data": {
      "text/html": [
       "<div>\n",
       "<style scoped>\n",
       "    .dataframe tbody tr th:only-of-type {\n",
       "        vertical-align: middle;\n",
       "    }\n",
       "\n",
       "    .dataframe tbody tr th {\n",
       "        vertical-align: top;\n",
       "    }\n",
       "\n",
       "    .dataframe thead th {\n",
       "        text-align: right;\n",
       "    }\n",
       "</style>\n",
       "<table border=\"1\" class=\"dataframe\">\n",
       "  <thead>\n",
       "    <tr style=\"text-align: right;\">\n",
       "      <th></th>\n",
       "      <th>Tacgia</th>\n",
       "      <th>Link</th>\n",
       "      <th>Namsinh</th>\n",
       "      <th>Quote</th>\n",
       "      <th>STT</th>\n",
       "      <th>Tuoi</th>\n",
       "      <th>quantity_quotes</th>\n",
       "    </tr>\n",
       "  </thead>\n",
       "  <tbody>\n",
       "    <tr>\n",
       "      <th>0</th>\n",
       "      <td>Albert Einstein</td>\n",
       "      <td>http://quotes.toscrape.com//author/Albert-Eins...</td>\n",
       "      <td>1879-03-14</td>\n",
       "      <td>“The world as we have created it is a process ...</td>\n",
       "      <td>0</td>\n",
       "      <td>76</td>\n",
       "      <td>21</td>\n",
       "    </tr>\n",
       "    <tr>\n",
       "      <th>1</th>\n",
       "      <td>J.K. Rowling</td>\n",
       "      <td>http://quotes.toscrape.com//author/J-K-Rowling</td>\n",
       "      <td>1965-07-31</td>\n",
       "      <td>“It is our choices, Harry, that show what we t...</td>\n",
       "      <td>1</td>\n",
       "      <td>57</td>\n",
       "      <td>16</td>\n",
       "    </tr>\n",
       "    <tr>\n",
       "      <th>2</th>\n",
       "      <td>Albert Einstein</td>\n",
       "      <td>http://quotes.toscrape.com//author/Albert-Eins...</td>\n",
       "      <td>1879-03-14</td>\n",
       "      <td>“There are only two ways to live your life. On...</td>\n",
       "      <td>2</td>\n",
       "      <td>76</td>\n",
       "      <td>26</td>\n",
       "    </tr>\n",
       "    <tr>\n",
       "      <th>3</th>\n",
       "      <td>Jane Austen</td>\n",
       "      <td>http://quotes.toscrape.com//author/Jane-Austen</td>\n",
       "      <td>1775-12-16</td>\n",
       "      <td>“The person, be it gentleman or lady, who has ...</td>\n",
       "      <td>3</td>\n",
       "      <td>41</td>\n",
       "      <td>19</td>\n",
       "    </tr>\n",
       "    <tr>\n",
       "      <th>4</th>\n",
       "      <td>Marilyn Monroe</td>\n",
       "      <td>http://quotes.toscrape.com//author/Marilyn-Monroe</td>\n",
       "      <td>1926-06-01</td>\n",
       "      <td>“Imperfection is beauty, madness is genius and...</td>\n",
       "      <td>4</td>\n",
       "      <td>36</td>\n",
       "      <td>16</td>\n",
       "    </tr>\n",
       "  </tbody>\n",
       "</table>\n",
       "</div>"
      ],
      "text/plain": [
       "            Tacgia                                               Link   \n",
       "0  Albert Einstein  http://quotes.toscrape.com//author/Albert-Eins...  \\\n",
       "1     J.K. Rowling     http://quotes.toscrape.com//author/J-K-Rowling   \n",
       "2  Albert Einstein  http://quotes.toscrape.com//author/Albert-Eins...   \n",
       "3      Jane Austen     http://quotes.toscrape.com//author/Jane-Austen   \n",
       "4   Marilyn Monroe  http://quotes.toscrape.com//author/Marilyn-Monroe   \n",
       "\n",
       "     Namsinh                                              Quote  STT  Tuoi   \n",
       "0 1879-03-14  “The world as we have created it is a process ...    0    76  \\\n",
       "1 1965-07-31  “It is our choices, Harry, that show what we t...    1    57   \n",
       "2 1879-03-14  “There are only two ways to live your life. On...    2    76   \n",
       "3 1775-12-16  “The person, be it gentleman or lady, who has ...    3    41   \n",
       "4 1926-06-01  “Imperfection is beauty, madness is genius and...    4    36   \n",
       "\n",
       "   quantity_quotes  \n",
       "0               21  \n",
       "1               16  \n",
       "2               26  \n",
       "3               19  \n",
       "4               16  "
      ]
     },
     "execution_count": 169,
     "metadata": {},
     "output_type": "execute_result"
    }
   ],
   "source": [
    "meta.head()"
   ]
  },
  {
   "cell_type": "code",
   "execution_count": 170,
   "metadata": {},
   "outputs": [],
   "source": [
    "meta['Year'] = meta['Namsinh'].dt.year\n",
    "meta['Month'] = meta['Namsinh'].dt.month\n",
    "meta['Day'] = meta['Namsinh'].dt.day"
   ]
  },
  {
   "cell_type": "code",
   "execution_count": 171,
   "metadata": {},
   "outputs": [],
   "source": [
    "meta.drop('Namsinh', axis=1, inplace=True)"
   ]
  },
  {
   "attachments": {},
   "cell_type": "markdown",
   "metadata": {},
   "source": [
    "> Mã hóa tên tác giả"
   ]
  },
  {
   "cell_type": "code",
   "execution_count": 176,
   "metadata": {},
   "outputs": [],
   "source": [
    "from sklearn.preprocessing import LabelEncoder\n",
    "encoder = LabelEncoder()\n",
    "meta['Tacgia'] = encoder.fit_transform(meta.Tacgia)"
   ]
  },
  {
   "cell_type": "code",
   "execution_count": 188,
   "metadata": {},
   "outputs": [
    {
     "data": {
      "text/plain": [
       "{'the': 555,\n",
       " 'world': 647,\n",
       " 'as': 43,\n",
       " 'we': 623,\n",
       " 'have': 261,\n",
       " 'created': 133,\n",
       " 'it': 306,\n",
       " 'is': 304,\n",
       " 'process': 464,\n",
       " 'of': 417,\n",
       " 'our': 435,\n",
       " 'thinking': 564,\n",
       " 'cannot': 93,\n",
       " 'be': 56,\n",
       " 'changed': 105,\n",
       " 'without': 642,\n",
       " 'changing': 106,\n",
       " 'choices': 113,\n",
       " 'harry': 257,\n",
       " 'that': 554,\n",
       " 'show': 501,\n",
       " 'what': 626,\n",
       " 'truly': 587,\n",
       " 'are': 39,\n",
       " 'far': 203,\n",
       " 'more': 390,\n",
       " 'than': 553,\n",
       " 'abilities': 2,\n",
       " 'there': 558,\n",
       " 'only': 425,\n",
       " 'two': 594,\n",
       " 'ways': 622,\n",
       " 'to': 575,\n",
       " 'live': 342,\n",
       " 'your': 660,\n",
       " 'life': 337,\n",
       " 'one': 423,\n",
       " 'though': 568,\n",
       " 'nothing': 413,\n",
       " 'miracle': 383,\n",
       " 'other': 434,\n",
       " 'everything': 188,\n",
       " 'person': 445,\n",
       " 'gentleman': 230,\n",
       " 'or': 431,\n",
       " 'lady': 324,\n",
       " 'who': 633,\n",
       " 'has': 258,\n",
       " 'not': 412,\n",
       " 'pleasure': 452,\n",
       " 'in': 290,\n",
       " 'good': 241,\n",
       " 'novel': 415,\n",
       " 'must': 397,\n",
       " 'intolerably': 302,\n",
       " 'stupid': 535,\n",
       " 'imperfection': 287,\n",
       " 'beauty': 58,\n",
       " 'madness': 366,\n",
       " 'genius': 229,\n",
       " 'and': 27,\n",
       " 'better': 71,\n",
       " 'absolutely': 5,\n",
       " 'ridiculous': 480,\n",
       " 'boring': 80,\n",
       " 'try': 590,\n",
       " 'become': 60,\n",
       " 'man': 370,\n",
       " 'success': 537,\n",
       " 'rather': 469,\n",
       " 'value': 607,\n",
       " 'hated': 260,\n",
       " 'for': 216,\n",
       " 'you': 658,\n",
       " 'loved': 355,\n",
       " 'failed': 197,\n",
       " 've': 608,\n",
       " 'just': 312,\n",
       " 'found': 220,\n",
       " '10': 1,\n",
       " '000': 0,\n",
       " 'won': 644,\n",
       " 'work': 646,\n",
       " 'woman': 643,\n",
       " 'like': 338,\n",
       " 'tea': 548,\n",
       " 'bag': 52,\n",
       " 'never': 406,\n",
       " 'know': 320,\n",
       " 'how': 279,\n",
       " 'strong': 534,\n",
       " 'until': 602,\n",
       " 'hot': 277,\n",
       " 'water': 620,\n",
       " 'day': 139,\n",
       " 'sunshine': 541,\n",
       " 'night': 409,\n",
       " 'this': 566,\n",
       " 'make': 367,\n",
       " 'no': 410,\n",
       " 'matter': 373,\n",
       " 're': 470,\n",
       " 'going': 238,\n",
       " 'mess': 379,\n",
       " 'up': 603,\n",
       " 'sometimes': 520,\n",
       " 'universal': 600,\n",
       " 'truth': 589,\n",
       " 'but': 89,\n",
       " 'part': 441,\n",
       " 'get': 231,\n",
       " 'decide': 144,\n",
       " 'girls': 233,\n",
       " 'will': 638,\n",
       " 'friends': 223,\n",
       " 'they': 560,\n",
       " 'll': 346,\n",
       " 'act': 9,\n",
       " 'anyway': 37,\n",
       " 'remember': 479,\n",
       " 'some': 516,\n",
       " 'come': 123,\n",
       " 'go': 235,\n",
       " 'ones': 424,\n",
       " 'stay': 530,\n",
       " 'with': 641,\n",
       " 'through': 572,\n",
       " 'true': 585,\n",
       " 'best': 70,\n",
       " 'don': 158,\n",
       " 'let': 333,\n",
       " 'them': 556,\n",
       " 'also': 22,\n",
       " 'sisters': 505,\n",
       " 'lovers': 357,\n",
       " 'well': 624,\n",
       " 'too': 579,\n",
       " 'baby': 50,\n",
       " 'hate': 259,\n",
       " 'say': 487,\n",
       " 'most': 391,\n",
       " 'actually': 10,\n",
       " 'pretty': 459,\n",
       " 'much': 394,\n",
       " 'all': 19,\n",
       " 'break': 87,\n",
       " 'heart': 266,\n",
       " 'can': 92,\n",
       " 'give': 234,\n",
       " 'because': 59,\n",
       " 'if': 283,\n",
       " 'find': 209,\n",
       " 'soulmate': 523,\n",
       " 'half': 248,\n",
       " 'makes': 368,\n",
       " 'whole': 634,\n",
       " 'goes': 237,\n",
       " 'fail': 196,\n",
       " 'once': 422,\n",
       " 'doesn': 157,\n",
       " 'mean': 377,\n",
       " 'gonna': 240,\n",
       " 'at': 45,\n",
       " 'keep': 313,\n",
       " 'trying': 591,\n",
       " 'hold': 274,\n",
       " 'on': 421,\n",
       " 'always': 23,\n",
       " 'believe': 68,\n",
       " 'yourself': 662,\n",
       " 'then': 557,\n",
       " 'sweetie': 543,\n",
       " 'so': 515,\n",
       " 'head': 264,\n",
       " 'high': 269,\n",
       " 'chin': 110,\n",
       " 'importantly': 288,\n",
       " 'smiling': 514,\n",
       " 'beautiful': 57,\n",
       " 'thing': 561,\n",
       " 'smile': 513,\n",
       " 'about': 3,\n",
       " 'takes': 545,\n",
       " 'great': 243,\n",
       " 'deal': 142,\n",
       " 'bravery': 86,\n",
       " 'stand': 526,\n",
       " 'enemies': 179,\n",
       " 'explain': 192,\n",
       " 'six': 508,\n",
       " 'year': 657,\n",
       " 'old': 420,\n",
       " 'understand': 598,\n",
       " 'may': 375,\n",
       " 'her': 267,\n",
       " 'first': 212,\n",
       " 'last': 326,\n",
       " 'she': 498,\n",
       " 'before': 62,\n",
       " 'love': 354,\n",
       " 'again': 15,\n",
       " 'loves': 358,\n",
       " 'now': 416,\n",
       " 'else': 175,\n",
       " 'matters': 374,\n",
       " 'perfect': 444,\n",
       " 'aren': 40,\n",
       " 'either': 174,\n",
       " 'together': 577,\n",
       " 'laugh': 328,\n",
       " 'cause': 98,\n",
       " 'think': 563,\n",
       " 'twice': 593,\n",
       " 'admit': 12,\n",
       " 'being': 66,\n",
       " 'human': 280,\n",
       " 'making': 369,\n",
       " 'mistakes': 388,\n",
       " 'onto': 426,\n",
       " 'every': 186,\n",
       " 'second': 490,\n",
       " 'knows': 322,\n",
       " 'hurt': 281,\n",
       " 'change': 104,\n",
       " 'analyze': 26,\n",
       " 'expect': 191,\n",
       " 'when': 627,\n",
       " 'happy': 256,\n",
       " 'mad': 363,\n",
       " 'miss': 386,\n",
       " 'nonsense': 411,\n",
       " 'wakes': 613,\n",
       " 'brain': 84,\n",
       " 'cells': 103,\n",
       " 'fantasy': 202,\n",
       " 'necessary': 402,\n",
       " 'ingredient': 293,\n",
       " 'living': 345,\n",
       " 'gone': 239,\n",
       " 'where': 629,\n",
       " 'intended': 298,\n",
       " 'ended': 178,\n",
       " 'needed': 404,\n",
       " 'opposite': 430,\n",
       " 'indifference': 292,\n",
       " 'art': 42,\n",
       " 'ugliness': 596,\n",
       " 'faith': 200,\n",
       " 'heresy': 268,\n",
       " 'death': 143,\n",
       " 'lack': 323,\n",
       " 'friendship': 224,\n",
       " 'unhappy': 599,\n",
       " 'marriages': 371,\n",
       " 'books': 79,\n",
       " 'sleepy': 511,\n",
       " 'conscience': 127,\n",
       " 'ideal': 282,\n",
       " 'happens': 254,\n",
       " 'us': 606,\n",
       " 'while': 632,\n",
       " 'plans': 451,\n",
       " 'knowing': 321,\n",
       " 'from': 225,\n",
       " 'simply': 503,\n",
       " 'problems': 463,\n",
       " 'pride': 460,\n",
       " 'way': 621,\n",
       " 'do': 155,\n",
       " 'any': 33,\n",
       " 'loving': 359,\n",
       " 'which': 631,\n",
       " 'intimate': 300,\n",
       " 'hand': 250,\n",
       " 'upon': 604,\n",
       " 'my': 398,\n",
       " 'chest': 108,\n",
       " 'fall': 201,\n",
       " 'asleep': 44,\n",
       " 'eyes': 194,\n",
       " 'close': 119,\n",
       " 'minute': 382,\n",
       " 'angry': 29,\n",
       " 'lose': 352,\n",
       " 'sixty': 509,\n",
       " 'seconds': 491,\n",
       " 'happiness': 255,\n",
       " 'judge': 310,\n",
       " 'people': 443,\n",
       " 'time': 573,\n",
       " 'anyone': 34,\n",
       " 'thinks': 565,\n",
       " 'sitting': 507,\n",
       " 'church': 116,\n",
       " 'christian': 114,\n",
       " 'garage': 227,\n",
       " 'car': 94,\n",
       " 'eye': 193,\n",
       " 'beholder': 65,\n",
       " 'misinformed': 385,\n",
       " 'black': 75,\n",
       " 'today': 576,\n",
       " 'truer': 586,\n",
       " 'alive': 18,\n",
       " 'youer': 659,\n",
       " 'want': 616,\n",
       " 'children': 109,\n",
       " 'intelligent': 297,\n",
       " 'read': 471,\n",
       " 'fairy': 199,\n",
       " 'tales': 546,\n",
       " 'impossible': 289,\n",
       " 'failing': 198,\n",
       " 'something': 519,\n",
       " 'unless': 601,\n",
       " 'cautiously': 100,\n",
       " 'might': 380,\n",
       " 'lived': 343,\n",
       " 'case': 96,\n",
       " 'by': 90,\n",
       " 'default': 146,\n",
       " 'logic': 348,\n",
       " 'imagination': 284,\n",
       " 'everywhere': 189,\n",
       " 'music': 395,\n",
       " 'hits': 272,\n",
       " 'feel': 205,\n",
       " 'pain': 438,\n",
       " 'things': 562,\n",
       " 'learn': 330,\n",
       " 'places': 450,\n",
       " 'course': 131,\n",
       " 'happening': 253,\n",
       " 'inside': 294,\n",
       " 'why': 637,\n",
       " 'earth': 170,\n",
       " 'should': 500,\n",
       " 'real': 476,\n",
       " 'everyone': 187,\n",
       " 'got': 242,\n",
       " 'worth': 648,\n",
       " 'suffering': 538,\n",
       " 'small': 512,\n",
       " 'organized': 433,\n",
       " 'mind': 381,\n",
       " 'next': 408,\n",
       " 'adventure': 13,\n",
       " 'need': 403,\n",
       " 'little': 341,\n",
       " 'chocolate': 111,\n",
       " 'alone': 20,\n",
       " 'fool': 215,\n",
       " 'point': 453,\n",
       " 'imagined': 285,\n",
       " 'paradise': 440,\n",
       " 'kind': 315,\n",
       " 'library': 334,\n",
       " 'late': 327,\n",
       " 'been': 61,\n",
       " 'reader': 472,\n",
       " 'lives': 344,\n",
       " 'thousand': 570,\n",
       " 'he': 263,\n",
       " 'dies': 150,\n",
       " 'said': 486,\n",
       " 'jojen': 309,\n",
       " 'reads': 474,\n",
       " 'cup': 136,\n",
       " 'large': 325,\n",
       " 'enough': 181,\n",
       " 'book': 78,\n",
       " 'long': 349,\n",
       " 'suit': 539,\n",
       " 'me': 376,\n",
       " 'lies': 336,\n",
       " 'eventually': 185,\n",
       " 'trust': 588,\n",
       " 'anything': 35,\n",
       " 'riding': 481,\n",
       " 'bicycle': 73,\n",
       " 'balance': 53,\n",
       " 'moving': 393,\n",
       " 'lover': 356,\n",
       " 'thrill': 571,\n",
       " 'kissing': 318,\n",
       " 'forehead': 217,\n",
       " 'into': 301,\n",
       " 'staring': 527,\n",
       " 'space': 524,\n",
       " 'wise': 639,\n",
       " 'girl': 232,\n",
       " 'kisses': 317,\n",
       " 'listens': 340,\n",
       " 'leaves': 331,\n",
       " 'left': 332,\n",
       " 'darkness': 138,\n",
       " 'see': 492,\n",
       " 'stars': 528,\n",
       " 'someone': 518,\n",
       " 'born': 81,\n",
       " 'grow': 244,\n",
       " 'does': 156,\n",
       " 'begin': 63,\n",
       " 'end': 177,\n",
       " 'seem': 493,\n",
       " 'battle': 55,\n",
       " 'war': 618,\n",
       " 'growing': 245,\n",
       " 'would': 650,\n",
       " 'those': 567,\n",
       " 'really': 477,\n",
       " 'notion': 414,\n",
       " 'halves': 249,\n",
       " 'nature': 400,\n",
       " 'scares': 488,\n",
       " 'am': 24,\n",
       " 'an': 25,\n",
       " 'angel': 28,\n",
       " 'sin': 504,\n",
       " 'devil': 148,\n",
       " 'big': 74,\n",
       " 'were': 625,\n",
       " 'physicist': 447,\n",
       " 'probably': 461,\n",
       " 'musician': 396,\n",
       " 'often': 418,\n",
       " 'daydreams': 140,\n",
       " 'terms': 550,\n",
       " 'reading': 473,\n",
       " 'difference': 151,\n",
       " 'between': 72,\n",
       " 'stupidity': 536,\n",
       " 'its': 307,\n",
       " 'limits': 339,\n",
       " 'drug': 167,\n",
       " 'bella': 69,\n",
       " 'friend': 222,\n",
       " 'loyal': 361,\n",
       " 'door': 160,\n",
       " 'closes': 121,\n",
       " 'another': 31,\n",
       " 'opens': 429,\n",
       " 'look': 350,\n",
       " 'closed': 120,\n",
       " 'opened': 428,\n",
       " 'isn': 305,\n",
       " 'finding': 210,\n",
       " 'creating': 134,\n",
       " 'problem': 462,\n",
       " 'drinking': 166,\n",
       " 'thought': 569,\n",
       " 'poured': 455,\n",
       " 'myself': 399,\n",
       " 'drink': 165,\n",
       " 'bad': 51,\n",
       " 'attempt': 46,\n",
       " 'forget': 219,\n",
       " 'order': 432,\n",
       " 'celebrate': 102,\n",
       " 'happen': 251,\n",
       " 'face': 195,\n",
       " 'was': 619,\n",
       " 'hope': 275,\n",
       " 'madly': 365,\n",
       " 'right': 482,\n",
       " 'kiss': 316,\n",
       " 'anytime': 36,\n",
       " 'vulnerable': 612,\n",
       " 'wrung': 656,\n",
       " 'possibly': 454,\n",
       " 'broken': 88,\n",
       " 'sure': 542,\n",
       " 'keeping': 314,\n",
       " 'intact': 296,\n",
       " 'even': 184,\n",
       " 'animal': 30,\n",
       " 'wrap': 651,\n",
       " 'carefully': 95,\n",
       " 'round': 484,\n",
       " 'hobbies': 273,\n",
       " 'luxuries': 362,\n",
       " 'avoid': 48,\n",
       " 'entanglements': 182,\n",
       " 'lock': 347,\n",
       " 'safe': 485,\n",
       " 'casket': 97,\n",
       " 'coffin': 122,\n",
       " 'selfishness': 494,\n",
       " 'dark': 137,\n",
       " 'motionless': 392,\n",
       " 'airless': 17,\n",
       " 'unbreakable': 597,\n",
       " 'impenetrable': 286,\n",
       " 'irredeemable': 303,\n",
       " 'wander': 615,\n",
       " 'lost': 353,\n",
       " 'pity': 448,\n",
       " 'dead': 141,\n",
       " 'above': 4,\n",
       " 'writing': 653,\n",
       " 'sit': 506,\n",
       " 'down': 163,\n",
       " 'typewriter': 595,\n",
       " 'bleed': 76,\n",
       " 'finish': 211,\n",
       " 'each': 169,\n",
       " 'done': 159,\n",
       " 'could': 129,\n",
       " 'blunders': 77,\n",
       " 'absurdities': 6,\n",
       " 'doubt': 161,\n",
       " 'crept': 135,\n",
       " 'soon': 521,\n",
       " 'tomorrow': 578,\n",
       " 'new': 407,\n",
       " 'shall': 497,\n",
       " 'serenely': 496,\n",
       " 'spirit': 525,\n",
       " 'encumbered': 176,\n",
       " 'schooling': 489,\n",
       " 'interfere': 299,\n",
       " 'education': 173,\n",
       " 'heard': 265,\n",
       " 'troubles': 584,\n",
       " 'ahead': 16,\n",
       " 'behind': 64,\n",
       " 'bought': 82,\n",
       " 'bat': 54,\n",
       " 'ready': 475,\n",
       " 'had': 247,\n",
       " 'flower': 213,\n",
       " 'walk': 614,\n",
       " 'garden': 228,\n",
       " 'forever': 218,\n",
       " 'crazy': 132,\n",
       " 'horrible': 276,\n",
       " 'lead': 329,\n",
       " 'trouble': 583,\n",
       " 'having': 262,\n",
       " 'open': 427,\n",
       " 'insist': 295,\n",
       " 'coming': 125,\n",
       " 'along': 21,\n",
       " 'put': 465,\n",
       " 'low': 360,\n",
       " 'oh': 419,\n",
       " 'knocks': 319,\n",
       " 'out': 436,\n",
       " 'wish': 640,\n",
       " 'author': 47,\n",
       " 'wrote': 655,\n",
       " 'terrific': 552,\n",
       " 'yours': 661,\n",
       " 'call': 91,\n",
       " 'him': 270,\n",
       " 'phone': 446,\n",
       " 'whenever': 628,\n",
       " 'felt': 206,\n",
       " 'reason': 478,\n",
       " 'talk': 547,\n",
       " 'whose': 636,\n",
       " 'answers': 32,\n",
       " 'accept': 7,\n",
       " 'dreamer': 164,\n",
       " 'someday': 517,\n",
       " 'join': 308,\n",
       " 'free': 221,\n",
       " 'prejudice': 457,\n",
       " 'equally': 183,\n",
       " 'question': 467,\n",
       " 'stop': 532,\n",
       " 'classic': 117,\n",
       " 'praise': 456,\n",
       " 'made': 364,\n",
       " 'mistake': 387,\n",
       " 'tried': 582,\n",
       " 'very': 609,\n",
       " 'rapid': 468,\n",
       " 'jumps': 311,\n",
       " 'admiration': 11,\n",
       " 'matrimony': 372,\n",
       " 'moment': 389,\n",
       " 'choice': 112,\n",
       " 'easy': 171,\n",
       " 'happened': 252,\n",
       " 'boy': 83,\n",
       " 'brave': 85,\n",
       " 'strayed': 533,\n",
       " 'across': 8,\n",
       " 'path': 442,\n",
       " 'lord': 351,\n",
       " 'voldemort': 611,\n",
       " 'cedric': 101,\n",
       " 'diggory': 153,\n",
       " 'declare': 145,\n",
       " 'after': 14,\n",
       " 'enjoyment': 180,\n",
       " 'sooner': 522,\n",
       " 'tires': 574,\n",
       " 'house': 278,\n",
       " 'own': 437,\n",
       " 'miserable': 384,\n",
       " 'excellent': 190,\n",
       " 'few': 207,\n",
       " 'whom': 635,\n",
       " 'still': 531,\n",
       " 'fewer': 208,\n",
       " 'dissatisfied': 154,\n",
       " 'confirms': 126,\n",
       " 'belief': 67,\n",
       " 'inconsistency': 291,\n",
       " 'characters': 107,\n",
       " 'dependence': 147,\n",
       " 'placed': 449,\n",
       " 'appearance': 38,\n",
       " 'merit': 378,\n",
       " 'sense': 495,\n",
       " 'start': 529,\n",
       " 'necessarily': 401,\n",
       " 'doubting': 162,\n",
       " 'god': 236,\n",
       " 'wondering': 645,\n",
       " 'painful': 439,\n",
       " 'turn': 592,\n",
       " 'fear': 204,\n",
       " 'follows': 214,\n",
       " 'fully': 226,\n",
       " 'prepared': 458,\n",
       " 'die': 149,\n",
       " 'lie': 335,\n",
       " 'travel': 580,\n",
       " 'around': 41,\n",
       " 'putting': 466,\n",
       " 'shoes': 499,\n",
       " 'christianity': 115,\n",
       " 'sun': 540,\n",
       " 'risen': 483,\n",
       " 'dumbledore': 168,\n",
       " 'sighed': 502,\n",
       " 'terrible': 551,\n",
       " 'therefore': 559,\n",
       " 'treated': 581,\n",
       " 'caution': 99,\n",
       " 'awfully': 49,\n",
       " 'courage': 130,\n",
       " 'comforted': 124,\n",
       " 'consider': 128,\n",
       " 'his': 271,\n",
       " 'view': 610,\n",
       " 'climb': 118,\n",
       " 'skin': 510,\n",
       " 'write': 652,\n",
       " 'wants': 617,\n",
       " 'written': 654,\n",
       " 'difficult': 152,\n",
       " 'grown': 246,\n",
       " 'ups': 605,\n",
       " 'tell': 549,\n",
       " 'worthy': 649,\n",
       " 'needs': 405,\n",
       " 'sword': 544,\n",
       " 'whetstone': 630,\n",
       " 'edge': 172}"
      ]
     },
     "execution_count": 188,
     "metadata": {},
     "output_type": "execute_result"
    }
   ],
   "source": [
    "from sklearn.feature_extraction.text import CountVectorizer\n",
    "vectorizer = CountVectorizer()\n",
    "vector = vectorizer.fit_transform(meta.Quote)\n",
    "vectorizer.vocabulary_"
   ]
  },
  {
   "cell_type": "code",
   "execution_count": 191,
   "metadata": {},
   "outputs": [
    {
     "name": "stdout",
     "output_type": "stream",
     "text": [
      "(100, 663)\n"
     ]
    }
   ],
   "source": [
    "print(vector.toarray().shape)"
   ]
  },
  {
   "cell_type": "code",
   "execution_count": 198,
   "metadata": {},
   "outputs": [
    {
     "data": {
      "text/html": [
       "<div>\n",
       "<style scoped>\n",
       "    .dataframe tbody tr th:only-of-type {\n",
       "        vertical-align: middle;\n",
       "    }\n",
       "\n",
       "    .dataframe tbody tr th {\n",
       "        vertical-align: top;\n",
       "    }\n",
       "\n",
       "    .dataframe thead th {\n",
       "        text-align: right;\n",
       "    }\n",
       "</style>\n",
       "<table border=\"1\" class=\"dataframe\">\n",
       "  <thead>\n",
       "    <tr style=\"text-align: right;\">\n",
       "      <th></th>\n",
       "      <th>Tacgia</th>\n",
       "      <th>Link</th>\n",
       "      <th>Quote</th>\n",
       "      <th>STT</th>\n",
       "      <th>Tuoi</th>\n",
       "      <th>quantity_quotes</th>\n",
       "      <th>Year</th>\n",
       "      <th>Month</th>\n",
       "      <th>Day</th>\n",
       "      <th>0</th>\n",
       "      <th>...</th>\n",
       "      <th>653</th>\n",
       "      <th>654</th>\n",
       "      <th>655</th>\n",
       "      <th>656</th>\n",
       "      <th>657</th>\n",
       "      <th>658</th>\n",
       "      <th>659</th>\n",
       "      <th>660</th>\n",
       "      <th>661</th>\n",
       "      <th>662</th>\n",
       "    </tr>\n",
       "  </thead>\n",
       "  <tbody>\n",
       "    <tr>\n",
       "      <th>0</th>\n",
       "      <td>0</td>\n",
       "      <td>http://quotes.toscrape.com//author/Albert-Eins...</td>\n",
       "      <td>“The world as we have created it is a process ...</td>\n",
       "      <td>0</td>\n",
       "      <td>76</td>\n",
       "      <td>21</td>\n",
       "      <td>1879</td>\n",
       "      <td>3</td>\n",
       "      <td>14</td>\n",
       "      <td>0</td>\n",
       "      <td>...</td>\n",
       "      <td>0</td>\n",
       "      <td>0</td>\n",
       "      <td>0</td>\n",
       "      <td>0</td>\n",
       "      <td>0</td>\n",
       "      <td>0</td>\n",
       "      <td>0</td>\n",
       "      <td>0</td>\n",
       "      <td>0</td>\n",
       "      <td>0</td>\n",
       "    </tr>\n",
       "    <tr>\n",
       "      <th>1</th>\n",
       "      <td>26</td>\n",
       "      <td>http://quotes.toscrape.com//author/J-K-Rowling</td>\n",
       "      <td>“It is our choices, Harry, that show what we t...</td>\n",
       "      <td>1</td>\n",
       "      <td>57</td>\n",
       "      <td>16</td>\n",
       "      <td>1965</td>\n",
       "      <td>7</td>\n",
       "      <td>31</td>\n",
       "      <td>0</td>\n",
       "      <td>...</td>\n",
       "      <td>0</td>\n",
       "      <td>0</td>\n",
       "      <td>0</td>\n",
       "      <td>0</td>\n",
       "      <td>0</td>\n",
       "      <td>0</td>\n",
       "      <td>0</td>\n",
       "      <td>0</td>\n",
       "      <td>0</td>\n",
       "      <td>0</td>\n",
       "    </tr>\n",
       "    <tr>\n",
       "      <th>2</th>\n",
       "      <td>0</td>\n",
       "      <td>http://quotes.toscrape.com//author/Albert-Eins...</td>\n",
       "      <td>“There are only two ways to live your life. On...</td>\n",
       "      <td>2</td>\n",
       "      <td>76</td>\n",
       "      <td>26</td>\n",
       "      <td>1879</td>\n",
       "      <td>3</td>\n",
       "      <td>14</td>\n",
       "      <td>0</td>\n",
       "      <td>...</td>\n",
       "      <td>0</td>\n",
       "      <td>0</td>\n",
       "      <td>0</td>\n",
       "      <td>0</td>\n",
       "      <td>0</td>\n",
       "      <td>0</td>\n",
       "      <td>0</td>\n",
       "      <td>1</td>\n",
       "      <td>0</td>\n",
       "      <td>0</td>\n",
       "    </tr>\n",
       "    <tr>\n",
       "      <th>3</th>\n",
       "      <td>30</td>\n",
       "      <td>http://quotes.toscrape.com//author/Jane-Austen</td>\n",
       "      <td>“The person, be it gentleman or lady, who has ...</td>\n",
       "      <td>3</td>\n",
       "      <td>41</td>\n",
       "      <td>19</td>\n",
       "      <td>1775</td>\n",
       "      <td>12</td>\n",
       "      <td>16</td>\n",
       "      <td>0</td>\n",
       "      <td>...</td>\n",
       "      <td>0</td>\n",
       "      <td>0</td>\n",
       "      <td>0</td>\n",
       "      <td>0</td>\n",
       "      <td>0</td>\n",
       "      <td>0</td>\n",
       "      <td>0</td>\n",
       "      <td>0</td>\n",
       "      <td>0</td>\n",
       "      <td>0</td>\n",
       "    </tr>\n",
       "    <tr>\n",
       "      <th>4</th>\n",
       "      <td>37</td>\n",
       "      <td>http://quotes.toscrape.com//author/Marilyn-Monroe</td>\n",
       "      <td>“Imperfection is beauty, madness is genius and...</td>\n",
       "      <td>4</td>\n",
       "      <td>36</td>\n",
       "      <td>16</td>\n",
       "      <td>1926</td>\n",
       "      <td>6</td>\n",
       "      <td>1</td>\n",
       "      <td>0</td>\n",
       "      <td>...</td>\n",
       "      <td>0</td>\n",
       "      <td>0</td>\n",
       "      <td>0</td>\n",
       "      <td>0</td>\n",
       "      <td>0</td>\n",
       "      <td>0</td>\n",
       "      <td>0</td>\n",
       "      <td>0</td>\n",
       "      <td>0</td>\n",
       "      <td>0</td>\n",
       "    </tr>\n",
       "  </tbody>\n",
       "</table>\n",
       "<p>5 rows × 672 columns</p>\n",
       "</div>"
      ],
      "text/plain": [
       "   Tacgia                                               Link   \n",
       "0       0  http://quotes.toscrape.com//author/Albert-Eins...  \\\n",
       "1      26     http://quotes.toscrape.com//author/J-K-Rowling   \n",
       "2       0  http://quotes.toscrape.com//author/Albert-Eins...   \n",
       "3      30     http://quotes.toscrape.com//author/Jane-Austen   \n",
       "4      37  http://quotes.toscrape.com//author/Marilyn-Monroe   \n",
       "\n",
       "                                               Quote  STT  Tuoi   \n",
       "0  “The world as we have created it is a process ...    0    76  \\\n",
       "1  “It is our choices, Harry, that show what we t...    1    57   \n",
       "2  “There are only two ways to live your life. On...    2    76   \n",
       "3  “The person, be it gentleman or lady, who has ...    3    41   \n",
       "4  “Imperfection is beauty, madness is genius and...    4    36   \n",
       "\n",
       "   quantity_quotes  Year  Month  Day  0  ...  653  654  655  656  657  658   \n",
       "0               21  1879      3   14  0  ...    0    0    0    0    0    0  \\\n",
       "1               16  1965      7   31  0  ...    0    0    0    0    0    0   \n",
       "2               26  1879      3   14  0  ...    0    0    0    0    0    0   \n",
       "3               19  1775     12   16  0  ...    0    0    0    0    0    0   \n",
       "4               16  1926      6    1  0  ...    0    0    0    0    0    0   \n",
       "\n",
       "   659  660  661  662  \n",
       "0    0    0    0    0  \n",
       "1    0    0    0    0  \n",
       "2    0    1    0    0  \n",
       "3    0    0    0    0  \n",
       "4    0    0    0    0  \n",
       "\n",
       "[5 rows x 672 columns]"
      ]
     },
     "execution_count": 198,
     "metadata": {},
     "output_type": "execute_result"
    }
   ],
   "source": [
    "meta_encod = pd.concat([meta, pd.DataFrame(vector.toarray())], axis=1)\n",
    "meta_encod.head(5)"
   ]
  },
  {
   "cell_type": "code",
   "execution_count": 199,
   "metadata": {},
   "outputs": [],
   "source": [
    "meta_encod.drop(['Quote', 'Link', 'STT'], axis=1, inplace=True)"
   ]
  },
  {
   "cell_type": "code",
   "execution_count": 200,
   "metadata": {},
   "outputs": [
    {
     "data": {
      "text/html": [
       "<div>\n",
       "<style scoped>\n",
       "    .dataframe tbody tr th:only-of-type {\n",
       "        vertical-align: middle;\n",
       "    }\n",
       "\n",
       "    .dataframe tbody tr th {\n",
       "        vertical-align: top;\n",
       "    }\n",
       "\n",
       "    .dataframe thead th {\n",
       "        text-align: right;\n",
       "    }\n",
       "</style>\n",
       "<table border=\"1\" class=\"dataframe\">\n",
       "  <thead>\n",
       "    <tr style=\"text-align: right;\">\n",
       "      <th></th>\n",
       "      <th>Tacgia</th>\n",
       "      <th>Tuoi</th>\n",
       "      <th>quantity_quotes</th>\n",
       "      <th>Year</th>\n",
       "      <th>Month</th>\n",
       "      <th>Day</th>\n",
       "      <th>0</th>\n",
       "      <th>1</th>\n",
       "      <th>2</th>\n",
       "      <th>3</th>\n",
       "      <th>...</th>\n",
       "      <th>653</th>\n",
       "      <th>654</th>\n",
       "      <th>655</th>\n",
       "      <th>656</th>\n",
       "      <th>657</th>\n",
       "      <th>658</th>\n",
       "      <th>659</th>\n",
       "      <th>660</th>\n",
       "      <th>661</th>\n",
       "      <th>662</th>\n",
       "    </tr>\n",
       "  </thead>\n",
       "  <tbody>\n",
       "    <tr>\n",
       "      <th>0</th>\n",
       "      <td>0</td>\n",
       "      <td>76</td>\n",
       "      <td>21</td>\n",
       "      <td>1879</td>\n",
       "      <td>3</td>\n",
       "      <td>14</td>\n",
       "      <td>0</td>\n",
       "      <td>0</td>\n",
       "      <td>0</td>\n",
       "      <td>0</td>\n",
       "      <td>...</td>\n",
       "      <td>0</td>\n",
       "      <td>0</td>\n",
       "      <td>0</td>\n",
       "      <td>0</td>\n",
       "      <td>0</td>\n",
       "      <td>0</td>\n",
       "      <td>0</td>\n",
       "      <td>0</td>\n",
       "      <td>0</td>\n",
       "      <td>0</td>\n",
       "    </tr>\n",
       "    <tr>\n",
       "      <th>1</th>\n",
       "      <td>26</td>\n",
       "      <td>57</td>\n",
       "      <td>16</td>\n",
       "      <td>1965</td>\n",
       "      <td>7</td>\n",
       "      <td>31</td>\n",
       "      <td>0</td>\n",
       "      <td>0</td>\n",
       "      <td>1</td>\n",
       "      <td>0</td>\n",
       "      <td>...</td>\n",
       "      <td>0</td>\n",
       "      <td>0</td>\n",
       "      <td>0</td>\n",
       "      <td>0</td>\n",
       "      <td>0</td>\n",
       "      <td>0</td>\n",
       "      <td>0</td>\n",
       "      <td>0</td>\n",
       "      <td>0</td>\n",
       "      <td>0</td>\n",
       "    </tr>\n",
       "    <tr>\n",
       "      <th>2</th>\n",
       "      <td>0</td>\n",
       "      <td>76</td>\n",
       "      <td>26</td>\n",
       "      <td>1879</td>\n",
       "      <td>3</td>\n",
       "      <td>14</td>\n",
       "      <td>0</td>\n",
       "      <td>0</td>\n",
       "      <td>0</td>\n",
       "      <td>0</td>\n",
       "      <td>...</td>\n",
       "      <td>0</td>\n",
       "      <td>0</td>\n",
       "      <td>0</td>\n",
       "      <td>0</td>\n",
       "      <td>0</td>\n",
       "      <td>0</td>\n",
       "      <td>0</td>\n",
       "      <td>1</td>\n",
       "      <td>0</td>\n",
       "      <td>0</td>\n",
       "    </tr>\n",
       "    <tr>\n",
       "      <th>3</th>\n",
       "      <td>30</td>\n",
       "      <td>41</td>\n",
       "      <td>19</td>\n",
       "      <td>1775</td>\n",
       "      <td>12</td>\n",
       "      <td>16</td>\n",
       "      <td>0</td>\n",
       "      <td>0</td>\n",
       "      <td>0</td>\n",
       "      <td>0</td>\n",
       "      <td>...</td>\n",
       "      <td>0</td>\n",
       "      <td>0</td>\n",
       "      <td>0</td>\n",
       "      <td>0</td>\n",
       "      <td>0</td>\n",
       "      <td>0</td>\n",
       "      <td>0</td>\n",
       "      <td>0</td>\n",
       "      <td>0</td>\n",
       "      <td>0</td>\n",
       "    </tr>\n",
       "    <tr>\n",
       "      <th>4</th>\n",
       "      <td>37</td>\n",
       "      <td>36</td>\n",
       "      <td>16</td>\n",
       "      <td>1926</td>\n",
       "      <td>6</td>\n",
       "      <td>1</td>\n",
       "      <td>0</td>\n",
       "      <td>0</td>\n",
       "      <td>0</td>\n",
       "      <td>0</td>\n",
       "      <td>...</td>\n",
       "      <td>0</td>\n",
       "      <td>0</td>\n",
       "      <td>0</td>\n",
       "      <td>0</td>\n",
       "      <td>0</td>\n",
       "      <td>0</td>\n",
       "      <td>0</td>\n",
       "      <td>0</td>\n",
       "      <td>0</td>\n",
       "      <td>0</td>\n",
       "    </tr>\n",
       "    <tr>\n",
       "      <th>...</th>\n",
       "      <td>...</td>\n",
       "      <td>...</td>\n",
       "      <td>...</td>\n",
       "      <td>...</td>\n",
       "      <td>...</td>\n",
       "      <td>...</td>\n",
       "      <td>...</td>\n",
       "      <td>...</td>\n",
       "      <td>...</td>\n",
       "      <td>...</td>\n",
       "      <td>...</td>\n",
       "      <td>...</td>\n",
       "      <td>...</td>\n",
       "      <td>...</td>\n",
       "      <td>...</td>\n",
       "      <td>...</td>\n",
       "      <td>...</td>\n",
       "      <td>...</td>\n",
       "      <td>...</td>\n",
       "      <td>...</td>\n",
       "      <td>...</td>\n",
       "    </tr>\n",
       "    <tr>\n",
       "      <th>95</th>\n",
       "      <td>22</td>\n",
       "      <td>89</td>\n",
       "      <td>27</td>\n",
       "      <td>1926</td>\n",
       "      <td>4</td>\n",
       "      <td>28</td>\n",
       "      <td>0</td>\n",
       "      <td>0</td>\n",
       "      <td>0</td>\n",
       "      <td>0</td>\n",
       "      <td>...</td>\n",
       "      <td>0</td>\n",
       "      <td>0</td>\n",
       "      <td>0</td>\n",
       "      <td>0</td>\n",
       "      <td>0</td>\n",
       "      <td>3</td>\n",
       "      <td>0</td>\n",
       "      <td>0</td>\n",
       "      <td>0</td>\n",
       "      <td>0</td>\n",
       "    </tr>\n",
       "    <tr>\n",
       "      <th>96</th>\n",
       "      <td>36</td>\n",
       "      <td>88</td>\n",
       "      <td>27</td>\n",
       "      <td>1918</td>\n",
       "      <td>11</td>\n",
       "      <td>29</td>\n",
       "      <td>0</td>\n",
       "      <td>0</td>\n",
       "      <td>0</td>\n",
       "      <td>0</td>\n",
       "      <td>...</td>\n",
       "      <td>0</td>\n",
       "      <td>1</td>\n",
       "      <td>0</td>\n",
       "      <td>0</td>\n",
       "      <td>0</td>\n",
       "      <td>2</td>\n",
       "      <td>0</td>\n",
       "      <td>0</td>\n",
       "      <td>0</td>\n",
       "      <td>0</td>\n",
       "    </tr>\n",
       "    <tr>\n",
       "      <th>97</th>\n",
       "      <td>38</td>\n",
       "      <td>74</td>\n",
       "      <td>12</td>\n",
       "      <td>1835</td>\n",
       "      <td>11</td>\n",
       "      <td>30</td>\n",
       "      <td>0</td>\n",
       "      <td>0</td>\n",
       "      <td>0</td>\n",
       "      <td>0</td>\n",
       "      <td>...</td>\n",
       "      <td>0</td>\n",
       "      <td>0</td>\n",
       "      <td>0</td>\n",
       "      <td>0</td>\n",
       "      <td>0</td>\n",
       "      <td>0</td>\n",
       "      <td>0</td>\n",
       "      <td>0</td>\n",
       "      <td>0</td>\n",
       "      <td>0</td>\n",
       "    </tr>\n",
       "    <tr>\n",
       "      <th>98</th>\n",
       "      <td>11</td>\n",
       "      <td>87</td>\n",
       "      <td>8</td>\n",
       "      <td>1904</td>\n",
       "      <td>3</td>\n",
       "      <td>2</td>\n",
       "      <td>0</td>\n",
       "      <td>0</td>\n",
       "      <td>0</td>\n",
       "      <td>0</td>\n",
       "      <td>...</td>\n",
       "      <td>0</td>\n",
       "      <td>0</td>\n",
       "      <td>0</td>\n",
       "      <td>0</td>\n",
       "      <td>0</td>\n",
       "      <td>0</td>\n",
       "      <td>0</td>\n",
       "      <td>0</td>\n",
       "      <td>0</td>\n",
       "      <td>0</td>\n",
       "    </tr>\n",
       "    <tr>\n",
       "      <th>99</th>\n",
       "      <td>21</td>\n",
       "      <td>74</td>\n",
       "      <td>18</td>\n",
       "      <td>1948</td>\n",
       "      <td>9</td>\n",
       "      <td>20</td>\n",
       "      <td>0</td>\n",
       "      <td>0</td>\n",
       "      <td>0</td>\n",
       "      <td>0</td>\n",
       "      <td>...</td>\n",
       "      <td>0</td>\n",
       "      <td>0</td>\n",
       "      <td>0</td>\n",
       "      <td>0</td>\n",
       "      <td>0</td>\n",
       "      <td>0</td>\n",
       "      <td>0</td>\n",
       "      <td>0</td>\n",
       "      <td>0</td>\n",
       "      <td>0</td>\n",
       "    </tr>\n",
       "  </tbody>\n",
       "</table>\n",
       "<p>100 rows × 669 columns</p>\n",
       "</div>"
      ],
      "text/plain": [
       "    Tacgia  Tuoi  quantity_quotes  Year  Month  Day  0  1  2  3  ...  653   \n",
       "0        0    76               21  1879      3   14  0  0  0  0  ...    0  \\\n",
       "1       26    57               16  1965      7   31  0  0  1  0  ...    0   \n",
       "2        0    76               26  1879      3   14  0  0  0  0  ...    0   \n",
       "3       30    41               19  1775     12   16  0  0  0  0  ...    0   \n",
       "4       37    36               16  1926      6    1  0  0  0  0  ...    0   \n",
       "..     ...   ...              ...   ...    ...  ... .. .. .. ..  ...  ...   \n",
       "95      22    89               27  1926      4   28  0  0  0  0  ...    0   \n",
       "96      36    88               27  1918     11   29  0  0  0  0  ...    0   \n",
       "97      38    74               12  1835     11   30  0  0  0  0  ...    0   \n",
       "98      11    87                8  1904      3    2  0  0  0  0  ...    0   \n",
       "99      21    74               18  1948      9   20  0  0  0  0  ...    0   \n",
       "\n",
       "    654  655  656  657  658  659  660  661  662  \n",
       "0     0    0    0    0    0    0    0    0    0  \n",
       "1     0    0    0    0    0    0    0    0    0  \n",
       "2     0    0    0    0    0    0    1    0    0  \n",
       "3     0    0    0    0    0    0    0    0    0  \n",
       "4     0    0    0    0    0    0    0    0    0  \n",
       "..  ...  ...  ...  ...  ...  ...  ...  ...  ...  \n",
       "95    0    0    0    0    3    0    0    0    0  \n",
       "96    1    0    0    0    2    0    0    0    0  \n",
       "97    0    0    0    0    0    0    0    0    0  \n",
       "98    0    0    0    0    0    0    0    0    0  \n",
       "99    0    0    0    0    0    0    0    0    0  \n",
       "\n",
       "[100 rows x 669 columns]"
      ]
     },
     "execution_count": 200,
     "metadata": {},
     "output_type": "execute_result"
    }
   ],
   "source": [
    "meta_encod"
   ]
  },
  {
   "cell_type": "markdown",
   "metadata": {},
   "source": [
    "> Hiển thị độ tương quan "
   ]
  },
  {
   "cell_type": "code",
   "execution_count": 204,
   "metadata": {},
   "outputs": [
    {
     "data": {
      "text/plain": [
       "Text(0.5, 1.0, 'Correlation Heatmap')"
      ]
     },
     "execution_count": 204,
     "metadata": {},
     "output_type": "execute_result"
    },
    {
     "data": {
      "image/png": "[encoded data removed]",
      "text/plain": [
       "<Figure size 2000x2000 with 2 Axes>"
      ]
     },
     "metadata": {},
     "output_type": "display_data"
    }
   ],
   "source": [
    "plt.figure(figsize=(20, 20))\n",
    "heatmap = sns.heatmap(meta_encod[[\"Tacgia\"\t,\"Tuoi\",\t\"quantity_quotes\",\t\"Year\"\t,\"Month\"\t,\"Day\"]].corr(),linewidths=0.1,vmax=1.0,vmin=0, \n",
    "            square=True, cmap=\"Blues\", linecolor='white', annot=True)\n",
    "heatmap.set_title('Correlation Heatmap', fontdict={'fontsize':12}, pad=12)"
   ]
  },
  {
   "attachments": {},
   "cell_type": "markdown",
   "metadata": {},
   "source": [
    "+ Note:\n",
    "    + Sau khi mã hóa và tạo thêm khá nhiều cột mới, thì e sẽ lấy tất cả các feature trừ các feature  'Quote', 'Link', 'STT', 'Ngaysinh', 'quantity_quotes'\n",
    "    + Lý do chọn các trường này vì có mức độ tương quan với biến target tác giả khá cao và một số trường bị loại bỏ là do đã chuyển đổi sang một định dạng mới"
   ]
  },
  {
   "cell_type": "code",
   "execution_count": 208,
   "metadata": {},
   "outputs": [],
   "source": [
    "meta_encod.drop('quantity_quotes', axis=1, inplace=True)"
   ]
  },
  {
   "attachments": {},
   "cell_type": "markdown",
   "metadata": {},
   "source": [
    "> Chọn features và target"
   ]
  },
  {
   "cell_type": "code",
   "execution_count": 212,
   "metadata": {},
   "outputs": [],
   "source": [
    "features = meta_encod.columns.drop('Tacgia')\n",
    "target = 'Tacgia'"
   ]
  },
  {
   "attachments": {},
   "cell_type": "markdown",
   "metadata": {},
   "source": [
    "# 3.2.4. Suy luận (15 điểm): \n"
   ]
  },
  {
   "cell_type": "code",
   "execution_count": 237,
   "metadata": {},
   "outputs": [],
   "source": [
    "from sklearn.ensemble import RandomForestClassifier\n",
    "from sklearn.model_selection import train_test_split\n",
    "from sklearn.tree import DecisionTreeClassifier"
   ]
  },
  {
   "cell_type": "code",
   "execution_count": 216,
   "metadata": {},
   "outputs": [],
   "source": [
    "\n",
    "X_train, X_test, y_train, y_test = train_test_split(meta_encod[features], meta_encod[target], test_size = 0.2, random_state = 42)"
   ]
  },
  {
   "cell_type": "code",
   "execution_count": 238,
   "metadata": {},
   "outputs": [],
   "source": [
    "class Mode:\n",
    "    def __init__(self, model, name_model):\n",
    "        self.model = model\n",
    "        self.name_model = name_model\n",
    "        self.X_train, self.X_test, self.y_train, self.y_test = X_train, X_test, y_train, y_test\n",
    "\n",
    "    def process_model(self):\n",
    "        self.model.fit(self.X_train, self.y_train)\n",
    "        y_pred_en = self.model.predict(X_test)\n",
    "        print(f'Model {self.name_model} accuracy score = {accuracy_score(y_test, y_pred_en)}')"
   ]
  },
  {
   "cell_type": "code",
   "execution_count": 239,
   "metadata": {},
   "outputs": [],
   "source": [
    "Modes = [\n",
    "    (DecisionTreeClassifier(criterion='entropy', max_depth=3, random_state=0), 'Decision-Tree'),\n",
    "    (RandomForestClassifier(n_estimators=100, random_state=0), 'Random Forest')\n",
    "]"
   ]
  },
  {
   "cell_type": "code",
   "execution_count": 240,
   "metadata": {},
   "outputs": [
    {
     "name": "stdout",
     "output_type": "stream",
     "text": [
      "Model Decision-Tree accuracy score = 0.55\n",
      "Model Random Forest accuracy score = 0.65\n"
     ]
    },
    {
     "name": "stderr",
     "output_type": "stream",
     "text": [
      "c:\\Users\\nguye\\AppData\\Local\\Programs\\Python\\Python310\\lib\\site-packages\\sklearn\\utils\\validation.py:1854: FutureWarning:\n",
      "\n",
      "Feature names only support names that are all strings. Got feature names with dtypes: ['int', 'str']. An error will be raised in 1.2.\n",
      "\n",
      "c:\\Users\\nguye\\AppData\\Local\\Programs\\Python\\Python310\\lib\\site-packages\\sklearn\\utils\\validation.py:1854: FutureWarning:\n",
      "\n",
      "Feature names only support names that are all strings. Got feature names with dtypes: ['int', 'str']. An error will be raised in 1.2.\n",
      "\n",
      "c:\\Users\\nguye\\AppData\\Local\\Programs\\Python\\Python310\\lib\\site-packages\\sklearn\\utils\\validation.py:1854: FutureWarning:\n",
      "\n",
      "Feature names only support names that are all strings. Got feature names with dtypes: ['int', 'str']. An error will be raised in 1.2.\n",
      "\n",
      "c:\\Users\\nguye\\AppData\\Local\\Programs\\Python\\Python310\\lib\\site-packages\\sklearn\\utils\\validation.py:1854: FutureWarning:\n",
      "\n",
      "Feature names only support names that are all strings. Got feature names with dtypes: ['int', 'str']. An error will be raised in 1.2.\n",
      "\n"
     ]
    }
   ],
   "source": [
    "for mode in Modes:\n",
    "    m =Mode(mode[0], mode[1])\n",
    "    m.process_model()\n"
   ]
  },
  {
   "attachments": {},
   "cell_type": "markdown",
   "metadata": {},
   "source": [
    "### - Hãy đề xuất cách tính độ tương đồng phong cách nói giữa các tác giả và tìm ra các tác giả có phong cách nói tương đồng nhau nhất? (5 điểm)"
   ]
  },
  {
   "cell_type": "markdown",
   "metadata": {},
   "source": [
    "+ Đối với câu hỏi này thì để đánh giá được phong cách thì chính là đánh giá về mức độ trùng nhau giữa các câu chữ của 2 tác giả"
   ]
  }
 ],
 "metadata": {
  "kernelspec": {
   "display_name": "Python 3",
   "language": "python",
   "name": "python3"
  },
  "language_info": {
   "codemirror_mode": {
    "name": "ipython",
    "version": 3
   },
   "file_extension": ".py",
   "mimetype": "text/x-python",
   "name": "python",
   "nbconvert_exporter": "python",
   "pygments_lexer": "ipython3",
   "version": "3.10.4"
  },
  "orig_nbformat": 4
 },
 "nbformat": 4,
 "nbformat_minor": 2
}
